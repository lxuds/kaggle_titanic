{
 "cells": [
  {
   "cell_type": "code",
   "execution_count": 4,
   "metadata": {
    "collapsed": false,
    "deletable": true,
    "editable": true
   },
   "outputs": [],
   "source": [
    "\n",
    "import warnings\n",
    "warnings.filterwarnings(\"ignore\")\n",
    "import pandas as pd\n",
    "from pandas import Series,DataFrame\n",
    "import numpy as np\n",
    "from matplotlib import cm\n",
    "import matplotlib.pyplot as plt\n",
    "import seaborn as sns\n",
    "#import xgboost as xgb\n",
    "sns.set_style('whitegrid') \n",
    "%matplotlib inline\n",
    "\n",
    "from sklearn.ensemble import ExtraTreesClassifier\n",
    "from sklearn.model_selection import GridSearchCV\n",
    "from sklearn import pipeline, grid_search\n",
    "\n",
    "import random\n",
    "random.seed(2016)\n",
    "\n",
    "import time"
   ]
  },
  {
   "cell_type": "code",
   "execution_count": 6,
   "metadata": {
    "collapsed": false,
    "deletable": true,
    "editable": true,
    "scrolled": true
   },
   "outputs": [
    {
     "name": "stdout",
     "output_type": "stream",
     "text": [
      "--- Features Set: 0.0 minutes ---\n",
      "('Number of Features: ', 44)\n",
      "Fitting 10 folds for each of 40 candidates, totalling 400 fits\n",
      "[CV] max_features=7, n_estimators=50 .................................\n",
      "[CV] max_features=7, n_estimators=50 .................................\n",
      "[CV] max_features=7, n_estimators=50 .................................\n",
      "[CV] max_features=7, n_estimators=50 .................................\n",
      "[CV] max_features=7, n_estimators=50 .................................\n"
     ]
    },
    {
     "name": "stderr",
     "output_type": "stream",
     "text": [
      "[Parallel(n_jobs=1)]: Done  50 out of  50 | elapsed:    0.1s finished\n",
      "[Parallel(n_jobs=1)]: Done  50 out of  50 | elapsed:    0.1s finished\n",
      "[Parallel(n_jobs=1)]: Done  50 out of  50 | elapsed:    0.0s finished\n"
     ]
    },
    {
     "name": "stdout",
     "output_type": "stream",
     "text": [
      "[CV] ........ max_features=7, n_estimators=50, score=0.752809 -   0.3s\n",
      "[CV] max_features=7, n_estimators=50 .................................\n"
     ]
    },
    {
     "name": "stderr",
     "output_type": "stream",
     "text": [
      "[Parallel(n_jobs=1)]: Done  50 out of  50 | elapsed:    0.1s finished\n"
     ]
    },
    {
     "name": "stdout",
     "output_type": "stream",
     "text": [
      "[CV] ........ max_features=7, n_estimators=50, score=0.788889 -   0.5s\n",
      "[CV] max_features=7, n_estimators=50 .................................\n"
     ]
    },
    {
     "name": "stderr",
     "output_type": "stream",
     "text": [
      "[Parallel(n_jobs=1)]: Done  50 out of  50 | elapsed:    0.2s finished\n",
      "[Parallel(n_jobs=1)]: Done  50 out of  50 | elapsed:    0.2s finished\n",
      "[Parallel(n_jobs=5)]: Done   1 tasks      | elapsed:    0.4s\n",
      "[Parallel(n_jobs=5)]: Done   2 tasks      | elapsed:    0.5s\n",
      "[Parallel(n_jobs=1)]: Done  50 out of  50 | elapsed:    0.1s finished\n",
      "[Parallel(n_jobs=1)]: Done  50 out of  50 | elapsed:    0.2s finished\n"
     ]
    },
    {
     "name": "stdout",
     "output_type": "stream",
     "text": [
      "[CV] ........ max_features=7, n_estimators=50, score=0.800000 -   0.6s\n"
     ]
    },
    {
     "name": "stderr",
     "output_type": "stream",
     "text": [
      "[Parallel(n_jobs=1)]: Done  50 out of  50 | elapsed:    0.1s finished\n"
     ]
    },
    {
     "name": "stdout",
     "output_type": "stream",
     "text": [
      "[CV] max_features=7, n_estimators=50 .................................\n",
      "[CV] ........ max_features=7, n_estimators=50, score=0.820225 -   0.6s\n"
     ]
    },
    {
     "name": "stderr",
     "output_type": "stream",
     "text": [
      "[Parallel(n_jobs=1)]: Done  50 out of  50 | elapsed:    0.1s finished\n"
     ]
    },
    {
     "name": "stdout",
     "output_type": "stream",
     "text": [
      "[CV] max_features=7, n_estimators=50 .................................\n",
      "[CV] ........ max_features=7, n_estimators=50, score=0.853933 -   0.7s\n",
      "[CV] max_features=7, n_estimators=50 .................................\n"
     ]
    },
    {
     "name": "stderr",
     "output_type": "stream",
     "text": [
      "[Parallel(n_jobs=5)]: Done   3 tasks      | elapsed:    0.7s\n",
      "[Parallel(n_jobs=5)]: Done   4 tasks      | elapsed:    0.7s\n",
      "[Parallel(n_jobs=5)]: Done   5 tasks      | elapsed:    0.8s\n",
      "[Parallel(n_jobs=1)]: Done  50 out of  50 | elapsed:    0.2s finished\n",
      "[Parallel(n_jobs=1)]: Done  50 out of  50 | elapsed:    0.1s finished\n",
      "[Parallel(n_jobs=1)]: Done  50 out of  50 | elapsed:    0.3s finished\n"
     ]
    },
    {
     "name": "stdout",
     "output_type": "stream",
     "text": [
      "[CV] ........ max_features=7, n_estimators=50, score=0.853933 -   0.6s\n",
      "[CV] max_features=7, n_estimators=100 ................................\n"
     ]
    },
    {
     "name": "stderr",
     "output_type": "stream",
     "text": [
      "[Parallel(n_jobs=1)]: Done  50 out of  50 | elapsed:    0.1s finished\n",
      "[Parallel(n_jobs=1)]: Done  50 out of  50 | elapsed:    0.0s finished\n"
     ]
    },
    {
     "name": "stdout",
     "output_type": "stream",
     "text": [
      "[CV] ........ max_features=7, n_estimators=50, score=0.842697 -   0.6s\n",
      "[CV] max_features=7, n_estimators=100 ................................\n"
     ]
    },
    {
     "name": "stderr",
     "output_type": "stream",
     "text": [
      "[Parallel(n_jobs=1)]: Done  50 out of  50 | elapsed:    0.2s finished\n",
      "[Parallel(n_jobs=1)]: Done  50 out of  50 | elapsed:    0.1s finished\n"
     ]
    },
    {
     "name": "stdout",
     "output_type": "stream",
     "text": [
      "[CV] ........ max_features=7, n_estimators=50, score=0.820225 -   0.5s\n"
     ]
    },
    {
     "name": "stderr",
     "output_type": "stream",
     "text": [
      "[Parallel(n_jobs=1)]: Done  50 out of  50 | elapsed:    0.1s finished\n"
     ]
    },
    {
     "name": "stdout",
     "output_type": "stream",
     "text": [
      "[CV] max_features=7, n_estimators=100 ................................\n",
      "[CV] ........ max_features=7, n_estimators=50, score=0.840909 -   0.5s\n"
     ]
    },
    {
     "name": "stderr",
     "output_type": "stream",
     "text": [
      "[Parallel(n_jobs=5)]: Done   6 tasks      | elapsed:    1.1s\n",
      "[Parallel(n_jobs=5)]: Done   7 tasks      | elapsed:    1.1s\n",
      "[Parallel(n_jobs=5)]: Done   8 tasks      | elapsed:    1.2s\n",
      "[Parallel(n_jobs=5)]: Done   9 tasks      | elapsed:    1.3s\n"
     ]
    },
    {
     "name": "stdout",
     "output_type": "stream",
     "text": [
      "[CV] max_features=7, n_estimators=100 ................................\n"
     ]
    },
    {
     "name": "stderr",
     "output_type": "stream",
     "text": [
      "[Parallel(n_jobs=1)]: Done  50 out of  50 | elapsed:    0.2s finished\n",
      "[Parallel(n_jobs=1)]: Done  50 out of  50 | elapsed:    0.1s finished\n"
     ]
    },
    {
     "name": "stdout",
     "output_type": "stream",
     "text": [
      "[CV] ........ max_features=7, n_estimators=50, score=0.786517 -   0.8s\n",
      "[CV] max_features=7, n_estimators=100 ................................\n"
     ]
    },
    {
     "name": "stderr",
     "output_type": "stream",
     "text": [
      "[Parallel(n_jobs=5)]: Done  10 tasks      | elapsed:    1.6s\n",
      "[Parallel(n_jobs=1)]: Done 100 out of 100 | elapsed:    0.2s finished\n",
      "[Parallel(n_jobs=1)]: Done 100 out of 100 | elapsed:    0.4s finished\n",
      "[Parallel(n_jobs=1)]: Done 100 out of 100 | elapsed:    0.1s finished\n"
     ]
    },
    {
     "name": "stdout",
     "output_type": "stream",
     "text": [
      "[CV] ....... max_features=7, n_estimators=100, score=0.788889 -   0.9s\n",
      "[CV] max_features=7, n_estimators=100 ................................\n"
     ]
    },
    {
     "name": "stderr",
     "output_type": "stream",
     "text": [
      "[Parallel(n_jobs=1)]: Done 100 out of 100 | elapsed:    0.1s finished\n",
      "[Parallel(n_jobs=1)]: Done 100 out of 100 | elapsed:    0.3s finished\n"
     ]
    },
    {
     "name": "stdout",
     "output_type": "stream",
     "text": [
      "[CV] ....... max_features=7, n_estimators=100, score=0.811111 -   1.0s\n",
      "[CV] max_features=7, n_estimators=100 ................................\n"
     ]
    },
    {
     "name": "stderr",
     "output_type": "stream",
     "text": [
      "[Parallel(n_jobs=1)]: Done 100 out of 100 | elapsed:    0.2s finished\n",
      "[Parallel(n_jobs=1)]: Done 100 out of 100 | elapsed:    0.1s finished\n"
     ]
    },
    {
     "name": "stdout",
     "output_type": "stream",
     "text": [
      "[CV] ....... max_features=7, n_estimators=100, score=0.820225 -   0.9s\n",
      "[CV] max_features=7, n_estimators=100 ................................\n"
     ]
    },
    {
     "name": "stderr",
     "output_type": "stream",
     "text": [
      "[Parallel(n_jobs=5)]: Done  11 tasks      | elapsed:    2.1s\n",
      "[Parallel(n_jobs=5)]: Done  12 tasks      | elapsed:    2.1s\n",
      "[Parallel(n_jobs=5)]: Done  13 tasks      | elapsed:    2.2s\n",
      "[Parallel(n_jobs=1)]: Done 100 out of 100 | elapsed:    0.1s finished\n",
      "[Parallel(n_jobs=1)]: Done 100 out of 100 | elapsed:    0.3s finished\n"
     ]
    },
    {
     "name": "stdout",
     "output_type": "stream",
     "text": [
      "[CV] ....... max_features=7, n_estimators=100, score=0.820225 -   0.7s\n",
      "[CV] max_features=7, n_estimators=100 ................................\n"
     ]
    },
    {
     "name": "stderr",
     "output_type": "stream",
     "text": [
      "[Parallel(n_jobs=1)]: Done 100 out of 100 | elapsed:    0.2s finished\n"
     ]
    },
    {
     "name": "stdout",
     "output_type": "stream",
     "text": [
      "[CV] ....... max_features=7, n_estimators=100, score=0.764045 -   1.2s\n",
      "[CV] max_features=7, n_estimators=100 ................................\n"
     ]
    },
    {
     "name": "stderr",
     "output_type": "stream",
     "text": [
      "[Parallel(n_jobs=5)]: Done  14 tasks      | elapsed:    2.3s\n",
      "[Parallel(n_jobs=5)]: Done  15 tasks      | elapsed:    2.5s\n",
      "[Parallel(n_jobs=1)]: Done 100 out of 100 | elapsed:    0.3s finished\n",
      "[Parallel(n_jobs=1)]: Done 100 out of 100 | elapsed:    0.2s finished\n"
     ]
    },
    {
     "name": "stdout",
     "output_type": "stream",
     "text": [
      "[CV] ....... max_features=7, n_estimators=100, score=0.842697 -   0.9s\n",
      "[CV] max_features=7, n_estimators=400 ................................\n"
     ]
    },
    {
     "name": "stderr",
     "output_type": "stream",
     "text": [
      "[Parallel(n_jobs=1)]: Done 100 out of 100 | elapsed:    0.2s finished\n",
      "[Parallel(n_jobs=1)]: Done 100 out of 100 | elapsed:    0.2s finished\n",
      "[Parallel(n_jobs=1)]: Done 100 out of 100 | elapsed:    0.4s finished\n",
      "[Parallel(n_jobs=1)]: Done 100 out of 100 | elapsed:    0.3s finished\n",
      "[Parallel(n_jobs=1)]: Done 100 out of 100 | elapsed:    0.1s finished\n"
     ]
    },
    {
     "name": "stdout",
     "output_type": "stream",
     "text": [
      "[CV] ....... max_features=7, n_estimators=100, score=0.840909 -   0.7s\n",
      "[CV] max_features=7, n_estimators=400 ................................\n"
     ]
    },
    {
     "name": "stderr",
     "output_type": "stream",
     "text": [
      "[Parallel(n_jobs=5)]: Done  16 tasks      | elapsed:    3.0s\n",
      "[Parallel(n_jobs=5)]: Done  17 tasks      | elapsed:    3.2s\n",
      "[Parallel(n_jobs=1)]: Done 100 out of 100 | elapsed:    0.1s finished\n",
      "[Parallel(n_jobs=1)]: Done 100 out of 100 | elapsed:    0.1s finished\n"
     ]
    },
    {
     "name": "stdout",
     "output_type": "stream",
     "text": [
      "[CV] ....... max_features=7, n_estimators=100, score=0.775281 -   1.0s\n",
      "[CV] max_features=7, n_estimators=400 ................................\n",
      "[CV] ....... max_features=7, n_estimators=100, score=0.842697 -   1.1s\n",
      "[CV] max_features=7, n_estimators=400 ................................\n"
     ]
    },
    {
     "name": "stderr",
     "output_type": "stream",
     "text": [
      "[Parallel(n_jobs=1)]: Done 100 out of 100 | elapsed:    0.2s finished\n"
     ]
    },
    {
     "name": "stdout",
     "output_type": "stream",
     "text": [
      "[CV] ....... max_features=7, n_estimators=100, score=0.842697 -   1.0s\n",
      "[CV] max_features=7, n_estimators=400 ................................\n"
     ]
    },
    {
     "name": "stderr",
     "output_type": "stream",
     "text": [
      "[Parallel(n_jobs=5)]: Done  18 tasks      | elapsed:    3.3s\n",
      "[Parallel(n_jobs=5)]: Done  19 tasks      | elapsed:    3.3s\n",
      "[Parallel(n_jobs=5)]: Done  20 tasks      | elapsed:    3.3s\n",
      "[Parallel(n_jobs=1)]: Done 400 out of 400 | elapsed:    1.3s finished\n",
      "[Parallel(n_jobs=1)]: Done 400 out of 400 | elapsed:    1.2s finished\n",
      "[Parallel(n_jobs=1)]: Done 400 out of 400 | elapsed:    1.2s finished\n",
      "[Parallel(n_jobs=1)]: Done 400 out of 400 | elapsed:    1.3s finished\n",
      "[Parallel(n_jobs=1)]: Done 400 out of 400 | elapsed:    0.8s finished\n",
      "[Parallel(n_jobs=1)]: Done 400 out of 400 | elapsed:    1.7s finished\n"
     ]
    },
    {
     "name": "stdout",
     "output_type": "stream",
     "text": [
      "[CV] ....... max_features=7, n_estimators=400, score=0.788889 -   3.7s\n",
      "[CV] max_features=7, n_estimators=400 ................................\n"
     ]
    },
    {
     "name": "stderr",
     "output_type": "stream",
     "text": [
      "[Parallel(n_jobs=1)]: Done 400 out of 400 | elapsed:    0.6s finished\n"
     ]
    },
    {
     "name": "stdout",
     "output_type": "stream",
     "text": [
      "[CV] ....... max_features=7, n_estimators=400, score=0.831461 -   3.6s\n",
      "[CV] max_features=7, n_estimators=400 ................................\n"
     ]
    },
    {
     "name": "stderr",
     "output_type": "stream",
     "text": [
      "[Parallel(n_jobs=5)]: Done  21 tasks      | elapsed:    6.8s\n",
      "[Parallel(n_jobs=5)]: Done  22 tasks      | elapsed:    7.0s\n",
      "[Parallel(n_jobs=1)]: Done 400 out of 400 | elapsed:    0.7s finished\n"
     ]
    },
    {
     "name": "stdout",
     "output_type": "stream",
     "text": [
      "[CV] ....... max_features=7, n_estimators=400, score=0.831461 -   3.7s\n",
      "[CV] max_features=7, n_estimators=400 ................................\n"
     ]
    },
    {
     "name": "stderr",
     "output_type": "stream",
     "text": [
      "[Parallel(n_jobs=1)]: Done 400 out of 400 | elapsed:    0.6s finished\n"
     ]
    },
    {
     "name": "stdout",
     "output_type": "stream",
     "text": [
      "[CV] ....... max_features=7, n_estimators=400, score=0.764045 -   3.9s\n",
      "[CV] max_features=7, n_estimators=400 ................................\n"
     ]
    },
    {
     "name": "stderr",
     "output_type": "stream",
     "text": [
      "[Parallel(n_jobs=5)]: Done  23 tasks      | elapsed:    7.0s\n",
      "[Parallel(n_jobs=5)]: Done  24 tasks      | elapsed:    7.1s\n",
      "[Parallel(n_jobs=1)]: Done 400 out of 400 | elapsed:    0.6s finished\n"
     ]
    },
    {
     "name": "stdout",
     "output_type": "stream",
     "text": [
      "[CV] ....... max_features=7, n_estimators=400, score=0.822222 -   4.2s\n",
      "[CV] max_features=7, n_estimators=400 ................................\n"
     ]
    },
    {
     "name": "stderr",
     "output_type": "stream",
     "text": [
      "[Parallel(n_jobs=5)]: Done  25 tasks      | elapsed:    7.4s\n",
      "[Parallel(n_jobs=1)]: Done 400 out of 400 | elapsed:    0.9s finished\n",
      "[Parallel(n_jobs=1)]: Done 400 out of 400 | elapsed:    0.6s finished\n"
     ]
    },
    {
     "name": "stdout",
     "output_type": "stream",
     "text": [
      "[CV] ....... max_features=7, n_estimators=400, score=0.842697 -   3.3s\n",
      "[CV] max_features=7, n_estimators=700 ................................\n"
     ]
    },
    {
     "name": "stderr",
     "output_type": "stream",
     "text": [
      "[Parallel(n_jobs=1)]: Done 400 out of 400 | elapsed:    1.3s finished\n",
      "[Parallel(n_jobs=1)]: Done 400 out of 400 | elapsed:    1.5s finished\n",
      "[Parallel(n_jobs=5)]: Done  26 tasks      | elapsed:   10.1s\n",
      "[Parallel(n_jobs=1)]: Done 400 out of 400 | elapsed:    1.5s finished\n",
      "[Parallel(n_jobs=1)]: Done 400 out of 400 | elapsed:    1.3s finished\n",
      "[Parallel(n_jobs=1)]: Done 400 out of 400 | elapsed:    0.6s finished\n"
     ]
    },
    {
     "name": "stdout",
     "output_type": "stream",
     "text": [
      "[CV] ....... max_features=7, n_estimators=400, score=0.840909 -   3.3s\n",
      "[CV] max_features=7, n_estimators=700 ................................\n"
     ]
    },
    {
     "name": "stderr",
     "output_type": "stream",
     "text": [
      "[Parallel(n_jobs=1)]: Done 400 out of 400 | elapsed:    0.6s finished\n"
     ]
    },
    {
     "name": "stdout",
     "output_type": "stream",
     "text": [
      "[CV] ....... max_features=7, n_estimators=400, score=0.853933 -   3.9s\n",
      "[CV] max_features=7, n_estimators=700 ................................\n"
     ]
    },
    {
     "name": "stderr",
     "output_type": "stream",
     "text": [
      "[Parallel(n_jobs=1)]: Done 400 out of 400 | elapsed:    0.6s finished\n",
      "[Parallel(n_jobs=1)]: Done 400 out of 400 | elapsed:    0.5s finished\n"
     ]
    },
    {
     "name": "stdout",
     "output_type": "stream",
     "text": [
      "[CV] ....... max_features=7, n_estimators=400, score=0.842697 -   3.8s\n",
      "[CV] ....... max_features=7, n_estimators=400, score=0.775281 -   3.9s\n",
      "[CV] max_features=7, n_estimators=700 ................................\n"
     ]
    },
    {
     "name": "stderr",
     "output_type": "stream",
     "text": [
      "[Parallel(n_jobs=5)]: Done  27 tasks      | elapsed:   10.7s\n",
      "[Parallel(n_jobs=5)]: Done  28 tasks      | elapsed:   10.9s\n",
      "[Parallel(n_jobs=5)]: Done  29 tasks      | elapsed:   10.9s\n",
      "[Parallel(n_jobs=5)]: Done  30 tasks      | elapsed:   10.9s\n"
     ]
    },
    {
     "name": "stdout",
     "output_type": "stream",
     "text": [
      "[CV] max_features=7, n_estimators=700 ................................\n"
     ]
    },
    {
     "name": "stderr",
     "output_type": "stream",
     "text": [
      "[Parallel(n_jobs=1)]: Done 700 out of 700 | elapsed:    1.6s finished\n",
      "[Parallel(n_jobs=1)]: Done 700 out of 700 | elapsed:    1.4s finished\n",
      "[Parallel(n_jobs=1)]: Done 700 out of 700 | elapsed:    0.7s finished\n"
     ]
    },
    {
     "name": "stdout",
     "output_type": "stream",
     "text": [
      "[CV] ....... max_features=7, n_estimators=700, score=0.800000 -   5.2s\n",
      "[CV] max_features=7, n_estimators=700 ................................\n"
     ]
    },
    {
     "name": "stderr",
     "output_type": "stream",
     "text": [
      "[Parallel(n_jobs=1)]: Done 700 out of 700 | elapsed:    0.6s finished\n",
      "[Parallel(n_jobs=5)]: Done  31 tasks      | elapsed:   15.3s\n"
     ]
    },
    {
     "name": "stdout",
     "output_type": "stream",
     "text": [
      "[CV] ....... max_features=7, n_estimators=700, score=0.831461 -   4.6s\n",
      "[CV] max_features=7, n_estimators=700 ................................\n"
     ]
    },
    {
     "name": "stderr",
     "output_type": "stream",
     "text": [
      "[Parallel(n_jobs=1)]: Done 700 out of 700 | elapsed:    1.9s finished\n",
      "[Parallel(n_jobs=1)]: Done 700 out of 700 | elapsed:    1.5s finished\n",
      "[Parallel(n_jobs=5)]: Done  32 tasks      | elapsed:   15.5s\n",
      "[Parallel(n_jobs=1)]: Done 700 out of 700 | elapsed:    2.1s finished\n",
      "[Parallel(n_jobs=1)]: Done 700 out of 700 | elapsed:    0.6s finished\n"
     ]
    },
    {
     "name": "stdout",
     "output_type": "stream",
     "text": [
      "[CV] ....... max_features=7, n_estimators=700, score=0.831461 -   5.3s\n",
      "[CV] max_features=7, n_estimators=700 ................................\n"
     ]
    },
    {
     "name": "stderr",
     "output_type": "stream",
     "text": [
      "[Parallel(n_jobs=1)]: Done 700 out of 700 | elapsed:    0.6s finished\n"
     ]
    },
    {
     "name": "stdout",
     "output_type": "stream",
     "text": [
      "[CV] ....... max_features=7, n_estimators=700, score=0.764045 -   5.4s\n",
      "[CV] max_features=7, n_estimators=700 ................................\n"
     ]
    },
    {
     "name": "stderr",
     "output_type": "stream",
     "text": [
      "[Parallel(n_jobs=5)]: Done  33 tasks      | elapsed:   16.3s\n",
      "[Parallel(n_jobs=5)]: Done  34 tasks      | elapsed:   16.3s\n",
      "[Parallel(n_jobs=1)]: Done 700 out of 700 | elapsed:    0.7s finished\n"
     ]
    },
    {
     "name": "stdout",
     "output_type": "stream",
     "text": [
      "[CV] ....... max_features=7, n_estimators=700, score=0.822222 -   5.8s\n",
      "[CV] max_features=7, n_estimators=700 ................................\n"
     ]
    },
    {
     "name": "stderr",
     "output_type": "stream",
     "text": [
      "[Parallel(n_jobs=5)]: Done  35 tasks      | elapsed:   16.5s\n",
      "[Parallel(n_jobs=1)]: Done 700 out of 700 | elapsed:    1.5s finished\n",
      "[Parallel(n_jobs=1)]: Done 700 out of 700 | elapsed:    1.3s finished\n",
      "[Parallel(n_jobs=1)]: Done 700 out of 700 | elapsed:    0.8s finished\n"
     ]
    },
    {
     "name": "stdout",
     "output_type": "stream",
     "text": [
      "[CV] ....... max_features=7, n_estimators=700, score=0.853933 -   5.2s\n",
      "[CV] max_features=7, n_estimators=1000 ...............................\n"
     ]
    },
    {
     "name": "stderr",
     "output_type": "stream",
     "text": [
      "[Parallel(n_jobs=1)]: Done 700 out of 700 | elapsed:    1.8s finished\n",
      "[Parallel(n_jobs=1)]: Done 700 out of 700 | elapsed:    1.7s finished\n",
      "[Parallel(n_jobs=1)]: Done 700 out of 700 | elapsed:    0.8s finished\n",
      "[Parallel(n_jobs=5)]: Done  36 tasks      | elapsed:   20.6s\n"
     ]
    },
    {
     "name": "stdout",
     "output_type": "stream",
     "text": [
      "[CV] ....... max_features=7, n_estimators=700, score=0.842697 -   5.2s\n",
      "[CV] max_features=7, n_estimators=1000 ...............................\n"
     ]
    },
    {
     "name": "stderr",
     "output_type": "stream",
     "text": [
      "[Parallel(n_jobs=5)]: Done  37 tasks      | elapsed:   20.8s\n",
      "[Parallel(n_jobs=1)]: Done 700 out of 700 | elapsed:    1.8s finished\n",
      "[Parallel(n_jobs=1)]: Done 700 out of 700 | elapsed:    1.0s finished\n"
     ]
    },
    {
     "name": "stdout",
     "output_type": "stream",
     "text": [
      "[CV] ....... max_features=7, n_estimators=700, score=0.842697 -   5.3s\n",
      "[CV] max_features=7, n_estimators=1000 ...............................\n"
     ]
    },
    {
     "name": "stderr",
     "output_type": "stream",
     "text": [
      "[Parallel(n_jobs=1)]: Done 700 out of 700 | elapsed:    1.0s finished\n"
     ]
    },
    {
     "name": "stdout",
     "output_type": "stream",
     "text": [
      "[CV] ....... max_features=7, n_estimators=700, score=0.775281 -   5.4s\n",
      "[CV] max_features=7, n_estimators=1000 ...............................\n"
     ]
    },
    {
     "name": "stderr",
     "output_type": "stream",
     "text": [
      "[Parallel(n_jobs=5)]: Done  38 tasks      | elapsed:   21.7s\n",
      "[Parallel(n_jobs=5)]: Done  39 tasks      | elapsed:   21.8s\n",
      "[Parallel(n_jobs=1)]: Done 700 out of 700 | elapsed:    0.8s finished\n"
     ]
    },
    {
     "name": "stdout",
     "output_type": "stream",
     "text": [
      "[CV] ....... max_features=7, n_estimators=700, score=0.840909 -   5.7s\n",
      "[CV] max_features=7, n_estimators=1000 ...............................\n"
     ]
    },
    {
     "name": "stderr",
     "output_type": "stream",
     "text": [
      "[Parallel(n_jobs=5)]: Done  40 tasks      | elapsed:   22.2s\n",
      "[Parallel(n_jobs=1)]: Done 1000 out of 1000 | elapsed:    2.4s finished\n",
      "[Parallel(n_jobs=1)]: Done 1000 out of 1000 | elapsed:    2.4s finished\n",
      "[Parallel(n_jobs=1)]: Done 1000 out of 1000 | elapsed:    2.4s finished\n",
      "[Parallel(n_jobs=1)]: Done 1000 out of 1000 | elapsed:    0.9s finished\n"
     ]
    },
    {
     "name": "stdout",
     "output_type": "stream",
     "text": [
      "[CV] ...... max_features=7, n_estimators=1000, score=0.833333 -   6.7s\n",
      "[CV] max_features=7, n_estimators=1000 ...............................\n"
     ]
    },
    {
     "name": "stderr",
     "output_type": "stream",
     "text": [
      "[Parallel(n_jobs=1)]: Done 1000 out of 1000 | elapsed:    1.1s finished\n"
     ]
    },
    {
     "name": "stdout",
     "output_type": "stream",
     "text": [
      "[CV] ...... max_features=7, n_estimators=1000, score=0.788889 -   7.0s\n",
      "[CV] max_features=7, n_estimators=1000 ...............................\n"
     ]
    },
    {
     "name": "stderr",
     "output_type": "stream",
     "text": [
      "[Parallel(n_jobs=5)]: Done  41 tasks      | elapsed:   27.5s\n",
      "[Parallel(n_jobs=5)]: Done  42 tasks      | elapsed:   27.7s\n",
      "[Parallel(n_jobs=1)]: Done 1000 out of 1000 | elapsed:    2.5s finished\n",
      "[Parallel(n_jobs=1)]: Done 1000 out of 1000 | elapsed:    1.1s finished\n"
     ]
    },
    {
     "name": "stdout",
     "output_type": "stream",
     "text": [
      "[CV] ...... max_features=7, n_estimators=1000, score=0.764045 -   6.7s\n",
      "[CV] max_features=7, n_estimators=1000 ...............................\n"
     ]
    },
    {
     "name": "stderr",
     "output_type": "stream",
     "text": [
      "[Parallel(n_jobs=5)]: Done  43 tasks      | elapsed:   28.5s\n",
      "[Parallel(n_jobs=1)]: Done 1000 out of 1000 | elapsed:    2.8s finished\n",
      "[Parallel(n_jobs=1)]: Done 1000 out of 1000 | elapsed:    1.3s finished\n"
     ]
    },
    {
     "name": "stdout",
     "output_type": "stream",
     "text": [
      "[CV] ...... max_features=7, n_estimators=1000, score=0.831461 -   7.8s\n",
      "[CV] max_features=7, n_estimators=1000 ...............................\n"
     ]
    },
    {
     "name": "stderr",
     "output_type": "stream",
     "text": [
      "[Parallel(n_jobs=5)]: Done  44 tasks      | elapsed:   29.6s\n",
      "[Parallel(n_jobs=1)]: Done 1000 out of 1000 | elapsed:    1.1s finished\n"
     ]
    },
    {
     "name": "stdout",
     "output_type": "stream",
     "text": [
      "[CV] ...... max_features=7, n_estimators=1000, score=0.820225 -   8.0s\n",
      "[CV] max_features=7, n_estimators=1000 ...............................\n"
     ]
    },
    {
     "name": "stderr",
     "output_type": "stream",
     "text": [
      "[Parallel(n_jobs=5)]: Done  45 tasks      | elapsed:   30.3s\n",
      "[Parallel(n_jobs=1)]: Done 1000 out of 1000 | elapsed:    1.9s finished\n",
      "[Parallel(n_jobs=1)]: Done 1000 out of 1000 | elapsed:    2.7s finished\n",
      "[Parallel(n_jobs=1)]: Done 1000 out of 1000 | elapsed:    2.4s finished\n",
      "[Parallel(n_jobs=1)]: Done 1000 out of 1000 | elapsed:    1.1s finished\n"
     ]
    },
    {
     "name": "stdout",
     "output_type": "stream",
     "text": [
      "[CV] ...... max_features=7, n_estimators=1000, score=0.853933 -   8.4s\n"
     ]
    },
    {
     "name": "stderr",
     "output_type": "stream",
     "text": [
      "[Parallel(n_jobs=1)]: Done 1000 out of 1000 | elapsed:    2.2s finished\n"
     ]
    },
    {
     "name": "stdout",
     "output_type": "stream",
     "text": [
      "[CV] max_features=8, n_estimators=50 .................................\n"
     ]
    },
    {
     "name": "stderr",
     "output_type": "stream",
     "text": [
      "[Parallel(n_jobs=5)]: Done  46 tasks      | elapsed:   36.0s\n",
      "[Parallel(n_jobs=1)]: Done 1000 out of 1000 | elapsed:    1.0s finished\n"
     ]
    },
    {
     "name": "stdout",
     "output_type": "stream",
     "text": [
      "[CV] ...... max_features=7, n_estimators=1000, score=0.842697 -   8.7s\n",
      "[CV] max_features=8, n_estimators=50 .................................\n"
     ]
    },
    {
     "name": "stderr",
     "output_type": "stream",
     "text": [
      "[Parallel(n_jobs=5)]: Done  47 tasks      | elapsed:   36.4s\n",
      "[Parallel(n_jobs=1)]: Done  50 out of  50 | elapsed:    0.2s finished\n",
      "[Parallel(n_jobs=1)]: Done  50 out of  50 | elapsed:    0.1s finished\n"
     ]
    },
    {
     "name": "stdout",
     "output_type": "stream",
     "text": [
      "[CV] ........ max_features=8, n_estimators=50, score=0.800000 -   0.7s\n",
      "[CV] max_features=8, n_estimators=50 .................................\n"
     ]
    },
    {
     "name": "stderr",
     "output_type": "stream",
     "text": [
      "[Parallel(n_jobs=1)]: Done 1000 out of 1000 | elapsed:    1.0s finished\n"
     ]
    },
    {
     "name": "stdout",
     "output_type": "stream",
     "text": [
      "[CV] ...... max_features=7, n_estimators=1000, score=0.775281 -   8.2s\n",
      "[CV] max_features=8, n_estimators=50 .................................\n"
     ]
    },
    {
     "name": "stderr",
     "output_type": "stream",
     "text": [
      "[Parallel(n_jobs=1)]: Done  50 out of  50 | elapsed:    0.1s finished\n",
      "[Parallel(n_jobs=5)]: Done  48 tasks      | elapsed:   36.7s\n",
      "[Parallel(n_jobs=5)]: Done  49 tasks      | elapsed:   36.8s\n",
      "[Parallel(n_jobs=1)]: Done  50 out of  50 | elapsed:    0.1s finished\n"
     ]
    },
    {
     "name": "stdout",
     "output_type": "stream",
     "text": [
      "[CV] ........ max_features=8, n_estimators=50, score=0.822222 -   0.5s\n",
      "[CV] max_features=8, n_estimators=50 .................................\n"
     ]
    },
    {
     "name": "stderr",
     "output_type": "stream",
     "text": [
      "[Parallel(n_jobs=1)]: Done 1000 out of 1000 | elapsed:    1.0s finished\n"
     ]
    },
    {
     "name": "stdout",
     "output_type": "stream",
     "text": [
      "[CV] ...... max_features=7, n_estimators=1000, score=0.842697 -   7.4s\n",
      "[CV] max_features=8, n_estimators=50 .................................\n"
     ]
    },
    {
     "name": "stderr",
     "output_type": "stream",
     "text": [
      "[Parallel(n_jobs=1)]: Done  50 out of  50 | elapsed:    0.1s finished\n",
      "[Parallel(n_jobs=1)]: Done  50 out of  50 | elapsed:    0.1s finished\n",
      "[Parallel(n_jobs=1)]: Done  50 out of  50 | elapsed:    0.1s finished\n"
     ]
    },
    {
     "name": "stdout",
     "output_type": "stream",
     "text": [
      "[CV] ........ max_features=8, n_estimators=50, score=0.853933 -   0.4s\n"
     ]
    },
    {
     "name": "stderr",
     "output_type": "stream",
     "text": [
      "[Parallel(n_jobs=5)]: Done  50 tasks      | elapsed:   37.0s\n",
      "[Parallel(n_jobs=5)]: Done  51 tasks      | elapsed:   37.0s\n",
      "[Parallel(n_jobs=5)]: Done  52 tasks      | elapsed:   37.2s\n"
     ]
    },
    {
     "name": "stdout",
     "output_type": "stream",
     "text": [
      "[CV] max_features=8, n_estimators=50 .................................\n"
     ]
    },
    {
     "name": "stderr",
     "output_type": "stream",
     "text": [
      "[Parallel(n_jobs=1)]: Done  50 out of  50 | elapsed:    0.1s finished\n",
      "[Parallel(n_jobs=1)]: Done  50 out of  50 | elapsed:    0.1s finished\n"
     ]
    },
    {
     "name": "stdout",
     "output_type": "stream",
     "text": [
      "[CV] ........ max_features=8, n_estimators=50, score=0.752809 -   0.5s\n"
     ]
    },
    {
     "name": "stderr",
     "output_type": "stream",
     "text": [
      "[Parallel(n_jobs=1)]: Done  50 out of  50 | elapsed:    0.0s finished\n"
     ]
    },
    {
     "name": "stdout",
     "output_type": "stream",
     "text": [
      "[CV] ........ max_features=8, n_estimators=50, score=0.831461 -   0.3s\n",
      "[CV] max_features=8, n_estimators=50 .................................\n",
      "[CV] max_features=8, n_estimators=50 .................................\n"
     ]
    },
    {
     "name": "stderr",
     "output_type": "stream",
     "text": [
      "[Parallel(n_jobs=1)]: Done  50 out of  50 | elapsed:    0.1s finished\n",
      "[Parallel(n_jobs=1)]: Done  50 out of  50 | elapsed:    0.1s finished\n",
      "[Parallel(n_jobs=1)]: Done 1000 out of 1000 | elapsed:    2.5s finished\n"
     ]
    },
    {
     "name": "stdout",
     "output_type": "stream",
     "text": [
      "[CV] ........ max_features=8, n_estimators=50, score=0.842697 -   0.4s\n"
     ]
    },
    {
     "name": "stderr",
     "output_type": "stream",
     "text": [
      "[Parallel(n_jobs=5)]: Done  53 tasks      | elapsed:   37.3s\n",
      "[Parallel(n_jobs=5)]: Done  54 tasks      | elapsed:   37.3s\n",
      "[Parallel(n_jobs=5)]: Done  55 tasks      | elapsed:   37.5s\n"
     ]
    },
    {
     "name": "stdout",
     "output_type": "stream",
     "text": [
      "[CV] max_features=8, n_estimators=50 .................................\n"
     ]
    },
    {
     "name": "stderr",
     "output_type": "stream",
     "text": [
      "[Parallel(n_jobs=1)]: Done  50 out of  50 | elapsed:    0.1s finished\n",
      "[Parallel(n_jobs=1)]: Done  50 out of  50 | elapsed:    0.1s finished\n",
      "[Parallel(n_jobs=1)]: Done  50 out of  50 | elapsed:    0.1s finished\n"
     ]
    },
    {
     "name": "stdout",
     "output_type": "stream",
     "text": [
      "[CV] ........ max_features=8, n_estimators=50, score=0.831461 -   0.4s\n",
      "[CV] max_features=8, n_estimators=100 ................................\n"
     ]
    },
    {
     "name": "stderr",
     "output_type": "stream",
     "text": [
      "[Parallel(n_jobs=1)]: Done  50 out of  50 | elapsed:    0.0s finished\n",
      "[Parallel(n_jobs=1)]: Done  50 out of  50 | elapsed:    0.2s finished\n"
     ]
    },
    {
     "name": "stdout",
     "output_type": "stream",
     "text": [
      "[CV] ........ max_features=8, n_estimators=50, score=0.775281 -   0.4s\n",
      "[CV] max_features=8, n_estimators=100 ................................\n"
     ]
    },
    {
     "name": "stderr",
     "output_type": "stream",
     "text": [
      "[Parallel(n_jobs=1)]: Done  50 out of  50 | elapsed:    0.1s finished\n"
     ]
    },
    {
     "name": "stdout",
     "output_type": "stream",
     "text": [
      "[CV] ........ max_features=8, n_estimators=50, score=0.831461 -   0.4s\n",
      "[CV] max_features=8, n_estimators=100 ................................\n"
     ]
    },
    {
     "name": "stderr",
     "output_type": "stream",
     "text": [
      "[Parallel(n_jobs=1)]: Done  50 out of  50 | elapsed:    0.2s finished\n",
      "[Parallel(n_jobs=5)]: Done  56 tasks      | elapsed:   37.6s\n",
      "[Parallel(n_jobs=5)]: Done  57 tasks      | elapsed:   37.7s\n",
      "[Parallel(n_jobs=5)]: Done  58 tasks      | elapsed:   37.8s\n",
      "[Parallel(n_jobs=1)]: Done  50 out of  50 | elapsed:    0.1s finished\n"
     ]
    },
    {
     "name": "stdout",
     "output_type": "stream",
     "text": [
      "[CV] ........ max_features=8, n_estimators=50, score=0.840909 -   0.5s\n",
      "[CV] max_features=8, n_estimators=100 ................................\n"
     ]
    },
    {
     "name": "stderr",
     "output_type": "stream",
     "text": [
      "[Parallel(n_jobs=5)]: Done  59 tasks      | elapsed:   38.0s\n",
      "[Parallel(n_jobs=1)]: Done 100 out of 100 | elapsed:    0.2s finished\n",
      "[Parallel(n_jobs=1)]: Done 1000 out of 1000 | elapsed:    0.9s finished\n",
      "[Parallel(n_jobs=1)]: Done 100 out of 100 | elapsed:    0.2s finished\n"
     ]
    },
    {
     "name": "stdout",
     "output_type": "stream",
     "text": [
      "[CV] ...... max_features=7, n_estimators=1000, score=0.840909 -   8.0s\n",
      "[CV] max_features=8, n_estimators=100 ................................\n"
     ]
    },
    {
     "name": "stderr",
     "output_type": "stream",
     "text": [
      "[Parallel(n_jobs=1)]: Done 100 out of 100 | elapsed:    0.2s finished\n",
      "[Parallel(n_jobs=1)]: Done 100 out of 100 | elapsed:    0.1s finished\n"
     ]
    },
    {
     "name": "stdout",
     "output_type": "stream",
     "text": [
      "[CV] ....... max_features=8, n_estimators=100, score=0.833333 -   0.7s\n",
      "[CV] max_features=8, n_estimators=100 ................................\n"
     ]
    },
    {
     "name": "stderr",
     "output_type": "stream",
     "text": [
      "[Parallel(n_jobs=1)]: Done 100 out of 100 | elapsed:    0.1s finished\n",
      "[Parallel(n_jobs=1)]: Done 100 out of 100 | elapsed:    0.1s finished\n"
     ]
    },
    {
     "name": "stdout",
     "output_type": "stream",
     "text": [
      "[CV] ....... max_features=8, n_estimators=100, score=0.752809 -   0.7s\n",
      "[CV] ....... max_features=8, n_estimators=100, score=0.777778 -   0.8s\n",
      "[CV] max_features=8, n_estimators=100 ................................\n",
      "[CV] max_features=8, n_estimators=100 ................................\n"
     ]
    },
    {
     "name": "stderr",
     "output_type": "stream",
     "text": [
      "[Parallel(n_jobs=5)]: Done  60 tasks      | elapsed:   38.4s\n",
      "[Parallel(n_jobs=5)]: Done  61 tasks      | elapsed:   38.4s\n",
      "[Parallel(n_jobs=5)]: Done  62 tasks      | elapsed:   38.5s\n",
      "[Parallel(n_jobs=5)]: Done  63 tasks      | elapsed:   38.5s\n",
      "[Parallel(n_jobs=1)]: Done 100 out of 100 | elapsed:    0.3s finished\n",
      "[Parallel(n_jobs=1)]: Done 100 out of 100 | elapsed:    0.2s finished\n",
      "[Parallel(n_jobs=1)]: Done 100 out of 100 | elapsed:    0.2s finished\n",
      "[Parallel(n_jobs=1)]: Done 100 out of 100 | elapsed:    0.2s finished\n"
     ]
    },
    {
     "name": "stdout",
     "output_type": "stream",
     "text": [
      "[CV] ....... max_features=8, n_estimators=100, score=0.831461 -   1.1s\n",
      "[CV] max_features=8, n_estimators=100 ................................\n"
     ]
    },
    {
     "name": "stderr",
     "output_type": "stream",
     "text": [
      "[Parallel(n_jobs=1)]: Done 100 out of 100 | elapsed:    0.1s finished\n",
      "[Parallel(n_jobs=1)]: Done 100 out of 100 | elapsed:    0.1s finished\n"
     ]
    },
    {
     "name": "stdout",
     "output_type": "stream",
     "text": [
      "[CV] ....... max_features=8, n_estimators=100, score=0.842697 -   0.6s\n"
     ]
    },
    {
     "name": "stderr",
     "output_type": "stream",
     "text": [
      "[Parallel(n_jobs=1)]: Done 100 out of 100 | elapsed:    0.2s finished\n"
     ]
    },
    {
     "name": "stdout",
     "output_type": "stream",
     "text": [
      "[CV] max_features=8, n_estimators=100 ................................\n",
      "[CV] ....... max_features=8, n_estimators=100, score=0.842697 -   0.7s\n",
      "[CV] max_features=8, n_estimators=400 ................................\n"
     ]
    },
    {
     "name": "stderr",
     "output_type": "stream",
     "text": [
      "[Parallel(n_jobs=1)]: Done 100 out of 100 | elapsed:    0.1s finished\n"
     ]
    },
    {
     "name": "stdout",
     "output_type": "stream",
     "text": [
      "[CV] ....... max_features=8, n_estimators=100, score=0.786517 -   0.7s\n"
     ]
    },
    {
     "name": "stderr",
     "output_type": "stream",
     "text": [
      "[Parallel(n_jobs=5)]: Done  64 tasks      | elapsed:   39.0s\n",
      "[Parallel(n_jobs=5)]: Done  65 tasks      | elapsed:   39.1s\n",
      "[Parallel(n_jobs=5)]: Done  66 tasks      | elapsed:   39.1s\n",
      "[Parallel(n_jobs=5)]: Done  67 tasks      | elapsed:   39.2s\n"
     ]
    },
    {
     "name": "stdout",
     "output_type": "stream",
     "text": [
      "[CV] max_features=8, n_estimators=400 ................................\n"
     ]
    },
    {
     "name": "stderr",
     "output_type": "stream",
     "text": [
      "[Parallel(n_jobs=1)]: Done 100 out of 100 | elapsed:    0.2s finished\n",
      "[Parallel(n_jobs=1)]: Done 100 out of 100 | elapsed:    0.2s finished\n"
     ]
    },
    {
     "name": "stdout",
     "output_type": "stream",
     "text": [
      "[CV] ....... max_features=8, n_estimators=100, score=0.842697 -   1.1s\n",
      "[CV] max_features=8, n_estimators=400 ................................\n"
     ]
    },
    {
     "name": "stderr",
     "output_type": "stream",
     "text": [
      "[Parallel(n_jobs=1)]: Done 100 out of 100 | elapsed:    0.2s finished\n",
      "[Parallel(n_jobs=5)]: Done  68 tasks      | elapsed:   39.6s\n",
      "[Parallel(n_jobs=1)]: Done 100 out of 100 | elapsed:    0.1s finished\n",
      "[Parallel(n_jobs=1)]: Done 100 out of 100 | elapsed:    0.2s finished\n"
     ]
    },
    {
     "name": "stdout",
     "output_type": "stream",
     "text": [
      "[CV] ....... max_features=8, n_estimators=100, score=0.852273 -   0.7s\n",
      "[CV] max_features=8, n_estimators=400 ................................\n"
     ]
    },
    {
     "name": "stderr",
     "output_type": "stream",
     "text": [
      "[Parallel(n_jobs=1)]: Done 100 out of 100 | elapsed:    0.1s finished\n"
     ]
    },
    {
     "name": "stdout",
     "output_type": "stream",
     "text": [
      "[CV] ....... max_features=8, n_estimators=100, score=0.842697 -   0.9s\n",
      "[CV] max_features=8, n_estimators=400 ................................\n"
     ]
    },
    {
     "name": "stderr",
     "output_type": "stream",
     "text": [
      "[Parallel(n_jobs=5)]: Done  69 tasks      | elapsed:   39.9s\n",
      "[Parallel(n_jobs=5)]: Done  70 tasks      | elapsed:   40.0s\n",
      "[Parallel(n_jobs=1)]: Done 400 out of 400 | elapsed:    0.8s finished\n",
      "[Parallel(n_jobs=1)]: Done 400 out of 400 | elapsed:    0.9s finished\n",
      "[Parallel(n_jobs=1)]: Done 400 out of 400 | elapsed:    0.8s finished\n",
      "[Parallel(n_jobs=1)]: Done 400 out of 400 | elapsed:    0.4s finished\n"
     ]
    },
    {
     "name": "stdout",
     "output_type": "stream",
     "text": [
      "[CV] ....... max_features=8, n_estimators=400, score=0.788889 -   2.8s\n"
     ]
    },
    {
     "name": "stderr",
     "output_type": "stream",
     "text": [
      "[Parallel(n_jobs=1)]: Done 400 out of 400 | elapsed:    0.4s finished\n"
     ]
    },
    {
     "name": "stdout",
     "output_type": "stream",
     "text": [
      "[CV] ....... max_features=8, n_estimators=400, score=0.833333 -   2.7s\n",
      "[CV] max_features=8, n_estimators=400 ................................\n",
      "[CV] max_features=8, n_estimators=400 ................................\n"
     ]
    },
    {
     "name": "stderr",
     "output_type": "stream",
     "text": [
      "[Parallel(n_jobs=5)]: Done  71 tasks      | elapsed:   42.0s\n",
      "[Parallel(n_jobs=5)]: Done  72 tasks      | elapsed:   42.0s\n",
      "[Parallel(n_jobs=1)]: Done 400 out of 400 | elapsed:    0.9s finished\n",
      "[Parallel(n_jobs=1)]: Done 400 out of 400 | elapsed:    0.6s finished\n"
     ]
    },
    {
     "name": "stdout",
     "output_type": "stream",
     "text": [
      "[CV] ....... max_features=8, n_estimators=400, score=0.764045 -   2.8s\n",
      "[CV] max_features=8, n_estimators=400 ................................\n"
     ]
    },
    {
     "name": "stderr",
     "output_type": "stream",
     "text": [
      "[Parallel(n_jobs=5)]: Done  73 tasks      | elapsed:   42.4s\n",
      "[Parallel(n_jobs=1)]: Done 400 out of 400 | elapsed:    0.4s finished\n"
     ]
    },
    {
     "name": "stdout",
     "output_type": "stream",
     "text": [
      "[CV] ....... max_features=8, n_estimators=400, score=0.842697 -   2.8s\n",
      "[CV] max_features=8, n_estimators=400 ................................\n"
     ]
    },
    {
     "name": "stderr",
     "output_type": "stream",
     "text": [
      "[Parallel(n_jobs=1)]: Done 400 out of 400 | elapsed:    0.8s finished\n",
      "[Parallel(n_jobs=5)]: Done  74 tasks      | elapsed:   42.7s\n",
      "[Parallel(n_jobs=1)]: Done 400 out of 400 | elapsed:    0.6s finished\n"
     ]
    },
    {
     "name": "stdout",
     "output_type": "stream",
     "text": [
      "[CV] ....... max_features=8, n_estimators=400, score=0.831461 -   3.4s\n",
      "[CV] max_features=8, n_estimators=400 ................................\n"
     ]
    },
    {
     "name": "stderr",
     "output_type": "stream",
     "text": [
      "[Parallel(n_jobs=5)]: Done  75 tasks      | elapsed:   43.4s\n",
      "[Parallel(n_jobs=1)]: Done 400 out of 400 | elapsed:    0.7s finished\n",
      "[Parallel(n_jobs=1)]: Done 400 out of 400 | elapsed:    1.1s finished\n",
      "[Parallel(n_jobs=1)]: Done 400 out of 400 | elapsed:    0.5s finished\n"
     ]
    },
    {
     "name": "stdout",
     "output_type": "stream",
     "text": [
      "[CV] ....... max_features=8, n_estimators=400, score=0.842697 -   2.6s\n",
      "[CV] max_features=8, n_estimators=700 ................................\n"
     ]
    },
    {
     "name": "stderr",
     "output_type": "stream",
     "text": [
      "[Parallel(n_jobs=1)]: Done 400 out of 400 | elapsed:    0.7s finished\n",
      "[Parallel(n_jobs=5)]: Done  76 tasks      | elapsed:   44.5s\n",
      "[Parallel(n_jobs=1)]: Done 400 out of 400 | elapsed:    0.8s finished\n",
      "[Parallel(n_jobs=1)]: Done 400 out of 400 | elapsed:    0.5s finished\n"
     ]
    },
    {
     "name": "stdout",
     "output_type": "stream",
     "text": [
      "[CV] ....... max_features=8, n_estimators=400, score=0.831461 -   3.0s\n",
      "[CV] max_features=8, n_estimators=700 ................................\n"
     ]
    },
    {
     "name": "stderr",
     "output_type": "stream",
     "text": [
      "[Parallel(n_jobs=1)]: Done 400 out of 400 | elapsed:    0.5s finished\n"
     ]
    },
    {
     "name": "stdout",
     "output_type": "stream",
     "text": [
      "[CV] ....... max_features=8, n_estimators=400, score=0.786517 -   2.6s\n",
      "[CV] max_features=8, n_estimators=700 ................................\n"
     ]
    },
    {
     "name": "stderr",
     "output_type": "stream",
     "text": [
      "[Parallel(n_jobs=5)]: Done  77 tasks      | elapsed:   45.0s\n",
      "[Parallel(n_jobs=5)]: Done  78 tasks      | elapsed:   45.1s\n",
      "[Parallel(n_jobs=1)]: Done 400 out of 400 | elapsed:    0.5s finished\n"
     ]
    },
    {
     "name": "stdout",
     "output_type": "stream",
     "text": [
      "[CV] ....... max_features=8, n_estimators=400, score=0.842697 -   2.7s\n",
      "[CV] max_features=8, n_estimators=700 ................................\n"
     ]
    },
    {
     "name": "stderr",
     "output_type": "stream",
     "text": [
      "[Parallel(n_jobs=5)]: Done  79 tasks      | elapsed:   45.4s\n",
      "[Parallel(n_jobs=1)]: Done 400 out of 400 | elapsed:    0.8s finished\n",
      "[Parallel(n_jobs=1)]: Done 400 out of 400 | elapsed:    0.5s finished\n"
     ]
    },
    {
     "name": "stdout",
     "output_type": "stream",
     "text": [
      "[CV] ....... max_features=8, n_estimators=400, score=0.852273 -   2.7s\n",
      "[CV] max_features=8, n_estimators=700 ................................\n"
     ]
    },
    {
     "name": "stderr",
     "output_type": "stream",
     "text": [
      "[Parallel(n_jobs=5)]: Done  80 tasks      | elapsed:   46.1s\n",
      "[Parallel(n_jobs=1)]: Done 700 out of 700 | elapsed:    2.0s finished\n",
      "[Parallel(n_jobs=1)]: Done 700 out of 700 | elapsed:    1.7s finished\n",
      "[Parallel(n_jobs=1)]: Done 700 out of 700 | elapsed:    1.4s finished\n",
      "[Parallel(n_jobs=1)]: Done 700 out of 700 | elapsed:    1.8s finished\n",
      "[Parallel(n_jobs=1)]: Done 700 out of 700 | elapsed:    0.6s finished\n"
     ]
    },
    {
     "name": "stdout",
     "output_type": "stream",
     "text": [
      "[CV] ....... max_features=8, n_estimators=700, score=0.800000 -   4.9s\n",
      "[CV] max_features=8, n_estimators=700 ................................\n"
     ]
    },
    {
     "name": "stderr",
     "output_type": "stream",
     "text": [
      "[Parallel(n_jobs=5)]: Done  81 tasks      | elapsed:   49.4s\n",
      "[Parallel(n_jobs=1)]: Done 700 out of 700 | elapsed:    1.3s finished\n",
      "[Parallel(n_jobs=1)]: Done 700 out of 700 | elapsed:    0.7s finished\n"
     ]
    },
    {
     "name": "stdout",
     "output_type": "stream",
     "text": [
      "[CV] ....... max_features=8, n_estimators=700, score=0.833333 -   4.8s\n",
      "[CV] max_features=8, n_estimators=700 ................................\n"
     ]
    },
    {
     "name": "stderr",
     "output_type": "stream",
     "text": [
      "[Parallel(n_jobs=5)]: Done  82 tasks      | elapsed:   49.8s\n",
      "[Parallel(n_jobs=1)]: Done 700 out of 700 | elapsed:    0.8s finished\n",
      "[Parallel(n_jobs=1)]: Done 700 out of 700 | elapsed:    0.6s finished\n"
     ]
    },
    {
     "name": "stdout",
     "output_type": "stream",
     "text": [
      "[CV] ....... max_features=8, n_estimators=700, score=0.764045 -   4.9s\n",
      "[CV] ....... max_features=8, n_estimators=700, score=0.842697 -   4.6s\n",
      "[CV] max_features=8, n_estimators=700 ................................\n",
      "[CV] max_features=8, n_estimators=700 ................................\n"
     ]
    },
    {
     "name": "stderr",
     "output_type": "stream",
     "text": [
      "[Parallel(n_jobs=5)]: Done  83 tasks      | elapsed:   50.0s\n",
      "[Parallel(n_jobs=5)]: Done  84 tasks      | elapsed:   50.1s\n",
      "[Parallel(n_jobs=1)]: Done 700 out of 700 | elapsed:    0.6s finished\n"
     ]
    },
    {
     "name": "stdout",
     "output_type": "stream",
     "text": [
      "[CV] ....... max_features=8, n_estimators=700, score=0.820225 -   4.2s\n",
      "[CV] max_features=8, n_estimators=700 ................................\n"
     ]
    },
    {
     "name": "stderr",
     "output_type": "stream",
     "text": [
      "[Parallel(n_jobs=5)]: Done  85 tasks      | elapsed:   50.3s\n",
      "[Parallel(n_jobs=1)]: Done 700 out of 700 | elapsed:    1.3s finished\n",
      "[Parallel(n_jobs=1)]: Done 700 out of 700 | elapsed:    1.4s finished\n",
      "[Parallel(n_jobs=1)]: Done 700 out of 700 | elapsed:    1.5s finished\n",
      "[Parallel(n_jobs=1)]: Done 700 out of 700 | elapsed:    1.5s finished\n",
      "[Parallel(n_jobs=1)]: Done 700 out of 700 | elapsed:    0.8s finished\n"
     ]
    },
    {
     "name": "stdout",
     "output_type": "stream",
     "text": [
      "[CV] ....... max_features=8, n_estimators=700, score=0.842697 -   4.1s\n",
      "[CV] max_features=8, n_estimators=1000 ...............................\n"
     ]
    },
    {
     "name": "stderr",
     "output_type": "stream",
     "text": [
      "[Parallel(n_jobs=1)]: Done 700 out of 700 | elapsed:    0.7s finished\n"
     ]
    },
    {
     "name": "stdout",
     "output_type": "stream",
     "text": [
      "[CV] ....... max_features=8, n_estimators=700, score=0.842697 -   4.9s\n"
     ]
    },
    {
     "name": "stderr",
     "output_type": "stream",
     "text": [
      "[Parallel(n_jobs=5)]: Done  86 tasks      | elapsed:   54.2s\n",
      "[Parallel(n_jobs=5)]: Done  87 tasks      | elapsed:   54.4s\n"
     ]
    },
    {
     "name": "stdout",
     "output_type": "stream",
     "text": [
      "[CV] max_features=8, n_estimators=1000 ...............................\n"
     ]
    },
    {
     "name": "stderr",
     "output_type": "stream",
     "text": [
      "[Parallel(n_jobs=1)]: Done 700 out of 700 | elapsed:    0.9s finished\n"
     ]
    },
    {
     "name": "stdout",
     "output_type": "stream",
     "text": [
      "[CV] ....... max_features=8, n_estimators=700, score=0.831461 -   4.9s\n"
     ]
    },
    {
     "name": "stderr",
     "output_type": "stream",
     "text": [
      "[Parallel(n_jobs=1)]: Done 700 out of 700 | elapsed:    0.8s finished\n"
     ]
    },
    {
     "name": "stdout",
     "output_type": "stream",
     "text": [
      "[CV] max_features=8, n_estimators=1000 ...............................\n",
      "[CV] ....... max_features=8, n_estimators=700, score=0.786517 -   4.6s\n",
      "[CV] max_features=8, n_estimators=1000 ...............................\n"
     ]
    },
    {
     "name": "stderr",
     "output_type": "stream",
     "text": [
      "[Parallel(n_jobs=5)]: Done  88 tasks      | elapsed:   54.7s\n",
      "[Parallel(n_jobs=5)]: Done  89 tasks      | elapsed:   54.7s\n",
      "[Parallel(n_jobs=1)]: Done 700 out of 700 | elapsed:    1.3s finished\n",
      "[Parallel(n_jobs=1)]: Done 700 out of 700 | elapsed:    1.2s finished\n"
     ]
    },
    {
     "name": "stdout",
     "output_type": "stream",
     "text": [
      "[CV] ....... max_features=8, n_estimators=700, score=0.852273 -   5.9s\n",
      "[CV] max_features=8, n_estimators=1000 ...............................\n"
     ]
    },
    {
     "name": "stderr",
     "output_type": "stream",
     "text": [
      "[Parallel(n_jobs=5)]: Done  90 tasks      | elapsed:   56.2s\n",
      "[Parallel(n_jobs=1)]: Done 1000 out of 1000 | elapsed:    2.4s finished\n",
      "[Parallel(n_jobs=1)]: Done 1000 out of 1000 | elapsed:    2.1s finished\n",
      "[Parallel(n_jobs=1)]: Done 1000 out of 1000 | elapsed:    2.6s finished\n",
      "[Parallel(n_jobs=1)]: Done 1000 out of 1000 | elapsed:    2.3s finished\n",
      "[Parallel(n_jobs=1)]: Done 1000 out of 1000 | elapsed:    1.0s finished\n"
     ]
    },
    {
     "name": "stdout",
     "output_type": "stream",
     "text": [
      "[CV] ...... max_features=8, n_estimators=1000, score=0.842697 -   6.3s\n",
      "[CV] max_features=8, n_estimators=1000 ...............................\n"
     ]
    },
    {
     "name": "stderr",
     "output_type": "stream",
     "text": [
      "[Parallel(n_jobs=5)]: Done  91 tasks      | elapsed:  1.0min\n",
      "[Parallel(n_jobs=1)]: Done 1000 out of 1000 | elapsed:    1.1s finished\n"
     ]
    },
    {
     "name": "stdout",
     "output_type": "stream",
     "text": [
      "[CV] ...... max_features=8, n_estimators=1000, score=0.800000 -   7.0s\n",
      "[CV] max_features=8, n_estimators=1000 ...............................\n"
     ]
    },
    {
     "name": "stderr",
     "output_type": "stream",
     "text": [
      "[Parallel(n_jobs=1)]: Done 1000 out of 1000 | elapsed:    0.9s finished\n"
     ]
    },
    {
     "name": "stdout",
     "output_type": "stream",
     "text": [
      "[CV] ...... max_features=8, n_estimators=1000, score=0.764045 -   6.7s\n",
      "[CV] max_features=8, n_estimators=1000 ...............................\n"
     ]
    },
    {
     "name": "stderr",
     "output_type": "stream",
     "text": [
      "[Parallel(n_jobs=5)]: Done  92 tasks      | elapsed:  1.0min\n",
      "[Parallel(n_jobs=5)]: Done  93 tasks      | elapsed:  1.0min\n",
      "[Parallel(n_jobs=1)]: Done 1000 out of 1000 | elapsed:    1.2s finished\n"
     ]
    },
    {
     "name": "stdout",
     "output_type": "stream",
     "text": [
      "[CV] ...... max_features=8, n_estimators=1000, score=0.833333 -   7.2s\n",
      "[CV] max_features=8, n_estimators=1000 ...............................\n"
     ]
    },
    {
     "name": "stderr",
     "output_type": "stream",
     "text": [
      "[Parallel(n_jobs=5)]: Done  94 tasks      | elapsed:  1.0min\n",
      "[Parallel(n_jobs=1)]: Done 1000 out of 1000 | elapsed:    2.4s finished\n",
      "[Parallel(n_jobs=1)]: Done 1000 out of 1000 | elapsed:    1.2s finished\n"
     ]
    },
    {
     "name": "stdout",
     "output_type": "stream",
     "text": [
      "[CV] ...... max_features=8, n_estimators=1000, score=0.831461 -   7.3s\n",
      "[CV] max_features=8, n_estimators=1000 ...............................\n"
     ]
    },
    {
     "name": "stderr",
     "output_type": "stream",
     "text": [
      "[Parallel(n_jobs=5)]: Done  95 tasks      | elapsed:  1.1min\n",
      "[Parallel(n_jobs=1)]: Done 1000 out of 1000 | elapsed:    2.4s finished\n",
      "[Parallel(n_jobs=1)]: Done 1000 out of 1000 | elapsed:    2.9s finished\n",
      "[Parallel(n_jobs=1)]: Done 1000 out of 1000 | elapsed:    2.5s finished\n",
      "[Parallel(n_jobs=1)]: Done 1000 out of 1000 | elapsed:    2.7s finished\n",
      "[Parallel(n_jobs=1)]: Done 1000 out of 1000 | elapsed:    1.0s finished\n"
     ]
    },
    {
     "name": "stdout",
     "output_type": "stream",
     "text": [
      "[CV] ...... max_features=8, n_estimators=1000, score=0.842697 -   8.6s\n",
      "[CV] max_features=10, n_estimators=50 ................................\n"
     ]
    },
    {
     "name": "stderr",
     "output_type": "stream",
     "text": [
      "[Parallel(n_jobs=1)]: Done 1000 out of 1000 | elapsed:    1.2s finished\n",
      "[Parallel(n_jobs=5)]: Done  96 tasks      | elapsed:  1.2min\n"
     ]
    },
    {
     "name": "stdout",
     "output_type": "stream",
     "text": [
      "[CV] ...... max_features=8, n_estimators=1000, score=0.831461 -   8.6s\n",
      "[CV] max_features=10, n_estimators=50 ................................\n"
     ]
    },
    {
     "name": "stderr",
     "output_type": "stream",
     "text": [
      "[Parallel(n_jobs=5)]: Done  97 tasks      | elapsed:  1.2min\n",
      "[Parallel(n_jobs=1)]: Done  50 out of  50 | elapsed:    0.1s finished\n",
      "[Parallel(n_jobs=1)]: Done 1000 out of 1000 | elapsed:    1.2s finished\n"
     ]
    },
    {
     "name": "stdout",
     "output_type": "stream",
     "text": [
      "[CV] ...... max_features=8, n_estimators=1000, score=0.786517 -   8.7s\n",
      "[CV] max_features=10, n_estimators=50 ................................\n"
     ]
    },
    {
     "name": "stderr",
     "output_type": "stream",
     "text": [
      "[Parallel(n_jobs=1)]: Done  50 out of  50 | elapsed:    0.0s finished\n"
     ]
    },
    {
     "name": "stdout",
     "output_type": "stream",
     "text": [
      "[CV] ....... max_features=10, n_estimators=50, score=0.811111 -   0.5s\n",
      "[CV] max_features=10, n_estimators=50 ................................\n"
     ]
    },
    {
     "name": "stderr",
     "output_type": "stream",
     "text": [
      "[Parallel(n_jobs=1)]: Done  50 out of  50 | elapsed:    0.1s finished\n",
      "[Parallel(n_jobs=1)]: Done  50 out of  50 | elapsed:    0.1s finished\n",
      "[Parallel(n_jobs=5)]: Done  98 tasks      | elapsed:  1.2min\n",
      "[Parallel(n_jobs=5)]: Done  99 tasks      | elapsed:  1.2min\n"
     ]
    },
    {
     "name": "stdout",
     "output_type": "stream",
     "text": [
      "[CV] ....... max_features=10, n_estimators=50, score=0.844444 -   0.5s\n",
      "[CV] max_features=10, n_estimators=50 ................................\n"
     ]
    },
    {
     "name": "stderr",
     "output_type": "stream",
     "text": [
      "[Parallel(n_jobs=1)]: Done  50 out of  50 | elapsed:    0.2s finished\n",
      "[Parallel(n_jobs=5)]: Done 100 tasks      | elapsed:  1.2min\n",
      "[Parallel(n_jobs=1)]: Done  50 out of  50 | elapsed:    0.1s finished\n"
     ]
    },
    {
     "name": "stdout",
     "output_type": "stream",
     "text": [
      "[CV] ....... max_features=10, n_estimators=50, score=0.764045 -   0.4s\n",
      "[CV] max_features=10, n_estimators=50 ................................\n"
     ]
    },
    {
     "name": "stderr",
     "output_type": "stream",
     "text": [
      "[Parallel(n_jobs=1)]: Done  50 out of  50 | elapsed:    0.2s finished\n",
      "[Parallel(n_jobs=1)]: Done 1000 out of 1000 | elapsed:    1.3s finished\n"
     ]
    },
    {
     "name": "stdout",
     "output_type": "stream",
     "text": [
      "[CV] ...... max_features=8, n_estimators=1000, score=0.842697 -   9.0s\n"
     ]
    },
    {
     "name": "stderr",
     "output_type": "stream",
     "text": [
      "[Parallel(n_jobs=1)]: Done  50 out of  50 | elapsed:    0.0s finished\n"
     ]
    },
    {
     "name": "stdout",
     "output_type": "stream",
     "text": [
      "[CV] ....... max_features=10, n_estimators=50, score=0.853933 -   0.5s\n",
      "[CV] max_features=10, n_estimators=50 ................................\n",
      "[CV] max_features=10, n_estimators=50 ................................\n"
     ]
    },
    {
     "name": "stderr",
     "output_type": "stream",
     "text": [
      "[Parallel(n_jobs=1)]: Done  50 out of  50 | elapsed:    0.1s finished\n",
      "[Parallel(n_jobs=5)]: Done 101 tasks      | elapsed:  1.2min\n",
      "[Parallel(n_jobs=5)]: Done 102 tasks      | elapsed:  1.2min\n",
      "[Parallel(n_jobs=5)]: Done 103 tasks      | elapsed:  1.2min\n",
      "[Parallel(n_jobs=1)]: Done  50 out of  50 | elapsed:    0.1s finished\n"
     ]
    },
    {
     "name": "stdout",
     "output_type": "stream",
     "text": [
      "[CV] ....... max_features=10, n_estimators=50, score=0.842697 -   0.5s\n",
      "[CV] max_features=10, n_estimators=50 ................................\n"
     ]
    },
    {
     "name": "stderr",
     "output_type": "stream",
     "text": [
      "[Parallel(n_jobs=1)]: Done  50 out of  50 | elapsed:    0.1s finished\n",
      "[Parallel(n_jobs=1)]: Done  50 out of  50 | elapsed:    0.1s finished\n",
      "[Parallel(n_jobs=1)]: Done  50 out of  50 | elapsed:    0.1s finished\n",
      "[Parallel(n_jobs=1)]: Done  50 out of  50 | elapsed:    0.0s finished\n"
     ]
    },
    {
     "name": "stdout",
     "output_type": "stream",
     "text": [
      "[CV] ....... max_features=10, n_estimators=50, score=0.842697 -   0.4s\n"
     ]
    },
    {
     "name": "stderr",
     "output_type": "stream",
     "text": [
      "[Parallel(n_jobs=1)]: Done  50 out of  50 | elapsed:    0.0s finished\n"
     ]
    },
    {
     "name": "stdout",
     "output_type": "stream",
     "text": [
      "[CV] ....... max_features=10, n_estimators=50, score=0.775281 -   0.4s\n",
      "[CV] max_features=10, n_estimators=50 ................................\n",
      "[CV] max_features=10, n_estimators=100 ...............................\n"
     ]
    },
    {
     "name": "stderr",
     "output_type": "stream",
     "text": [
      "[Parallel(n_jobs=1)]: Done  50 out of  50 | elapsed:    0.1s finished\n"
     ]
    },
    {
     "name": "stdout",
     "output_type": "stream",
     "text": [
      "[CV] ....... max_features=10, n_estimators=50, score=0.842697 -   0.4s\n"
     ]
    },
    {
     "name": "stderr",
     "output_type": "stream",
     "text": [
      "[Parallel(n_jobs=5)]: Done 104 tasks      | elapsed:  1.2min\n",
      "[Parallel(n_jobs=5)]: Done 105 tasks      | elapsed:  1.2min\n",
      "[Parallel(n_jobs=5)]: Done 106 tasks      | elapsed:  1.2min\n"
     ]
    },
    {
     "name": "stdout",
     "output_type": "stream",
     "text": [
      "[CV] max_features=10, n_estimators=100 ...............................\n"
     ]
    },
    {
     "name": "stderr",
     "output_type": "stream",
     "text": [
      "[Parallel(n_jobs=5)]: Done 107 tasks      | elapsed:  1.2min\n",
      "[Parallel(n_jobs=1)]: Done 1000 out of 1000 | elapsed:    3.1s finished\n",
      "[Parallel(n_jobs=1)]: Done  50 out of  50 | elapsed:    0.1s finished\n",
      "[Parallel(n_jobs=1)]: Done  50 out of  50 | elapsed:    0.4s finished\n",
      "[Parallel(n_jobs=1)]: Done  50 out of  50 | elapsed:    0.1s finished\n"
     ]
    },
    {
     "name": "stdout",
     "output_type": "stream",
     "text": [
      "[CV] ....... max_features=10, n_estimators=50, score=0.840909 -   0.7s\n"
     ]
    },
    {
     "name": "stderr",
     "output_type": "stream",
     "text": [
      "[Parallel(n_jobs=1)]: Done  50 out of  50 | elapsed:    0.1s finished\n"
     ]
    },
    {
     "name": "stdout",
     "output_type": "stream",
     "text": [
      "[CV] max_features=10, n_estimators=100 ...............................\n",
      "[CV] ....... max_features=10, n_estimators=50, score=0.831461 -   0.9s\n",
      "[CV] max_features=10, n_estimators=100 ...............................\n"
     ]
    },
    {
     "name": "stderr",
     "output_type": "stream",
     "text": [
      "[Parallel(n_jobs=1)]: Done 100 out of 100 | elapsed:    0.3s finished\n",
      "[Parallel(n_jobs=1)]: Done 100 out of 100 | elapsed:    0.1s finished\n"
     ]
    },
    {
     "name": "stdout",
     "output_type": "stream",
     "text": [
      "[CV] ...... max_features=10, n_estimators=100, score=0.788889 -   0.9s\n"
     ]
    },
    {
     "name": "stderr",
     "output_type": "stream",
     "text": [
      "[Parallel(n_jobs=1)]: Done 100 out of 100 | elapsed:    0.3s finished\n"
     ]
    },
    {
     "name": "stdout",
     "output_type": "stream",
     "text": [
      "[CV] max_features=10, n_estimators=100 ...............................\n"
     ]
    },
    {
     "name": "stderr",
     "output_type": "stream",
     "text": [
      "[Parallel(n_jobs=5)]: Done 108 tasks      | elapsed:  1.2min\n",
      "[Parallel(n_jobs=5)]: Done 109 tasks      | elapsed:  1.2min\n",
      "[Parallel(n_jobs=5)]: Done 110 tasks      | elapsed:  1.2min\n",
      "[Parallel(n_jobs=1)]: Done 100 out of 100 | elapsed:    0.2s finished\n"
     ]
    },
    {
     "name": "stdout",
     "output_type": "stream",
     "text": [
      "[CV] ...... max_features=10, n_estimators=100, score=0.855556 -   1.0s\n",
      "[CV] max_features=10, n_estimators=100 ...............................\n"
     ]
    },
    {
     "name": "stderr",
     "output_type": "stream",
     "text": [
      "[Parallel(n_jobs=5)]: Done 111 tasks      | elapsed:  1.2min\n",
      "[Parallel(n_jobs=1)]: Done 100 out of 100 | elapsed:    0.3s finished\n",
      "[Parallel(n_jobs=1)]: Done 100 out of 100 | elapsed:    0.2s finished\n"
     ]
    },
    {
     "name": "stdout",
     "output_type": "stream",
     "text": [
      "[CV] ...... max_features=10, n_estimators=100, score=0.764045 -   0.9s\n",
      "[CV] max_features=10, n_estimators=100 ...............................\n"
     ]
    },
    {
     "name": "stderr",
     "output_type": "stream",
     "text": [
      "[Parallel(n_jobs=1)]: Done 100 out of 100 | elapsed:    0.3s finished\n",
      "[Parallel(n_jobs=1)]: Done 100 out of 100 | elapsed:    0.4s finished\n",
      "[Parallel(n_jobs=5)]: Done 112 tasks      | elapsed:  1.2min\n",
      "[Parallel(n_jobs=1)]: Done 100 out of 100 | elapsed:    0.2s finished\n",
      "[Parallel(n_jobs=1)]: Done 1000 out of 1000 | elapsed:    1.5s finished\n",
      "[Parallel(n_jobs=1)]: Done 100 out of 100 | elapsed:    0.2s finished\n"
     ]
    },
    {
     "name": "stdout",
     "output_type": "stream",
     "text": [
      "[CV] ...... max_features=10, n_estimators=100, score=0.831461 -   1.1s\n",
      "[CV] ...... max_features=8, n_estimators=1000, score=0.840909 -   9.4s\n",
      "[CV] max_features=10, n_estimators=100 ...............................\n",
      "[CV] ...... max_features=10, n_estimators=100, score=0.853933 -   1.2s\n",
      "[CV] max_features=10, n_estimators=100 ...............................\n",
      "[CV] max_features=10, n_estimators=100 ...............................\n"
     ]
    },
    {
     "name": "stderr",
     "output_type": "stream",
     "text": [
      "[Parallel(n_jobs=1)]: Done 100 out of 100 | elapsed:    0.2s finished\n",
      "[Parallel(n_jobs=5)]: Done 113 tasks      | elapsed:  1.2min\n",
      "[Parallel(n_jobs=5)]: Done 114 tasks      | elapsed:  1.2min\n",
      "[Parallel(n_jobs=5)]: Done 115 tasks      | elapsed:  1.2min\n",
      "[Parallel(n_jobs=1)]: Done 100 out of 100 | elapsed:    0.2s finished\n"
     ]
    },
    {
     "name": "stdout",
     "output_type": "stream",
     "text": [
      "[CV] ...... max_features=10, n_estimators=100, score=0.865169 -   1.3s\n",
      "[CV] max_features=10, n_estimators=400 ...............................\n"
     ]
    },
    {
     "name": "stderr",
     "output_type": "stream",
     "text": [
      "[Parallel(n_jobs=5)]: Done 116 tasks      | elapsed:  1.2min\n",
      "[Parallel(n_jobs=1)]: Done 100 out of 100 | elapsed:    0.4s finished\n",
      "[Parallel(n_jobs=1)]: Done 100 out of 100 | elapsed:    0.2s finished\n",
      "[Parallel(n_jobs=1)]: Done 100 out of 100 | elapsed:    0.2s finished\n"
     ]
    },
    {
     "name": "stdout",
     "output_type": "stream",
     "text": [
      "[CV] ...... max_features=10, n_estimators=100, score=0.842697 -   1.3s\n"
     ]
    },
    {
     "name": "stderr",
     "output_type": "stream",
     "text": [
      "[Parallel(n_jobs=1)]: Done 100 out of 100 | elapsed:    0.1s finished\n"
     ]
    },
    {
     "name": "stdout",
     "output_type": "stream",
     "text": [
      "[CV] max_features=10, n_estimators=400 ...............................\n",
      "[CV] ...... max_features=10, n_estimators=100, score=0.775281 -   1.0s\n",
      "[CV] max_features=10, n_estimators=400 ...............................\n"
     ]
    },
    {
     "name": "stderr",
     "output_type": "stream",
     "text": [
      "[Parallel(n_jobs=1)]: Done 100 out of 100 | elapsed:    0.3s finished\n",
      "[Parallel(n_jobs=1)]: Done 100 out of 100 | elapsed:    0.4s finished\n",
      "[Parallel(n_jobs=5)]: Done 117 tasks      | elapsed:  1.2min\n",
      "[Parallel(n_jobs=5)]: Done 118 tasks      | elapsed:  1.2min\n",
      "[Parallel(n_jobs=1)]: Done 100 out of 100 | elapsed:    0.2s finished\n",
      "[Parallel(n_jobs=1)]: Done 100 out of 100 | elapsed:    0.1s finished\n"
     ]
    },
    {
     "name": "stdout",
     "output_type": "stream",
     "text": [
      "[CV] ...... max_features=10, n_estimators=100, score=0.840909 -   1.3s\n",
      "[CV] ...... max_features=10, n_estimators=100, score=0.831461 -   1.3s\n",
      "[CV] max_features=10, n_estimators=400 ...............................\n",
      "[CV] max_features=10, n_estimators=400 ...............................\n"
     ]
    },
    {
     "name": "stderr",
     "output_type": "stream",
     "text": [
      "[Parallel(n_jobs=5)]: Done 119 tasks      | elapsed:  1.2min\n",
      "[Parallel(n_jobs=5)]: Done 120 tasks      | elapsed:  1.2min\n",
      "[Parallel(n_jobs=1)]: Done 400 out of 400 | elapsed:    1.8s finished\n",
      "[Parallel(n_jobs=1)]: Done 400 out of 400 | elapsed:    1.8s finished\n",
      "[Parallel(n_jobs=1)]: Done 400 out of 400 | elapsed:    0.7s finished\n"
     ]
    },
    {
     "name": "stdout",
     "output_type": "stream",
     "text": [
      "[CV] ...... max_features=10, n_estimators=400, score=0.844444 -   4.3s\n",
      "[CV] max_features=10, n_estimators=400 ...............................\n"
     ]
    },
    {
     "name": "stderr",
     "output_type": "stream",
     "text": [
      "[Parallel(n_jobs=1)]: Done 400 out of 400 | elapsed:    1.3s finished\n",
      "[Parallel(n_jobs=1)]: Done 400 out of 400 | elapsed:    1.6s finished\n",
      "[Parallel(n_jobs=5)]: Done 121 tasks      | elapsed:  1.3min\n",
      "[Parallel(n_jobs=1)]: Done 400 out of 400 | elapsed:    1.6s finished\n",
      "[Parallel(n_jobs=1)]: Done 400 out of 400 | elapsed:    0.7s finished\n"
     ]
    },
    {
     "name": "stdout",
     "output_type": "stream",
     "text": [
      "[CV] ...... max_features=10, n_estimators=400, score=0.800000 -   5.6s\n",
      "[CV] max_features=10, n_estimators=400 ...............................\n"
     ]
    },
    {
     "name": "stderr",
     "output_type": "stream",
     "text": [
      "[Parallel(n_jobs=1)]: Done 400 out of 400 | elapsed:    0.7s finished\n",
      "[Parallel(n_jobs=5)]: Done 122 tasks      | elapsed:  1.3min\n"
     ]
    },
    {
     "name": "stdout",
     "output_type": "stream",
     "text": [
      "[CV] ...... max_features=10, n_estimators=400, score=0.853933 -   4.8s\n",
      "[CV] max_features=10, n_estimators=400 ...............................\n"
     ]
    },
    {
     "name": "stderr",
     "output_type": "stream",
     "text": [
      "[Parallel(n_jobs=1)]: Done 400 out of 400 | elapsed:    0.6s finished\n"
     ]
    },
    {
     "name": "stdout",
     "output_type": "stream",
     "text": [
      "[CV] ...... max_features=10, n_estimators=400, score=0.842697 -   4.9s\n",
      "[CV] max_features=10, n_estimators=400 ...............................\n"
     ]
    },
    {
     "name": "stderr",
     "output_type": "stream",
     "text": [
      "[Parallel(n_jobs=1)]: Done 400 out of 400 | elapsed:    0.8s finished\n"
     ]
    },
    {
     "name": "stdout",
     "output_type": "stream",
     "text": [
      "[CV] ...... max_features=10, n_estimators=400, score=0.775281 -   5.3s\n",
      "[CV] max_features=10, n_estimators=400 ...............................\n"
     ]
    },
    {
     "name": "stderr",
     "output_type": "stream",
     "text": [
      "[Parallel(n_jobs=5)]: Done 123 tasks      | elapsed:  1.3min\n",
      "[Parallel(n_jobs=5)]: Done 124 tasks      | elapsed:  1.3min\n",
      "[Parallel(n_jobs=5)]: Done 125 tasks      | elapsed:  1.3min\n",
      "[Parallel(n_jobs=1)]: Done 400 out of 400 | elapsed:    1.1s finished\n",
      "[Parallel(n_jobs=1)]: Done 400 out of 400 | elapsed:    0.4s finished\n"
     ]
    },
    {
     "name": "stdout",
     "output_type": "stream",
     "text": [
      "[CV] ...... max_features=10, n_estimators=400, score=0.853933 -   3.5s\n",
      "[CV] max_features=10, n_estimators=700 ...............................\n"
     ]
    },
    {
     "name": "stderr",
     "output_type": "stream",
     "text": [
      "[Parallel(n_jobs=5)]: Done 126 tasks      | elapsed:  1.4min\n",
      "[Parallel(n_jobs=1)]: Done 400 out of 400 | elapsed:    0.9s finished\n",
      "[Parallel(n_jobs=1)]: Done 400 out of 400 | elapsed:    0.3s finished\n",
      "[Parallel(n_jobs=1)]: Done 400 out of 400 | elapsed:    1.4s finished\n"
     ]
    },
    {
     "name": "stdout",
     "output_type": "stream",
     "text": [
      "[CV] ...... max_features=10, n_estimators=400, score=0.775281 -   3.5s\n",
      "[CV] max_features=10, n_estimators=700 ...............................\n"
     ]
    },
    {
     "name": "stderr",
     "output_type": "stream",
     "text": [
      "[Parallel(n_jobs=1)]: Done 400 out of 400 | elapsed:    1.1s finished\n",
      "[Parallel(n_jobs=5)]: Done 127 tasks      | elapsed:  1.4min\n",
      "[Parallel(n_jobs=1)]: Done 400 out of 400 | elapsed:    0.4s finished\n"
     ]
    },
    {
     "name": "stdout",
     "output_type": "stream",
     "text": [
      "[CV] ...... max_features=10, n_estimators=400, score=0.842697 -   4.1s\n",
      "[CV] max_features=10, n_estimators=700 ...............................\n"
     ]
    },
    {
     "name": "stderr",
     "output_type": "stream",
     "text": [
      "[Parallel(n_jobs=5)]: Done 128 tasks      | elapsed:  1.4min\n",
      "[Parallel(n_jobs=1)]: Done 400 out of 400 | elapsed:    0.6s finished\n"
     ]
    },
    {
     "name": "stdout",
     "output_type": "stream",
     "text": [
      "[CV] ...... max_features=10, n_estimators=400, score=0.842697 -   4.1s\n"
     ]
    },
    {
     "name": "stderr",
     "output_type": "stream",
     "text": [
      "[Parallel(n_jobs=1)]: Done 400 out of 400 | elapsed:    1.4s finished\n"
     ]
    },
    {
     "name": "stdout",
     "output_type": "stream",
     "text": [
      "[CV] max_features=10, n_estimators=700 ...............................\n"
     ]
    },
    {
     "name": "stderr",
     "output_type": "stream",
     "text": [
      "[Parallel(n_jobs=5)]: Done 129 tasks      | elapsed:  1.4min\n",
      "[Parallel(n_jobs=1)]: Done 400 out of 400 | elapsed:    0.7s finished\n"
     ]
    },
    {
     "name": "stdout",
     "output_type": "stream",
     "text": [
      "[CV] ...... max_features=10, n_estimators=400, score=0.840909 -   4.8s\n",
      "[CV] max_features=10, n_estimators=700 ...............................\n"
     ]
    },
    {
     "name": "stderr",
     "output_type": "stream",
     "text": [
      "[Parallel(n_jobs=5)]: Done 130 tasks      | elapsed:  1.4min\n",
      "[Parallel(n_jobs=1)]: Done 700 out of 700 | elapsed:    1.6s finished\n",
      "[Parallel(n_jobs=1)]: Done 700 out of 700 | elapsed:    1.8s finished\n",
      "[Parallel(n_jobs=1)]: Done 700 out of 700 | elapsed:    1.1s finished\n"
     ]
    },
    {
     "name": "stdout",
     "output_type": "stream",
     "text": [
      "[CV] ...... max_features=10, n_estimators=700, score=0.800000 -   6.1s\n",
      "[CV] max_features=10, n_estimators=700 ...............................\n"
     ]
    },
    {
     "name": "stderr",
     "output_type": "stream",
     "text": [
      "[Parallel(n_jobs=1)]: Done 700 out of 700 | elapsed:    1.7s finished\n",
      "[Parallel(n_jobs=5)]: Done 131 tasks      | elapsed:  1.5min\n",
      "[Parallel(n_jobs=1)]: Done 700 out of 700 | elapsed:    0.7s finished\n"
     ]
    },
    {
     "name": "stdout",
     "output_type": "stream",
     "text": [
      "[CV] ...... max_features=10, n_estimators=700, score=0.844444 -   5.8s\n",
      "[CV] max_features=10, n_estimators=700 ...............................\n"
     ]
    },
    {
     "name": "stderr",
     "output_type": "stream",
     "text": [
      "[Parallel(n_jobs=1)]: Done 700 out of 700 | elapsed:    2.1s finished\n",
      "[Parallel(n_jobs=5)]: Done 132 tasks      | elapsed:  1.5min\n",
      "[Parallel(n_jobs=1)]: Done 700 out of 700 | elapsed:    0.9s finished\n"
     ]
    },
    {
     "name": "stdout",
     "output_type": "stream",
     "text": [
      "[CV] ...... max_features=10, n_estimators=700, score=0.775281 -   5.8s\n",
      "[CV] max_features=10, n_estimators=700 ...............................\n"
     ]
    },
    {
     "name": "stderr",
     "output_type": "stream",
     "text": [
      "[Parallel(n_jobs=5)]: Done 133 tasks      | elapsed:  1.5min\n",
      "[Parallel(n_jobs=1)]: Done 700 out of 700 | elapsed:    0.7s finished\n"
     ]
    },
    {
     "name": "stdout",
     "output_type": "stream",
     "text": [
      "[CV] ...... max_features=10, n_estimators=700, score=0.853933 -   6.0s\n",
      "[CV] max_features=10, n_estimators=700 ...............................\n"
     ]
    },
    {
     "name": "stderr",
     "output_type": "stream",
     "text": [
      "[Parallel(n_jobs=5)]: Done 134 tasks      | elapsed:  1.5min\n",
      "[Parallel(n_jobs=1)]: Done 700 out of 700 | elapsed:    2.3s finished\n",
      "[Parallel(n_jobs=1)]: Done 700 out of 700 | elapsed:    0.6s finished\n"
     ]
    },
    {
     "name": "stdout",
     "output_type": "stream",
     "text": [
      "[CV] ...... max_features=10, n_estimators=700, score=0.842697 -   6.3s\n",
      "[CV] max_features=10, n_estimators=700 ...............................\n"
     ]
    },
    {
     "name": "stderr",
     "output_type": "stream",
     "text": [
      "[Parallel(n_jobs=5)]: Done 135 tasks      | elapsed:  1.5min\n",
      "[Parallel(n_jobs=1)]: Done 700 out of 700 | elapsed:    2.4s finished\n",
      "[Parallel(n_jobs=1)]: Done 700 out of 700 | elapsed:    0.8s finished\n"
     ]
    },
    {
     "name": "stdout",
     "output_type": "stream",
     "text": [
      "[CV] ...... max_features=10, n_estimators=700, score=0.842697 -   5.9s\n",
      "[CV] max_features=10, n_estimators=1000 ..............................\n"
     ]
    },
    {
     "name": "stderr",
     "output_type": "stream",
     "text": [
      "[Parallel(n_jobs=1)]: Done 700 out of 700 | elapsed:    2.5s finished\n",
      "[Parallel(n_jobs=5)]: Done 136 tasks      | elapsed:  1.6min\n",
      "[Parallel(n_jobs=1)]: Done 700 out of 700 | elapsed:    2.7s finished\n",
      "[Parallel(n_jobs=1)]: Done 700 out of 700 | elapsed:    0.8s finished\n"
     ]
    },
    {
     "name": "stdout",
     "output_type": "stream",
     "text": [
      "[CV] ...... max_features=10, n_estimators=700, score=0.842697 -   6.2s\n",
      "[CV] max_features=10, n_estimators=1000 ..............................\n"
     ]
    },
    {
     "name": "stderr",
     "output_type": "stream",
     "text": [
      "[Parallel(n_jobs=5)]: Done 137 tasks      | elapsed:  1.6min\n",
      "[Parallel(n_jobs=1)]: Done 700 out of 700 | elapsed:    2.4s finished\n",
      "[Parallel(n_jobs=1)]: Done 700 out of 700 | elapsed:    1.0s finished\n"
     ]
    },
    {
     "name": "stdout",
     "output_type": "stream",
     "text": [
      "[CV] ...... max_features=10, n_estimators=700, score=0.775281 -   6.6s\n",
      "[CV] max_features=10, n_estimators=1000 ..............................\n"
     ]
    },
    {
     "name": "stderr",
     "output_type": "stream",
     "text": [
      "[Parallel(n_jobs=5)]: Done 138 tasks      | elapsed:  1.6min\n",
      "[Parallel(n_jobs=1)]: Done 700 out of 700 | elapsed:    1.6s finished\n",
      "[Parallel(n_jobs=1)]: Done 700 out of 700 | elapsed:    1.2s finished\n"
     ]
    },
    {
     "name": "stdout",
     "output_type": "stream",
     "text": [
      "[CV] ...... max_features=10, n_estimators=700, score=0.842697 -   7.1s\n",
      "[CV] max_features=10, n_estimators=1000 ..............................\n"
     ]
    },
    {
     "name": "stderr",
     "output_type": "stream",
     "text": [
      "[Parallel(n_jobs=5)]: Done 139 tasks      | elapsed:  1.6min\n",
      "[Parallel(n_jobs=1)]: Done 700 out of 700 | elapsed:    0.9s finished\n"
     ]
    },
    {
     "name": "stdout",
     "output_type": "stream",
     "text": [
      "[CV] ...... max_features=10, n_estimators=700, score=0.840909 -   6.7s\n",
      "[CV] max_features=10, n_estimators=1000 ..............................\n"
     ]
    },
    {
     "name": "stderr",
     "output_type": "stream",
     "text": [
      "[Parallel(n_jobs=5)]: Done 140 tasks      | elapsed:  1.6min\n",
      "[Parallel(n_jobs=1)]: Done 1000 out of 1000 | elapsed:    2.5s finished\n",
      "[Parallel(n_jobs=1)]: Done 1000 out of 1000 | elapsed:    2.4s finished\n",
      "[Parallel(n_jobs=1)]: Done 1000 out of 1000 | elapsed:    1.3s finished\n"
     ]
    },
    {
     "name": "stdout",
     "output_type": "stream",
     "text": [
      "[CV] ..... max_features=10, n_estimators=1000, score=0.788889 -   7.9s\n",
      "[CV] max_features=10, n_estimators=1000 ..............................\n"
     ]
    },
    {
     "name": "stderr",
     "output_type": "stream",
     "text": [
      "[Parallel(n_jobs=1)]: Done 1000 out of 1000 | elapsed:    1.2s finished\n"
     ]
    },
    {
     "name": "stdout",
     "output_type": "stream",
     "text": [
      "[CV] ..... max_features=10, n_estimators=1000, score=0.844444 -   7.2s\n",
      "[CV] max_features=10, n_estimators=1000 ..............................\n"
     ]
    },
    {
     "name": "stderr",
     "output_type": "stream",
     "text": [
      "[Parallel(n_jobs=5)]: Done 141 tasks      | elapsed:  1.7min\n",
      "[Parallel(n_jobs=5)]: Done 142 tasks      | elapsed:  1.7min\n",
      "[Parallel(n_jobs=1)]: Done 1000 out of 1000 | elapsed:    2.6s finished\n",
      "[Parallel(n_jobs=1)]: Done 1000 out of 1000 | elapsed:    1.3s finished\n"
     ]
    },
    {
     "name": "stdout",
     "output_type": "stream",
     "text": [
      "[CV] ..... max_features=10, n_estimators=1000, score=0.775281 -   7.7s\n",
      "[CV] max_features=10, n_estimators=1000 ..............................\n"
     ]
    },
    {
     "name": "stderr",
     "output_type": "stream",
     "text": [
      "[Parallel(n_jobs=5)]: Done 143 tasks      | elapsed:  1.7min\n",
      "[Parallel(n_jobs=1)]: Done 1000 out of 1000 | elapsed:    2.7s finished\n",
      "[Parallel(n_jobs=1)]: Done 1000 out of 1000 | elapsed:    2.8s finished\n",
      "[Parallel(n_jobs=1)]: Done 1000 out of 1000 | elapsed:    1.3s finished\n"
     ]
    },
    {
     "name": "stdout",
     "output_type": "stream",
     "text": [
      "[CV] ..... max_features=10, n_estimators=1000, score=0.853933 -   8.5s\n",
      "[CV] max_features=10, n_estimators=1000 ..............................\n"
     ]
    },
    {
     "name": "stderr",
     "output_type": "stream",
     "text": [
      "[Parallel(n_jobs=1)]: Done 1000 out of 1000 | elapsed:    1.0s finished\n"
     ]
    },
    {
     "name": "stdout",
     "output_type": "stream",
     "text": [
      "[CV] ..... max_features=10, n_estimators=1000, score=0.842697 -   7.9s\n",
      "[CV] max_features=10, n_estimators=1000 ..............................\n"
     ]
    },
    {
     "name": "stderr",
     "output_type": "stream",
     "text": [
      "[Parallel(n_jobs=5)]: Done 144 tasks      | elapsed:  1.8min\n",
      "[Parallel(n_jobs=5)]: Done 145 tasks      | elapsed:  1.8min\n",
      "[Parallel(n_jobs=1)]: Done 1000 out of 1000 | elapsed:    2.6s finished\n",
      "[Parallel(n_jobs=1)]: Done 1000 out of 1000 | elapsed:    2.4s finished\n",
      "[Parallel(n_jobs=1)]: Done 1000 out of 1000 | elapsed:    1.1s finished\n"
     ]
    },
    {
     "name": "stdout",
     "output_type": "stream",
     "text": [
      "[CV] ..... max_features=10, n_estimators=1000, score=0.842697 -   7.3s\n",
      "[CV] max_features=14, n_estimators=50 ................................\n"
     ]
    },
    {
     "name": "stderr",
     "output_type": "stream",
     "text": [
      "[Parallel(n_jobs=5)]: Done 146 tasks      | elapsed:  1.8min\n",
      "[Parallel(n_jobs=1)]: Done  50 out of  50 | elapsed:    0.1s finished\n",
      "[Parallel(n_jobs=1)]: Done  50 out of  50 | elapsed:    0.1s finished\n"
     ]
    },
    {
     "name": "stdout",
     "output_type": "stream",
     "text": [
      "[CV] ....... max_features=14, n_estimators=50, score=0.788889 -   0.4s\n",
      "[CV] max_features=14, n_estimators=50 ................................\n"
     ]
    },
    {
     "name": "stderr",
     "output_type": "stream",
     "text": [
      "[Parallel(n_jobs=1)]: Done 1000 out of 1000 | elapsed:    2.7s finished\n",
      "[Parallel(n_jobs=5)]: Done 147 tasks      | elapsed:  1.8min\n",
      "[Parallel(n_jobs=1)]: Done 1000 out of 1000 | elapsed:    1.2s finished\n"
     ]
    },
    {
     "name": "stdout",
     "output_type": "stream",
     "text": [
      "[CV] ..... max_features=10, n_estimators=1000, score=0.842697 -   7.8s\n",
      "[CV] max_features=14, n_estimators=50 ................................\n"
     ]
    },
    {
     "name": "stderr",
     "output_type": "stream",
     "text": [
      "[Parallel(n_jobs=5)]: Done 148 tasks      | elapsed:  1.8min\n",
      "[Parallel(n_jobs=1)]: Done  50 out of  50 | elapsed:    0.1s finished\n",
      "[Parallel(n_jobs=1)]: Done  50 out of  50 | elapsed:    0.1s finished\n"
     ]
    },
    {
     "name": "stdout",
     "output_type": "stream",
     "text": [
      "[CV] ....... max_features=14, n_estimators=50, score=0.844444 -   0.6s\n",
      "[CV] max_features=14, n_estimators=50 ................................\n"
     ]
    },
    {
     "name": "stderr",
     "output_type": "stream",
     "text": [
      "[Parallel(n_jobs=1)]: Done  50 out of  50 | elapsed:    0.2s finished\n",
      "[Parallel(n_jobs=5)]: Done 149 tasks      | elapsed:  1.8min\n",
      "[Parallel(n_jobs=1)]: Done  50 out of  50 | elapsed:    0.1s finished\n"
     ]
    },
    {
     "name": "stdout",
     "output_type": "stream",
     "text": [
      "[CV] ....... max_features=14, n_estimators=50, score=0.775281 -   0.6s\n",
      "[CV] max_features=14, n_estimators=50 ................................\n"
     ]
    },
    {
     "name": "stderr",
     "output_type": "stream",
     "text": [
      "[Parallel(n_jobs=1)]: Done  50 out of  50 | elapsed:    0.1s finished\n",
      "[Parallel(n_jobs=1)]: Done  50 out of  50 | elapsed:    0.1s finished\n"
     ]
    },
    {
     "name": "stdout",
     "output_type": "stream",
     "text": [
      "[CV] ....... max_features=14, n_estimators=50, score=0.853933 -   0.4s\n"
     ]
    },
    {
     "name": "stderr",
     "output_type": "stream",
     "text": [
      "[Parallel(n_jobs=5)]: Done 150 tasks      | elapsed:  1.8min\n",
      "[Parallel(n_jobs=5)]: Done 151 tasks      | elapsed:  1.8min\n"
     ]
    },
    {
     "name": "stdout",
     "output_type": "stream",
     "text": [
      "[CV] max_features=14, n_estimators=50 ................................\n"
     ]
    },
    {
     "name": "stderr",
     "output_type": "stream",
     "text": [
      "[Parallel(n_jobs=1)]: Done 1000 out of 1000 | elapsed:    1.2s finished\n"
     ]
    },
    {
     "name": "stdout",
     "output_type": "stream",
     "text": [
      "[CV] ..... max_features=10, n_estimators=1000, score=0.786517 -   7.4s\n",
      "[CV] max_features=14, n_estimators=50 ................................\n"
     ]
    },
    {
     "name": "stderr",
     "output_type": "stream",
     "text": [
      "[Parallel(n_jobs=1)]: Done  50 out of  50 | elapsed:    0.1s finished\n",
      "[Parallel(n_jobs=5)]: Done 152 tasks      | elapsed:  1.9min\n",
      "[Parallel(n_jobs=1)]: Done  50 out of  50 | elapsed:    0.2s finished\n",
      "[Parallel(n_jobs=1)]: Done  50 out of  50 | elapsed:    0.1s finished\n"
     ]
    },
    {
     "name": "stdout",
     "output_type": "stream",
     "text": [
      "[CV] ....... max_features=14, n_estimators=50, score=0.876404 -   0.4s\n",
      "[CV] max_features=14, n_estimators=50 ................................\n"
     ]
    },
    {
     "name": "stderr",
     "output_type": "stream",
     "text": [
      "[Parallel(n_jobs=1)]: Done  50 out of  50 | elapsed:    0.1s finished\n"
     ]
    },
    {
     "name": "stdout",
     "output_type": "stream",
     "text": [
      "[CV] ....... max_features=14, n_estimators=50, score=0.831461 -   0.7s\n",
      "[CV] max_features=14, n_estimators=50 ................................\n"
     ]
    },
    {
     "name": "stderr",
     "output_type": "stream",
     "text": [
      "[Parallel(n_jobs=1)]: Done  50 out of  50 | elapsed:    0.2s finished\n",
      "[Parallel(n_jobs=5)]: Done 153 tasks      | elapsed:  1.9min\n",
      "[Parallel(n_jobs=5)]: Done 154 tasks      | elapsed:  1.9min\n",
      "[Parallel(n_jobs=1)]: Done  50 out of  50 | elapsed:    0.1s finished\n"
     ]
    },
    {
     "name": "stdout",
     "output_type": "stream",
     "text": [
      "[CV] ....... max_features=14, n_estimators=50, score=0.842697 -   0.5s\n",
      "[CV] max_features=14, n_estimators=50 ................................\n"
     ]
    },
    {
     "name": "stderr",
     "output_type": "stream",
     "text": [
      "[Parallel(n_jobs=1)]: Done  50 out of  50 | elapsed:    0.1s finished\n",
      "[Parallel(n_jobs=5)]: Done 155 tasks      | elapsed:  1.9min\n",
      "[Parallel(n_jobs=1)]: Done  50 out of  50 | elapsed:    0.2s finished\n",
      "[Parallel(n_jobs=1)]: Done  50 out of  50 | elapsed:    0.1s finished\n",
      "[Parallel(n_jobs=1)]: Done  50 out of  50 | elapsed:    0.0s finished\n"
     ]
    },
    {
     "name": "stdout",
     "output_type": "stream",
     "text": [
      "[CV] ....... max_features=14, n_estimators=50, score=0.853933 -   0.5s\n",
      "[CV] ....... max_features=14, n_estimators=50, score=0.786517 -   0.5s\n",
      "[CV] max_features=14, n_estimators=100 ...............................\n",
      "[CV] max_features=14, n_estimators=100 ...............................\n"
     ]
    },
    {
     "name": "stderr",
     "output_type": "stream",
     "text": [
      "[Parallel(n_jobs=1)]: Done 1000 out of 1000 | elapsed:    2.9s finished\n",
      "[Parallel(n_jobs=5)]: Done 156 tasks      | elapsed:  1.9min\n",
      "[Parallel(n_jobs=5)]: Done 157 tasks      | elapsed:  1.9min\n",
      "[Parallel(n_jobs=1)]: Done  50 out of  50 | elapsed:    0.3s finished\n",
      "[Parallel(n_jobs=1)]: Done  50 out of  50 | elapsed:    0.1s finished\n"
     ]
    },
    {
     "name": "stdout",
     "output_type": "stream",
     "text": [
      "[CV] ....... max_features=14, n_estimators=50, score=0.829545 -   0.7s\n",
      "[CV] max_features=14, n_estimators=100 ...............................\n"
     ]
    },
    {
     "name": "stderr",
     "output_type": "stream",
     "text": [
      "[Parallel(n_jobs=1)]: Done 1000 out of 1000 | elapsed:    3.1s finished\n",
      "[Parallel(n_jobs=5)]: Done 158 tasks      | elapsed:  1.9min\n",
      "[Parallel(n_jobs=1)]: Done 100 out of 100 | elapsed:    0.3s finished\n",
      "[Parallel(n_jobs=1)]: Done 100 out of 100 | elapsed:    0.4s finished\n",
      "[Parallel(n_jobs=1)]: Done 100 out of 100 | elapsed:    0.2s finished\n"
     ]
    },
    {
     "name": "stdout",
     "output_type": "stream",
     "text": [
      "[CV] ...... max_features=14, n_estimators=100, score=0.844444 -   1.0s\n",
      "[CV] max_features=14, n_estimators=100 ...............................\n"
     ]
    },
    {
     "name": "stderr",
     "output_type": "stream",
     "text": [
      "[Parallel(n_jobs=1)]: Done 100 out of 100 | elapsed:    0.2s finished\n"
     ]
    },
    {
     "name": "stdout",
     "output_type": "stream",
     "text": [
      "[CV] ...... max_features=14, n_estimators=100, score=0.788889 -   1.1s\n",
      "[CV] max_features=14, n_estimators=100 ...............................\n"
     ]
    },
    {
     "name": "stderr",
     "output_type": "stream",
     "text": [
      "[Parallel(n_jobs=5)]: Done 159 tasks      | elapsed:  1.9min\n",
      "[Parallel(n_jobs=5)]: Done 160 tasks      | elapsed:  1.9min\n",
      "[Parallel(n_jobs=1)]: Done 100 out of 100 | elapsed:    0.3s finished\n",
      "[Parallel(n_jobs=1)]: Done 1000 out of 1000 | elapsed:    1.1s finished\n"
     ]
    },
    {
     "name": "stdout",
     "output_type": "stream",
     "text": [
      "[CV] ..... max_features=10, n_estimators=1000, score=0.840909 -   7.7s\n",
      "[CV] max_features=14, n_estimators=100 ...............................\n"
     ]
    },
    {
     "name": "stderr",
     "output_type": "stream",
     "text": [
      "[Parallel(n_jobs=1)]: Done 100 out of 100 | elapsed:    0.1s finished\n"
     ]
    },
    {
     "name": "stdout",
     "output_type": "stream",
     "text": [
      "[CV] ...... max_features=14, n_estimators=100, score=0.775281 -   0.8s\n",
      "[CV] max_features=14, n_estimators=100 ...............................\n"
     ]
    },
    {
     "name": "stderr",
     "output_type": "stream",
     "text": [
      "[Parallel(n_jobs=5)]: Done 161 tasks      | elapsed:  1.9min\n",
      "[Parallel(n_jobs=5)]: Done 162 tasks      | elapsed:  1.9min\n",
      "[Parallel(n_jobs=1)]: Done 100 out of 100 | elapsed:    0.2s finished\n",
      "[Parallel(n_jobs=1)]: Done 100 out of 100 | elapsed:    0.2s finished\n",
      "[Parallel(n_jobs=1)]: Done 1000 out of 1000 | elapsed:    1.3s finished\n"
     ]
    },
    {
     "name": "stdout",
     "output_type": "stream",
     "text": [
      "[CV] ..... max_features=10, n_estimators=1000, score=0.842697 -   8.4s\n",
      "[CV] max_features=14, n_estimators=100 ...............................\n"
     ]
    },
    {
     "name": "stderr",
     "output_type": "stream",
     "text": [
      "[Parallel(n_jobs=1)]: Done 100 out of 100 | elapsed:    0.1s finished\n",
      "[Parallel(n_jobs=1)]: Done 100 out of 100 | elapsed:    0.1s finished\n"
     ]
    },
    {
     "name": "stdout",
     "output_type": "stream",
     "text": [
      "[CV] ...... max_features=14, n_estimators=100, score=0.853933 -   0.9s\n",
      "[CV] ...... max_features=14, n_estimators=100, score=0.842697 -   0.8s\n",
      "[CV] max_features=14, n_estimators=100 ...............................\n",
      "[CV] max_features=14, n_estimators=100 ...............................\n"
     ]
    },
    {
     "name": "stderr",
     "output_type": "stream",
     "text": [
      "[Parallel(n_jobs=1)]: Done 100 out of 100 | elapsed:    0.4s finished\n",
      "[Parallel(n_jobs=5)]: Done 163 tasks      | elapsed:  1.9min\n",
      "[Parallel(n_jobs=5)]: Done 164 tasks      | elapsed:  1.9min\n",
      "[Parallel(n_jobs=5)]: Done 165 tasks      | elapsed:  1.9min\n",
      "[Parallel(n_jobs=1)]: Done 100 out of 100 | elapsed:    0.1s finished\n",
      "[Parallel(n_jobs=1)]: Done 100 out of 100 | elapsed:    0.3s finished\n"
     ]
    },
    {
     "name": "stdout",
     "output_type": "stream",
     "text": [
      "[CV] ...... max_features=14, n_estimators=100, score=0.865169 -   0.9s\n",
      "[CV] max_features=14, n_estimators=400 ...............................\n"
     ]
    },
    {
     "name": "stderr",
     "output_type": "stream",
     "text": [
      "[Parallel(n_jobs=1)]: Done 100 out of 100 | elapsed:    0.1s finished\n"
     ]
    },
    {
     "name": "stdout",
     "output_type": "stream",
     "text": [
      "[CV] ...... max_features=14, n_estimators=100, score=0.853933 -   1.0s\n",
      "[CV] max_features=14, n_estimators=400 ...............................\n"
     ]
    },
    {
     "name": "stderr",
     "output_type": "stream",
     "text": [
      "[Parallel(n_jobs=5)]: Done 166 tasks      | elapsed:  1.9min\n",
      "[Parallel(n_jobs=5)]: Done 167 tasks      | elapsed:  1.9min\n",
      "[Parallel(n_jobs=1)]: Done 100 out of 100 | elapsed:    0.3s finished\n",
      "[Parallel(n_jobs=1)]: Done 100 out of 100 | elapsed:    0.3s finished\n",
      "[Parallel(n_jobs=1)]: Done 100 out of 100 | elapsed:    0.2s finished\n",
      "[Parallel(n_jobs=1)]: Done 100 out of 100 | elapsed:    0.4s finished\n"
     ]
    },
    {
     "name": "stdout",
     "output_type": "stream",
     "text": [
      "[CV] ...... max_features=14, n_estimators=100, score=0.842697 -   1.0s\n"
     ]
    },
    {
     "name": "stderr",
     "output_type": "stream",
     "text": [
      "[Parallel(n_jobs=1)]: Done 100 out of 100 | elapsed:    0.1s finished\n"
     ]
    },
    {
     "name": "stdout",
     "output_type": "stream",
     "text": [
      "[CV] ...... max_features=14, n_estimators=100, score=0.852273 -   1.0s\n",
      "[CV] max_features=14, n_estimators=400 ...............................\n",
      "[CV] max_features=14, n_estimators=400 ...............................\n"
     ]
    },
    {
     "name": "stderr",
     "output_type": "stream",
     "text": [
      "[Parallel(n_jobs=1)]: Done 100 out of 100 | elapsed:    0.1s finished\n"
     ]
    },
    {
     "name": "stdout",
     "output_type": "stream",
     "text": [
      "[CV] ...... max_features=14, n_estimators=100, score=0.775281 -   1.2s\n",
      "[CV] max_features=14, n_estimators=400 ...............................\n"
     ]
    },
    {
     "name": "stderr",
     "output_type": "stream",
     "text": [
      "[Parallel(n_jobs=5)]: Done 168 tasks      | elapsed:  1.9min\n",
      "[Parallel(n_jobs=5)]: Done 169 tasks      | elapsed:  1.9min\n",
      "[Parallel(n_jobs=5)]: Done 170 tasks      | elapsed:  1.9min\n",
      "[Parallel(n_jobs=1)]: Done 400 out of 400 | elapsed:    0.9s finished\n",
      "[Parallel(n_jobs=1)]: Done 400 out of 400 | elapsed:    1.1s finished\n",
      "[Parallel(n_jobs=1)]: Done 400 out of 400 | elapsed:    0.7s finished\n"
     ]
    },
    {
     "name": "stdout",
     "output_type": "stream",
     "text": [
      "[CV] ...... max_features=14, n_estimators=400, score=0.777778 -   3.2s\n",
      "[CV] max_features=14, n_estimators=400 ...............................\n"
     ]
    },
    {
     "name": "stderr",
     "output_type": "stream",
     "text": [
      "[Parallel(n_jobs=1)]: Done 400 out of 400 | elapsed:    0.9s finished\n",
      "[Parallel(n_jobs=1)]: Done 400 out of 400 | elapsed:    0.5s finished\n"
     ]
    },
    {
     "name": "stdout",
     "output_type": "stream",
     "text": [
      "[CV] ...... max_features=14, n_estimators=400, score=0.844444 -   3.3s\n",
      "[CV] max_features=14, n_estimators=400 ...............................\n"
     ]
    },
    {
     "name": "stderr",
     "output_type": "stream",
     "text": [
      "[Parallel(n_jobs=5)]: Done 171 tasks      | elapsed:  2.0min\n",
      "[Parallel(n_jobs=5)]: Done 172 tasks      | elapsed:  2.0min\n",
      "[Parallel(n_jobs=1)]: Done 400 out of 400 | elapsed:    0.4s finished\n"
     ]
    },
    {
     "name": "stdout",
     "output_type": "stream",
     "text": [
      "[CV] ...... max_features=14, n_estimators=400, score=0.764045 -   2.9s\n",
      "[CV] max_features=14, n_estimators=400 ...............................\n"
     ]
    },
    {
     "name": "stderr",
     "output_type": "stream",
     "text": [
      "[Parallel(n_jobs=1)]: Done 400 out of 400 | elapsed:    1.4s finished\n",
      "[Parallel(n_jobs=5)]: Done 173 tasks      | elapsed:  2.0min\n",
      "[Parallel(n_jobs=1)]: Done 400 out of 400 | elapsed:    1.1s finished\n",
      "[Parallel(n_jobs=1)]: Done 400 out of 400 | elapsed:    0.4s finished\n"
     ]
    },
    {
     "name": "stdout",
     "output_type": "stream",
     "text": [
      "[CV] ...... max_features=14, n_estimators=400, score=0.842697 -   3.3s\n",
      "[CV] max_features=14, n_estimators=400 ...............................\n"
     ]
    },
    {
     "name": "stderr",
     "output_type": "stream",
     "text": [
      "[Parallel(n_jobs=5)]: Done 174 tasks      | elapsed:  2.0min\n",
      "[Parallel(n_jobs=1)]: Done 400 out of 400 | elapsed:    0.7s finished\n"
     ]
    },
    {
     "name": "stdout",
     "output_type": "stream",
     "text": [
      "[CV] ...... max_features=14, n_estimators=400, score=0.865169 -   3.8s\n",
      "[CV] max_features=14, n_estimators=400 ...............................\n"
     ]
    },
    {
     "name": "stderr",
     "output_type": "stream",
     "text": [
      "[Parallel(n_jobs=5)]: Done 175 tasks      | elapsed:  2.0min\n",
      "[Parallel(n_jobs=1)]: Done 400 out of 400 | elapsed:    1.2s finished\n",
      "[Parallel(n_jobs=1)]: Done 400 out of 400 | elapsed:    1.1s finished\n",
      "[Parallel(n_jobs=1)]: Done 400 out of 400 | elapsed:    0.7s finished\n"
     ]
    },
    {
     "name": "stdout",
     "output_type": "stream",
     "text": [
      "[CV] ...... max_features=14, n_estimators=400, score=0.853933 -   3.5s\n"
     ]
    },
    {
     "name": "stderr",
     "output_type": "stream",
     "text": [
      "[Parallel(n_jobs=1)]: Done 400 out of 400 | elapsed:    1.1s finished\n"
     ]
    },
    {
     "name": "stdout",
     "output_type": "stream",
     "text": [
      "[CV] max_features=14, n_estimators=700 ...............................\n"
     ]
    },
    {
     "name": "stderr",
     "output_type": "stream",
     "text": [
      "[Parallel(n_jobs=5)]: Done 176 tasks      | elapsed:  2.0min\n",
      "[Parallel(n_jobs=1)]: Done 400 out of 400 | elapsed:    0.4s finished\n"
     ]
    },
    {
     "name": "stdout",
     "output_type": "stream",
     "text": [
      "[CV] ...... max_features=14, n_estimators=400, score=0.831461 -   3.6s\n",
      "[CV] max_features=14, n_estimators=700 ...............................\n"
     ]
    },
    {
     "name": "stderr",
     "output_type": "stream",
     "text": [
      "[Parallel(n_jobs=5)]: Done 177 tasks      | elapsed:  2.0min\n",
      "[Parallel(n_jobs=1)]: Done 400 out of 400 | elapsed:    1.0s finished\n",
      "[Parallel(n_jobs=1)]: Done 400 out of 400 | elapsed:    0.5s finished\n"
     ]
    },
    {
     "name": "stdout",
     "output_type": "stream",
     "text": [
      "[CV] ...... max_features=14, n_estimators=400, score=0.775281 -   3.5s\n",
      "[CV] max_features=14, n_estimators=700 ...............................\n"
     ]
    },
    {
     "name": "stderr",
     "output_type": "stream",
     "text": [
      "[Parallel(n_jobs=1)]: Done 400 out of 400 | elapsed:    1.1s finished\n",
      "[Parallel(n_jobs=5)]: Done 178 tasks      | elapsed:  2.0min\n",
      "[Parallel(n_jobs=1)]: Done 400 out of 400 | elapsed:    0.4s finished\n"
     ]
    },
    {
     "name": "stdout",
     "output_type": "stream",
     "text": [
      "[CV] ...... max_features=14, n_estimators=400, score=0.840909 -   2.9s\n",
      "[CV] max_features=14, n_estimators=700 ...............................\n"
     ]
    },
    {
     "name": "stderr",
     "output_type": "stream",
     "text": [
      "[Parallel(n_jobs=5)]: Done 179 tasks      | elapsed:  2.0min\n",
      "[Parallel(n_jobs=1)]: Done 400 out of 400 | elapsed:    0.6s finished\n"
     ]
    },
    {
     "name": "stdout",
     "output_type": "stream",
     "text": [
      "[CV] ...... max_features=14, n_estimators=400, score=0.842697 -   3.7s\n",
      "[CV] max_features=14, n_estimators=700 ...............................\n"
     ]
    },
    {
     "name": "stderr",
     "output_type": "stream",
     "text": [
      "[Parallel(n_jobs=5)]: Done 180 tasks      | elapsed:  2.0min\n",
      "[Parallel(n_jobs=1)]: Done 700 out of 700 | elapsed:    1.7s finished\n",
      "[Parallel(n_jobs=1)]: Done 700 out of 700 | elapsed:    2.1s finished\n",
      "[Parallel(n_jobs=1)]: Done 700 out of 700 | elapsed:    1.7s finished\n",
      "[Parallel(n_jobs=1)]: Done 700 out of 700 | elapsed:    1.0s finished\n"
     ]
    },
    {
     "name": "stdout",
     "output_type": "stream",
     "text": [
      "[CV] ...... max_features=14, n_estimators=700, score=0.777778 -   5.6s\n",
      "[CV] max_features=14, n_estimators=700 ...............................\n"
     ]
    },
    {
     "name": "stderr",
     "output_type": "stream",
     "text": [
      "[Parallel(n_jobs=1)]: Done 700 out of 700 | elapsed:    2.0s finished\n",
      "[Parallel(n_jobs=5)]: Done 181 tasks      | elapsed:  2.1min\n",
      "[Parallel(n_jobs=1)]: Done 700 out of 700 | elapsed:    0.8s finished\n"
     ]
    },
    {
     "name": "stdout",
     "output_type": "stream",
     "text": [
      "[CV] ...... max_features=14, n_estimators=700, score=0.844444 -   5.9s\n"
     ]
    },
    {
     "name": "stderr",
     "output_type": "stream",
     "text": [
      "[Parallel(n_jobs=1)]: Done 700 out of 700 | elapsed:    0.8s finished\n"
     ]
    },
    {
     "name": "stdout",
     "output_type": "stream",
     "text": [
      "[CV] max_features=14, n_estimators=700 ...............................\n",
      "[CV] ...... max_features=14, n_estimators=700, score=0.764045 -   5.6s\n",
      "[CV] max_features=14, n_estimators=700 ...............................\n"
     ]
    },
    {
     "name": "stderr",
     "output_type": "stream",
     "text": [
      "[Parallel(n_jobs=5)]: Done 182 tasks      | elapsed:  2.1min\n",
      "[Parallel(n_jobs=5)]: Done 183 tasks      | elapsed:  2.1min\n",
      "[Parallel(n_jobs=1)]: Done 700 out of 700 | elapsed:    0.8s finished\n"
     ]
    },
    {
     "name": "stdout",
     "output_type": "stream",
     "text": [
      "[CV] ...... max_features=14, n_estimators=700, score=0.853933 -   5.6s\n",
      "[CV] max_features=14, n_estimators=700 ...............................\n"
     ]
    },
    {
     "name": "stderr",
     "output_type": "stream",
     "text": [
      "[Parallel(n_jobs=5)]: Done 184 tasks      | elapsed:  2.1min\n",
      "[Parallel(n_jobs=1)]: Done 700 out of 700 | elapsed:    2.2s finished\n",
      "[Parallel(n_jobs=1)]: Done 700 out of 700 | elapsed:    0.7s finished\n"
     ]
    },
    {
     "name": "stdout",
     "output_type": "stream",
     "text": [
      "[CV] ...... max_features=14, n_estimators=700, score=0.842697 -   6.2s\n",
      "[CV] max_features=14, n_estimators=700 ...............................\n"
     ]
    },
    {
     "name": "stderr",
     "output_type": "stream",
     "text": [
      "[Parallel(n_jobs=5)]: Done 185 tasks      | elapsed:  2.1min\n",
      "[Parallel(n_jobs=1)]: Done 700 out of 700 | elapsed:    1.9s finished\n",
      "[Parallel(n_jobs=1)]: Done 700 out of 700 | elapsed:    0.7s finished\n"
     ]
    },
    {
     "name": "stdout",
     "output_type": "stream",
     "text": [
      "[CV] ...... max_features=14, n_estimators=700, score=0.853933 -   5.5s\n",
      "[CV] max_features=14, n_estimators=1000 ..............................\n"
     ]
    },
    {
     "name": "stderr",
     "output_type": "stream",
     "text": [
      "[Parallel(n_jobs=5)]: Done 186 tasks      | elapsed:  2.2min\n",
      "[Parallel(n_jobs=1)]: Done 700 out of 700 | elapsed:    1.9s finished\n",
      "[Parallel(n_jobs=1)]: Done 700 out of 700 | elapsed:    1.9s finished\n",
      "[Parallel(n_jobs=1)]: Done 700 out of 700 | elapsed:    2.9s finished\n",
      "[Parallel(n_jobs=1)]: Done 700 out of 700 | elapsed:    1.7s finished\n",
      "[Parallel(n_jobs=1)]: Done 700 out of 700 | elapsed:    0.8s finished\n"
     ]
    },
    {
     "name": "stdout",
     "output_type": "stream",
     "text": [
      "[CV] ...... max_features=14, n_estimators=700, score=0.842697 -   5.6s\n",
      "[CV] max_features=14, n_estimators=1000 ..............................\n"
     ]
    },
    {
     "name": "stderr",
     "output_type": "stream",
     "text": [
      "[Parallel(n_jobs=5)]: Done 187 tasks      | elapsed:  2.2min\n",
      "[Parallel(n_jobs=1)]: Done 700 out of 700 | elapsed:    0.8s finished\n"
     ]
    },
    {
     "name": "stdout",
     "output_type": "stream",
     "text": [
      "[CV] ...... max_features=14, n_estimators=700, score=0.831461 -   6.3s\n"
     ]
    },
    {
     "name": "stderr",
     "output_type": "stream",
     "text": [
      "[Parallel(n_jobs=1)]: Done 700 out of 700 | elapsed:    1.1s finished\n"
     ]
    },
    {
     "name": "stdout",
     "output_type": "stream",
     "text": [
      "[CV] ...... max_features=14, n_estimators=700, score=0.775281 -   6.3s\n",
      "[CV] max_features=14, n_estimators=1000 ..............................\n",
      "[CV] max_features=14, n_estimators=1000 ..............................\n"
     ]
    },
    {
     "name": "stderr",
     "output_type": "stream",
     "text": [
      "[Parallel(n_jobs=5)]: Done 188 tasks      | elapsed:  2.2min\n",
      "[Parallel(n_jobs=5)]: Done 189 tasks      | elapsed:  2.2min\n",
      "[Parallel(n_jobs=1)]: Done 700 out of 700 | elapsed:    1.0s finished\n"
     ]
    },
    {
     "name": "stdout",
     "output_type": "stream",
     "text": [
      "[CV] ...... max_features=14, n_estimators=700, score=0.840909 -   5.4s\n",
      "[CV] max_features=14, n_estimators=1000 ..............................\n"
     ]
    },
    {
     "name": "stderr",
     "output_type": "stream",
     "text": [
      "[Parallel(n_jobs=5)]: Done 190 tasks      | elapsed:  2.2min\n",
      "[Parallel(n_jobs=1)]: Done 1000 out of 1000 | elapsed:    2.7s finished\n",
      "[Parallel(n_jobs=1)]: Done 1000 out of 1000 | elapsed:    2.4s finished\n",
      "[Parallel(n_jobs=1)]: Done 1000 out of 1000 | elapsed:    2.6s finished\n",
      "[Parallel(n_jobs=1)]: Done 1000 out of 1000 | elapsed:    1.7s finished\n"
     ]
    },
    {
     "name": "stdout",
     "output_type": "stream",
     "text": [
      "[CV] ..... max_features=14, n_estimators=1000, score=0.777778 -   8.3s\n",
      "[CV] max_features=14, n_estimators=1000 ..............................\n"
     ]
    },
    {
     "name": "stderr",
     "output_type": "stream",
     "text": [
      "[Parallel(n_jobs=1)]: Done 1000 out of 1000 | elapsed:    2.7s finished\n",
      "[Parallel(n_jobs=1)]: Done 1000 out of 1000 | elapsed:    1.0s finished\n"
     ]
    },
    {
     "name": "stdout",
     "output_type": "stream",
     "text": [
      "[CV] ..... max_features=14, n_estimators=1000, score=0.844444 -   7.5s\n",
      "[CV] max_features=14, n_estimators=1000 ..............................\n"
     ]
    },
    {
     "name": "stderr",
     "output_type": "stream",
     "text": [
      "[Parallel(n_jobs=5)]: Done 191 tasks      | elapsed:  2.3min\n",
      "[Parallel(n_jobs=5)]: Done 192 tasks      | elapsed:  2.3min\n",
      "[Parallel(n_jobs=1)]: Done 1000 out of 1000 | elapsed:    3.0s finished\n",
      "[Parallel(n_jobs=1)]: Done 1000 out of 1000 | elapsed:    1.3s finished\n"
     ]
    },
    {
     "name": "stdout",
     "output_type": "stream",
     "text": [
      "[CV] ..... max_features=14, n_estimators=1000, score=0.764045 -   7.8s\n",
      "[CV] max_features=14, n_estimators=1000 ..............................\n"
     ]
    },
    {
     "name": "stderr",
     "output_type": "stream",
     "text": [
      "[Parallel(n_jobs=5)]: Done 193 tasks      | elapsed:  2.4min\n",
      "[Parallel(n_jobs=1)]: Done 1000 out of 1000 | elapsed:    1.2s finished\n"
     ]
    },
    {
     "name": "stdout",
     "output_type": "stream",
     "text": [
      "[CV] ..... max_features=14, n_estimators=1000, score=0.842697 -   7.8s\n",
      "[CV] max_features=14, n_estimators=1000 ..............................\n"
     ]
    },
    {
     "name": "stderr",
     "output_type": "stream",
     "text": [
      "[Parallel(n_jobs=5)]: Done 194 tasks      | elapsed:  2.4min\n",
      "[Parallel(n_jobs=1)]: Done 1000 out of 1000 | elapsed:    1.2s finished\n"
     ]
    },
    {
     "name": "stdout",
     "output_type": "stream",
     "text": [
      "[CV] ..... max_features=14, n_estimators=1000, score=0.853933 -   9.0s\n",
      "[CV] max_features=14, n_estimators=1000 ..............................\n"
     ]
    },
    {
     "name": "stderr",
     "output_type": "stream",
     "text": [
      "[Parallel(n_jobs=5)]: Done 195 tasks      | elapsed:  2.4min\n",
      "[Parallel(n_jobs=1)]: Done 1000 out of 1000 | elapsed:    2.5s finished\n",
      "[Parallel(n_jobs=1)]: Done 1000 out of 1000 | elapsed:    2.5s finished\n",
      "[Parallel(n_jobs=1)]: Done 1000 out of 1000 | elapsed:    2.6s finished\n",
      "[Parallel(n_jobs=1)]: Done 1000 out of 1000 | elapsed:    1.3s finished\n"
     ]
    },
    {
     "name": "stdout",
     "output_type": "stream",
     "text": [
      "[CV] ..... max_features=14, n_estimators=1000, score=0.853933 -   7.7s\n",
      "[CV] max_features=18, n_estimators=50 ................................\n"
     ]
    },
    {
     "name": "stderr",
     "output_type": "stream",
     "text": [
      "[Parallel(n_jobs=1)]: Done 1000 out of 1000 | elapsed:    2.6s finished\n",
      "[Parallel(n_jobs=5)]: Done 196 tasks      | elapsed:  2.5min\n",
      "[Parallel(n_jobs=1)]: Done  50 out of  50 | elapsed:    0.1s finished\n",
      "[Parallel(n_jobs=1)]: Done  50 out of  50 | elapsed:    0.1s finished\n"
     ]
    },
    {
     "name": "stdout",
     "output_type": "stream",
     "text": [
      "[CV] ....... max_features=18, n_estimators=50, score=0.766667 -   0.5s\n",
      "[CV] max_features=18, n_estimators=50 ................................\n"
     ]
    },
    {
     "name": "stderr",
     "output_type": "stream",
     "text": [
      "[Parallel(n_jobs=5)]: Done 197 tasks      | elapsed:  2.5min\n",
      "[Parallel(n_jobs=1)]: Done  50 out of  50 | elapsed:    0.2s finished\n",
      "[Parallel(n_jobs=1)]: Done  50 out of  50 | elapsed:    0.1s finished\n",
      "[Parallel(n_jobs=1)]: Done 1000 out of 1000 | elapsed:    1.4s finished\n"
     ]
    },
    {
     "name": "stdout",
     "output_type": "stream",
     "text": [
      "[CV] ....... max_features=18, n_estimators=50, score=0.866667 -   0.4s\n",
      "[CV] ..... max_features=14, n_estimators=1000, score=0.831461 -   8.6s\n",
      "[CV] max_features=18, n_estimators=50 ................................\n",
      "[CV] max_features=18, n_estimators=50 ................................\n"
     ]
    },
    {
     "name": "stderr",
     "output_type": "stream",
     "text": [
      "[Parallel(n_jobs=1)]: Done 1000 out of 1000 | elapsed:    1.5s finished\n",
      "[Parallel(n_jobs=5)]: Done 198 tasks      | elapsed:  2.5min\n",
      "[Parallel(n_jobs=5)]: Done 199 tasks      | elapsed:  2.5min\n"
     ]
    },
    {
     "name": "stdout",
     "output_type": "stream",
     "text": [
      "[CV] ..... max_features=14, n_estimators=1000, score=0.775281 -   8.0s\n",
      "[CV] max_features=18, n_estimators=50 ................................\n"
     ]
    },
    {
     "name": "stderr",
     "output_type": "stream",
     "text": [
      "[Parallel(n_jobs=5)]: Done 200 tasks      | elapsed:  2.5min\n",
      "[Parallel(n_jobs=1)]: Done  50 out of  50 | elapsed:    0.2s finished\n",
      "[Parallel(n_jobs=1)]: Done 1000 out of 1000 | elapsed:    1.4s finished\n",
      "[Parallel(n_jobs=1)]: Done  50 out of  50 | elapsed:    0.1s finished\n"
     ]
    },
    {
     "name": "stdout",
     "output_type": "stream",
     "text": [
      "[CV] ..... max_features=14, n_estimators=1000, score=0.842697 -   7.9s\n",
      "[CV] max_features=18, n_estimators=50 ................................\n"
     ]
    },
    {
     "name": "stderr",
     "output_type": "stream",
     "text": [
      "[Parallel(n_jobs=1)]: Done  50 out of  50 | elapsed:    0.0s finished\n"
     ]
    },
    {
     "name": "stdout",
     "output_type": "stream",
     "text": [
      "[CV] ....... max_features=18, n_estimators=50, score=0.853933 -   0.5s\n",
      "[CV] max_features=18, n_estimators=50 ................................\n"
     ]
    },
    {
     "name": "stderr",
     "output_type": "stream",
     "text": [
      "[Parallel(n_jobs=1)]: Done  50 out of  50 | elapsed:    0.1s finished\n"
     ]
    },
    {
     "name": "stdout",
     "output_type": "stream",
     "text": [
      "[CV] ....... max_features=18, n_estimators=50, score=0.764045 -   0.6s\n",
      "[CV] max_features=18, n_estimators=50 ................................\n"
     ]
    },
    {
     "name": "stderr",
     "output_type": "stream",
     "text": [
      "[Parallel(n_jobs=1)]: Done 1000 out of 1000 | elapsed:    2.9s finished\n",
      "[Parallel(n_jobs=5)]: Done 201 tasks      | elapsed:  2.5min\n",
      "[Parallel(n_jobs=5)]: Done 202 tasks      | elapsed:  2.5min\n",
      "[Parallel(n_jobs=5)]: Done 203 tasks      | elapsed:  2.5min\n",
      "[Parallel(n_jobs=1)]: Done  50 out of  50 | elapsed:    0.2s finished\n",
      "[Parallel(n_jobs=1)]: Done  50 out of  50 | elapsed:    0.1s finished\n",
      "[Parallel(n_jobs=1)]: Done  50 out of  50 | elapsed:    0.1s finished\n"
     ]
    },
    {
     "name": "stdout",
     "output_type": "stream",
     "text": [
      "[CV] ....... max_features=18, n_estimators=50, score=0.842697 -   0.7s\n",
      "[CV] max_features=18, n_estimators=50 ................................\n"
     ]
    },
    {
     "name": "stderr",
     "output_type": "stream",
     "text": [
      "[Parallel(n_jobs=1)]: Done  50 out of  50 | elapsed:    0.1s finished\n"
     ]
    },
    {
     "name": "stdout",
     "output_type": "stream",
     "text": [
      "[CV] ....... max_features=18, n_estimators=50, score=0.808989 -   0.4s\n",
      "[CV] max_features=18, n_estimators=50 ................................\n"
     ]
    },
    {
     "name": "stderr",
     "output_type": "stream",
     "text": [
      "[Parallel(n_jobs=1)]: Done  50 out of  50 | elapsed:    0.2s finished\n",
      "[Parallel(n_jobs=5)]: Done 204 tasks      | elapsed:  2.5min\n",
      "[Parallel(n_jobs=5)]: Done 205 tasks      | elapsed:  2.5min\n",
      "[Parallel(n_jobs=1)]: Done  50 out of  50 | elapsed:    0.1s finished\n"
     ]
    },
    {
     "name": "stdout",
     "output_type": "stream",
     "text": [
      "[CV] ....... max_features=18, n_estimators=50, score=0.786517 -   0.6s\n",
      "[CV] max_features=18, n_estimators=100 ...............................\n"
     ]
    },
    {
     "name": "stderr",
     "output_type": "stream",
     "text": [
      "[Parallel(n_jobs=1)]: Done  50 out of  50 | elapsed:    0.4s finished\n",
      "[Parallel(n_jobs=1)]: Done  50 out of  50 | elapsed:    0.2s finished\n",
      "[Parallel(n_jobs=5)]: Done 206 tasks      | elapsed:  2.5min\n",
      "[Parallel(n_jobs=1)]: Done  50 out of  50 | elapsed:    0.1s finished\n",
      "[Parallel(n_jobs=1)]: Done  50 out of  50 | elapsed:    0.1s finished\n"
     ]
    },
    {
     "name": "stdout",
     "output_type": "stream",
     "text": [
      "[CV] ....... max_features=18, n_estimators=50, score=0.853933 -   0.9s\n",
      "[CV] ....... max_features=18, n_estimators=50, score=0.842697 -   0.5s\n",
      "[CV] max_features=18, n_estimators=100 ...............................\n",
      "[CV] max_features=18, n_estimators=100 ...............................\n"
     ]
    },
    {
     "name": "stderr",
     "output_type": "stream",
     "text": [
      "[Parallel(n_jobs=1)]: Done  50 out of  50 | elapsed:    0.2s finished\n",
      "[Parallel(n_jobs=1)]: Done  50 out of  50 | elapsed:    0.1s finished\n"
     ]
    },
    {
     "name": "stdout",
     "output_type": "stream",
     "text": [
      "[CV] ....... max_features=18, n_estimators=50, score=0.852273 -   0.6s\n",
      "[CV] max_features=18, n_estimators=100 ...............................\n"
     ]
    },
    {
     "name": "stderr",
     "output_type": "stream",
     "text": [
      "[Parallel(n_jobs=5)]: Done 207 tasks      | elapsed:  2.5min\n",
      "[Parallel(n_jobs=5)]: Done 208 tasks      | elapsed:  2.5min\n",
      "[Parallel(n_jobs=5)]: Done 209 tasks      | elapsed:  2.5min\n",
      "[Parallel(n_jobs=1)]: Done 1000 out of 1000 | elapsed:    1.2s finished\n"
     ]
    },
    {
     "name": "stdout",
     "output_type": "stream",
     "text": [
      "[CV] ..... max_features=14, n_estimators=1000, score=0.840909 -   8.5s\n",
      "[CV] max_features=18, n_estimators=100 ...............................\n"
     ]
    },
    {
     "name": "stderr",
     "output_type": "stream",
     "text": [
      "[Parallel(n_jobs=5)]: Done 210 tasks      | elapsed:  2.5min\n",
      "[Parallel(n_jobs=1)]: Done 100 out of 100 | elapsed:    0.4s finished\n",
      "[Parallel(n_jobs=1)]: Done 100 out of 100 | elapsed:    0.3s finished\n",
      "[Parallel(n_jobs=1)]: Done 100 out of 100 | elapsed:    0.3s finished\n",
      "[Parallel(n_jobs=1)]: Done 100 out of 100 | elapsed:    0.2s finished\n"
     ]
    },
    {
     "name": "stdout",
     "output_type": "stream",
     "text": [
      "[CV] ...... max_features=18, n_estimators=100, score=0.755556 -   1.1s\n",
      "[CV] max_features=18, n_estimators=100 ...............................\n"
     ]
    },
    {
     "name": "stderr",
     "output_type": "stream",
     "text": [
      "[Parallel(n_jobs=1)]: Done 100 out of 100 | elapsed:    0.1s finished\n"
     ]
    },
    {
     "name": "stdout",
     "output_type": "stream",
     "text": [
      "[CV] ...... max_features=18, n_estimators=100, score=0.853933 -   0.7s\n",
      "[CV] max_features=18, n_estimators=100 ...............................\n"
     ]
    },
    {
     "name": "stderr",
     "output_type": "stream",
     "text": [
      "[Parallel(n_jobs=1)]: Done 100 out of 100 | elapsed:    0.2s finished\n"
     ]
    },
    {
     "name": "stdout",
     "output_type": "stream",
     "text": [
      "[CV] ...... max_features=18, n_estimators=100, score=0.764045 -   0.9s\n",
      "[CV] max_features=18, n_estimators=100 ...............................\n"
     ]
    },
    {
     "name": "stderr",
     "output_type": "stream",
     "text": [
      "[Parallel(n_jobs=1)]: Done 100 out of 100 | elapsed:    0.3s finished\n",
      "[Parallel(n_jobs=5)]: Done 211 tasks      | elapsed:  2.5min\n",
      "[Parallel(n_jobs=5)]: Done 212 tasks      | elapsed:  2.5min\n",
      "[Parallel(n_jobs=5)]: Done 213 tasks      | elapsed:  2.5min\n",
      "[Parallel(n_jobs=1)]: Done 100 out of 100 | elapsed:    0.1s finished\n"
     ]
    },
    {
     "name": "stdout",
     "output_type": "stream",
     "text": [
      "[CV] ...... max_features=18, n_estimators=100, score=0.844444 -   1.1s\n",
      "[CV] max_features=18, n_estimators=100 ...............................\n"
     ]
    },
    {
     "name": "stderr",
     "output_type": "stream",
     "text": [
      "[Parallel(n_jobs=1)]: Done 100 out of 100 | elapsed:    0.3s finished\n",
      "[Parallel(n_jobs=5)]: Done 214 tasks      | elapsed:  2.5min\n",
      "[Parallel(n_jobs=1)]: Done 100 out of 100 | elapsed:    0.1s finished\n"
     ]
    },
    {
     "name": "stdout",
     "output_type": "stream",
     "text": [
      "[CV] ...... max_features=18, n_estimators=100, score=0.842697 -   1.0s\n",
      "[CV] max_features=18, n_estimators=100 ...............................\n"
     ]
    },
    {
     "name": "stderr",
     "output_type": "stream",
     "text": [
      "[Parallel(n_jobs=5)]: Done 215 tasks      | elapsed:  2.5min\n",
      "[Parallel(n_jobs=1)]: Done 100 out of 100 | elapsed:    0.3s finished\n",
      "[Parallel(n_jobs=1)]: Done 100 out of 100 | elapsed:    0.1s finished\n"
     ]
    },
    {
     "name": "stdout",
     "output_type": "stream",
     "text": [
      "[CV] ...... max_features=18, n_estimators=100, score=0.820225 -   0.9s\n",
      "[CV] max_features=18, n_estimators=400 ...............................\n"
     ]
    },
    {
     "name": "stderr",
     "output_type": "stream",
     "text": [
      "[Parallel(n_jobs=1)]: Done 100 out of 100 | elapsed:    0.4s finished\n",
      "[Parallel(n_jobs=1)]: Done 100 out of 100 | elapsed:    0.3s finished\n",
      "[Parallel(n_jobs=1)]: Done 100 out of 100 | elapsed:    0.5s finished\n",
      "[Parallel(n_jobs=5)]: Done 216 tasks      | elapsed:  2.5min\n",
      "[Parallel(n_jobs=1)]: Done 100 out of 100 | elapsed:    0.1s finished\n"
     ]
    },
    {
     "name": "stdout",
     "output_type": "stream",
     "text": [
      "[CV] ...... max_features=18, n_estimators=100, score=0.786517 -   1.1s\n",
      "[CV] max_features=18, n_estimators=400 ...............................\n"
     ]
    },
    {
     "name": "stderr",
     "output_type": "stream",
     "text": [
      "[Parallel(n_jobs=1)]: Done 100 out of 100 | elapsed:    0.2s finished\n"
     ]
    },
    {
     "name": "stdout",
     "output_type": "stream",
     "text": [
      "[CV] ...... max_features=18, n_estimators=100, score=0.842697 -   1.0s\n"
     ]
    },
    {
     "name": "stderr",
     "output_type": "stream",
     "text": [
      "[Parallel(n_jobs=1)]: Done 100 out of 100 | elapsed:    0.2s finished\n"
     ]
    },
    {
     "name": "stdout",
     "output_type": "stream",
     "text": [
      "[CV] max_features=18, n_estimators=400 ...............................\n",
      "[CV] ...... max_features=18, n_estimators=100, score=0.853933 -   1.4s\n",
      "[CV] max_features=18, n_estimators=400 ...............................\n"
     ]
    },
    {
     "name": "stderr",
     "output_type": "stream",
     "text": [
      "[Parallel(n_jobs=5)]: Done 217 tasks      | elapsed:  2.5min\n",
      "[Parallel(n_jobs=5)]: Done 218 tasks      | elapsed:  2.5min\n",
      "[Parallel(n_jobs=5)]: Done 219 tasks      | elapsed:  2.5min\n",
      "[Parallel(n_jobs=1)]: Done 100 out of 100 | elapsed:    0.5s finished\n",
      "[Parallel(n_jobs=1)]: Done 100 out of 100 | elapsed:    0.2s finished\n"
     ]
    },
    {
     "name": "stdout",
     "output_type": "stream",
     "text": [
      "[CV] ...... max_features=18, n_estimators=100, score=0.840909 -   1.2s\n",
      "[CV] max_features=18, n_estimators=400 ...............................\n"
     ]
    },
    {
     "name": "stderr",
     "output_type": "stream",
     "text": [
      "[Parallel(n_jobs=5)]: Done 220 tasks      | elapsed:  2.6min\n",
      "[Parallel(n_jobs=1)]: Done 400 out of 400 | elapsed:    1.0s finished\n",
      "[Parallel(n_jobs=1)]: Done 400 out of 400 | elapsed:    0.4s finished\n"
     ]
    },
    {
     "name": "stdout",
     "output_type": "stream",
     "text": [
      "[CV] ...... max_features=18, n_estimators=400, score=0.755556 -   3.1s\n",
      "[CV] max_features=18, n_estimators=400 ...............................\n"
     ]
    },
    {
     "name": "stderr",
     "output_type": "stream",
     "text": [
      "[Parallel(n_jobs=1)]: Done 400 out of 400 | elapsed:    1.3s finished\n",
      "[Parallel(n_jobs=5)]: Done 221 tasks      | elapsed:  2.6min\n",
      "[Parallel(n_jobs=1)]: Done 400 out of 400 | elapsed:    1.4s finished\n",
      "[Parallel(n_jobs=1)]: Done 400 out of 400 | elapsed:    1.3s finished\n",
      "[Parallel(n_jobs=1)]: Done 400 out of 400 | elapsed:    0.5s finished\n"
     ]
    },
    {
     "name": "stdout",
     "output_type": "stream",
     "text": [
      "[CV] ...... max_features=18, n_estimators=400, score=0.764045 -   3.4s\n",
      "[CV] max_features=18, n_estimators=400 ...............................\n"
     ]
    },
    {
     "name": "stderr",
     "output_type": "stream",
     "text": [
      "[Parallel(n_jobs=5)]: Done 222 tasks      | elapsed:  2.6min\n",
      "[Parallel(n_jobs=1)]: Done 400 out of 400 | elapsed:    0.4s finished\n"
     ]
    },
    {
     "name": "stdout",
     "output_type": "stream",
     "text": [
      "[CV] ...... max_features=18, n_estimators=400, score=0.844444 -   3.8s\n",
      "[CV] max_features=18, n_estimators=400 ...............................\n"
     ]
    },
    {
     "name": "stderr",
     "output_type": "stream",
     "text": [
      "[Parallel(n_jobs=1)]: Done 400 out of 400 | elapsed:    0.7s finished\n"
     ]
    },
    {
     "name": "stdout",
     "output_type": "stream",
     "text": [
      "[CV] ...... max_features=18, n_estimators=400, score=0.865169 -   3.8s\n",
      "[CV] max_features=18, n_estimators=400 ...............................\n"
     ]
    },
    {
     "name": "stderr",
     "output_type": "stream",
     "text": [
      "[Parallel(n_jobs=1)]: Done 400 out of 400 | elapsed:    1.5s finished\n",
      "[Parallel(n_jobs=5)]: Done 223 tasks      | elapsed:  2.6min\n",
      "[Parallel(n_jobs=5)]: Done 224 tasks      | elapsed:  2.6min\n",
      "[Parallel(n_jobs=1)]: Done 400 out of 400 | elapsed:    0.6s finished\n"
     ]
    },
    {
     "name": "stdout",
     "output_type": "stream",
     "text": [
      "[CV] ...... max_features=18, n_estimators=400, score=0.842697 -   4.1s\n",
      "[CV] max_features=18, n_estimators=400 ...............................\n"
     ]
    },
    {
     "name": "stderr",
     "output_type": "stream",
     "text": [
      "[Parallel(n_jobs=5)]: Done 225 tasks      | elapsed:  2.6min\n",
      "[Parallel(n_jobs=1)]: Done 400 out of 400 | elapsed:    1.5s finished\n",
      "[Parallel(n_jobs=1)]: Done 400 out of 400 | elapsed:    1.1s finished\n",
      "[Parallel(n_jobs=1)]: Done 400 out of 400 | elapsed:    1.1s finished\n",
      "[Parallel(n_jobs=1)]: Done 400 out of 400 | elapsed:    0.4s finished\n"
     ]
    },
    {
     "name": "stdout",
     "output_type": "stream",
     "text": [
      "[CV] ...... max_features=18, n_estimators=400, score=0.831461 -   3.2s\n",
      "[CV] max_features=18, n_estimators=700 ...............................\n"
     ]
    },
    {
     "name": "stderr",
     "output_type": "stream",
     "text": [
      "[Parallel(n_jobs=1)]: Done 400 out of 400 | elapsed:    1.4s finished\n",
      "[Parallel(n_jobs=5)]: Done 226 tasks      | elapsed:  2.7min\n",
      "[Parallel(n_jobs=1)]: Done 400 out of 400 | elapsed:    0.8s finished\n"
     ]
    },
    {
     "name": "stdout",
     "output_type": "stream",
     "text": [
      "[CV] ...... max_features=18, n_estimators=400, score=0.865169 -   4.2s\n",
      "[CV] max_features=18, n_estimators=700 ...............................\n"
     ]
    },
    {
     "name": "stderr",
     "output_type": "stream",
     "text": [
      "[Parallel(n_jobs=1)]: Done 400 out of 400 | elapsed:    0.5s finished\n"
     ]
    },
    {
     "name": "stdout",
     "output_type": "stream",
     "text": [
      "[CV] ...... max_features=18, n_estimators=400, score=0.797753 -   3.3s\n",
      "[CV] max_features=18, n_estimators=700 ...............................\n"
     ]
    },
    {
     "name": "stderr",
     "output_type": "stream",
     "text": [
      "[Parallel(n_jobs=5)]: Done 227 tasks      | elapsed:  2.7min\n",
      "[Parallel(n_jobs=5)]: Done 228 tasks      | elapsed:  2.7min\n",
      "[Parallel(n_jobs=1)]: Done 400 out of 400 | elapsed:    1.2s finished\n",
      "[Parallel(n_jobs=1)]: Done 400 out of 400 | elapsed:    0.8s finished\n"
     ]
    },
    {
     "name": "stdout",
     "output_type": "stream",
     "text": [
      "[CV] ...... max_features=18, n_estimators=400, score=0.842697 -   3.8s\n",
      "[CV] max_features=18, n_estimators=700 ...............................\n"
     ]
    },
    {
     "name": "stderr",
     "output_type": "stream",
     "text": [
      "[Parallel(n_jobs=5)]: Done 229 tasks      | elapsed:  2.7min\n",
      "[Parallel(n_jobs=1)]: Done 400 out of 400 | elapsed:    0.5s finished\n"
     ]
    },
    {
     "name": "stdout",
     "output_type": "stream",
     "text": [
      "[CV] ...... max_features=18, n_estimators=400, score=0.840909 -   3.4s\n",
      "[CV] max_features=18, n_estimators=700 ...............................\n"
     ]
    },
    {
     "name": "stderr",
     "output_type": "stream",
     "text": [
      "[Parallel(n_jobs=5)]: Done 230 tasks      | elapsed:  2.7min\n",
      "[Parallel(n_jobs=1)]: Done 700 out of 700 | elapsed:    2.6s finished\n",
      "[Parallel(n_jobs=1)]: Done 700 out of 700 | elapsed:    3.0s finished\n",
      "[Parallel(n_jobs=1)]: Done 700 out of 700 | elapsed:    3.7s finished\n",
      "[Parallel(n_jobs=1)]: Done 700 out of 700 | elapsed:    3.4s finished\n",
      "[Parallel(n_jobs=1)]: Done 700 out of 700 | elapsed:    0.9s finished\n"
     ]
    },
    {
     "name": "stdout",
     "output_type": "stream",
     "text": [
      "[CV] ...... max_features=18, n_estimators=700, score=0.844444 -   7.0s\n",
      "[CV] max_features=18, n_estimators=700 ...............................\n"
     ]
    },
    {
     "name": "stderr",
     "output_type": "stream",
     "text": [
      "[Parallel(n_jobs=5)]: Done 231 tasks      | elapsed:  2.8min\n",
      "[Parallel(n_jobs=1)]: Done 700 out of 700 | elapsed:    3.9s finished\n",
      "[Parallel(n_jobs=1)]: Done 700 out of 700 | elapsed:    1.8s finished\n"
     ]
    },
    {
     "name": "stdout",
     "output_type": "stream",
     "text": [
      "[CV] ...... max_features=18, n_estimators=700, score=0.764045 -   7.5s\n",
      "[CV] max_features=18, n_estimators=700 ...............................\n"
     ]
    },
    {
     "name": "stderr",
     "output_type": "stream",
     "text": [
      "[Parallel(n_jobs=5)]: Done 232 tasks      | elapsed:  2.8min\n",
      "[Parallel(n_jobs=1)]: Done 700 out of 700 | elapsed:    1.4s finished\n"
     ]
    },
    {
     "name": "stdout",
     "output_type": "stream",
     "text": [
      "[CV] ...... max_features=18, n_estimators=700, score=0.755556 -   8.2s\n",
      "[CV] max_features=18, n_estimators=700 ...............................\n"
     ]
    },
    {
     "name": "stderr",
     "output_type": "stream",
     "text": [
      "[Parallel(n_jobs=5)]: Done 233 tasks      | elapsed:  2.8min\n",
      "[Parallel(n_jobs=1)]: Done 700 out of 700 | elapsed:    1.6s finished\n"
     ]
    },
    {
     "name": "stdout",
     "output_type": "stream",
     "text": [
      "[CV] ...... max_features=18, n_estimators=700, score=0.865169 -   7.8s\n",
      "[CV] max_features=18, n_estimators=700 ...............................\n"
     ]
    },
    {
     "name": "stderr",
     "output_type": "stream",
     "text": [
      "[Parallel(n_jobs=1)]: Done 700 out of 700 | elapsed:    1.1s finished\n"
     ]
    },
    {
     "name": "stdout",
     "output_type": "stream",
     "text": [
      "[CV] ...... max_features=18, n_estimators=700, score=0.831461 -   7.6s\n"
     ]
    },
    {
     "name": "stderr",
     "output_type": "stream",
     "text": [
      "[Parallel(n_jobs=5)]: Done 234 tasks      | elapsed:  2.8min\n",
      "[Parallel(n_jobs=5)]: Done 235 tasks      | elapsed:  2.8min\n"
     ]
    },
    {
     "name": "stdout",
     "output_type": "stream",
     "text": [
      "[CV] max_features=18, n_estimators=700 ...............................\n"
     ]
    },
    {
     "name": "stderr",
     "output_type": "stream",
     "text": [
      "[Parallel(n_jobs=1)]: Done 700 out of 700 | elapsed:    2.4s finished\n",
      "[Parallel(n_jobs=1)]: Done 700 out of 700 | elapsed:    0.7s finished\n"
     ]
    },
    {
     "name": "stdout",
     "output_type": "stream",
     "text": [
      "[CV] ...... max_features=18, n_estimators=700, score=0.865169 -   7.1s\n",
      "[CV] max_features=18, n_estimators=1000 ..............................\n"
     ]
    },
    {
     "name": "stderr",
     "output_type": "stream",
     "text": [
      "[Parallel(n_jobs=5)]: Done 236 tasks      | elapsed:  2.9min\n",
      "[Parallel(n_jobs=1)]: Done 700 out of 700 | elapsed:    2.7s finished\n",
      "[Parallel(n_jobs=1)]: Done 700 out of 700 | elapsed:    2.9s finished\n",
      "[Parallel(n_jobs=1)]: Done 700 out of 700 | elapsed:    2.7s finished\n",
      "[Parallel(n_jobs=1)]: Done 700 out of 700 | elapsed:    1.3s finished\n"
     ]
    },
    {
     "name": "stdout",
     "output_type": "stream",
     "text": [
      "[CV] ...... max_features=18, n_estimators=700, score=0.831461 -   8.4s\n"
     ]
    },
    {
     "name": "stderr",
     "output_type": "stream",
     "text": [
      "[Parallel(n_jobs=1)]: Done 700 out of 700 | elapsed:    1.0s finished\n"
     ]
    },
    {
     "name": "stdout",
     "output_type": "stream",
     "text": [
      "[CV] max_features=18, n_estimators=1000 ..............................\n",
      "[CV] ...... max_features=18, n_estimators=700, score=0.786517 -   8.1s\n",
      "[CV] max_features=18, n_estimators=1000 ..............................\n"
     ]
    },
    {
     "name": "stderr",
     "output_type": "stream",
     "text": [
      "[Parallel(n_jobs=1)]: Done 700 out of 700 | elapsed:    3.4s finished\n",
      "[Parallel(n_jobs=5)]: Done 237 tasks      | elapsed:  2.9min\n",
      "[Parallel(n_jobs=5)]: Done 238 tasks      | elapsed:  2.9min\n",
      "[Parallel(n_jobs=1)]: Done 700 out of 700 | elapsed:    1.4s finished\n"
     ]
    },
    {
     "name": "stdout",
     "output_type": "stream",
     "text": [
      "[CV] ...... max_features=18, n_estimators=700, score=0.842697 -   8.0s\n",
      "[CV] max_features=18, n_estimators=1000 ..............................\n"
     ]
    },
    {
     "name": "stderr",
     "output_type": "stream",
     "text": [
      "[Parallel(n_jobs=5)]: Done 239 tasks      | elapsed:  2.9min\n",
      "[Parallel(n_jobs=1)]: Done 700 out of 700 | elapsed:    1.1s finished\n"
     ]
    },
    {
     "name": "stdout",
     "output_type": "stream",
     "text": [
      "[CV] ...... max_features=18, n_estimators=700, score=0.840909 -   8.6s\n",
      "[CV] max_features=18, n_estimators=1000 ..............................\n"
     ]
    },
    {
     "name": "stderr",
     "output_type": "stream",
     "text": [
      "[Parallel(n_jobs=5)]: Done 240 tasks      | elapsed:  3.0min\n",
      "[Parallel(n_jobs=1)]: Done 1000 out of 1000 | elapsed:    4.0s finished\n",
      "[Parallel(n_jobs=1)]: Done 1000 out of 1000 | elapsed:    3.5s finished\n",
      "[Parallel(n_jobs=1)]: Done 1000 out of 1000 | elapsed:    4.6s finished\n",
      "[Parallel(n_jobs=1)]: Done 1000 out of 1000 | elapsed:    1.5s finished\n"
     ]
    },
    {
     "name": "stdout",
     "output_type": "stream",
     "text": [
      "[CV] ..... max_features=18, n_estimators=1000, score=0.744444 -  11.8s\n",
      "[CV] max_features=18, n_estimators=1000 ..............................\n"
     ]
    },
    {
     "name": "stderr",
     "output_type": "stream",
     "text": [
      "[Parallel(n_jobs=5)]: Done 241 tasks      | elapsed:  3.1min\n",
      "[Parallel(n_jobs=1)]: Done 1000 out of 1000 | elapsed:    1.9s finished\n",
      "[Parallel(n_jobs=1)]: Done 1000 out of 1000 | elapsed:    4.1s finished\n"
     ]
    },
    {
     "name": "stdout",
     "output_type": "stream",
     "text": [
      "[CV] ..... max_features=18, n_estimators=1000, score=0.764045 -  10.5s\n",
      "[CV] max_features=18, n_estimators=1000 ..............................\n"
     ]
    },
    {
     "name": "stderr",
     "output_type": "stream",
     "text": [
      "[Parallel(n_jobs=5)]: Done 242 tasks      | elapsed:  3.1min\n",
      "[Parallel(n_jobs=1)]: Done 1000 out of 1000 | elapsed:    2.0s finished\n"
     ]
    },
    {
     "name": "stdout",
     "output_type": "stream",
     "text": [
      "[CV] ..... max_features=18, n_estimators=1000, score=0.844444 -  11.5s\n",
      "[CV] max_features=18, n_estimators=1000 ..............................\n"
     ]
    },
    {
     "name": "stderr",
     "output_type": "stream",
     "text": [
      "[Parallel(n_jobs=5)]: Done 243 tasks      | elapsed:  3.1min\n",
      "[Parallel(n_jobs=1)]: Done 1000 out of 1000 | elapsed:    1.6s finished\n"
     ]
    },
    {
     "name": "stdout",
     "output_type": "stream",
     "text": [
      "[CV] ..... max_features=18, n_estimators=1000, score=0.865169 -  11.8s\n",
      "[CV] max_features=18, n_estimators=1000 ..............................\n"
     ]
    },
    {
     "name": "stderr",
     "output_type": "stream",
     "text": [
      "[Parallel(n_jobs=5)]: Done 244 tasks      | elapsed:  3.1min\n",
      "[Parallel(n_jobs=1)]: Done 1000 out of 1000 | elapsed:    5.5s finished\n",
      "[Parallel(n_jobs=1)]: Done 1000 out of 1000 | elapsed:    2.7s finished\n"
     ]
    },
    {
     "name": "stdout",
     "output_type": "stream",
     "text": [
      "[CV] ..... max_features=18, n_estimators=1000, score=0.831461 -  14.9s\n",
      "[CV] max_features=18, n_estimators=1000 ..............................\n"
     ]
    },
    {
     "name": "stderr",
     "output_type": "stream",
     "text": [
      "[Parallel(n_jobs=5)]: Done 245 tasks      | elapsed:  3.2min\n",
      "[Parallel(n_jobs=1)]: Done 1000 out of 1000 | elapsed:    3.3s finished\n",
      "[Parallel(n_jobs=1)]: Done 1000 out of 1000 | elapsed:    3.2s finished\n",
      "[Parallel(n_jobs=1)]: Done 1000 out of 1000 | elapsed:    3.2s finished\n",
      "[Parallel(n_jobs=1)]: Done 1000 out of 1000 | elapsed:    3.4s finished\n",
      "[Parallel(n_jobs=1)]: Done 1000 out of 1000 | elapsed:    1.2s finished\n"
     ]
    },
    {
     "name": "stdout",
     "output_type": "stream",
     "text": [
      "[CV] ..... max_features=18, n_estimators=1000, score=0.865169 -  11.8s\n",
      "[CV] max_features=20, n_estimators=50 ................................\n"
     ]
    },
    {
     "name": "stderr",
     "output_type": "stream",
     "text": [
      "[Parallel(n_jobs=5)]: Done 246 tasks      | elapsed:  3.3min\n",
      "[Parallel(n_jobs=1)]: Done 1000 out of 1000 | elapsed:    1.5s finished\n"
     ]
    },
    {
     "name": "stdout",
     "output_type": "stream",
     "text": [
      "[CV] ..... max_features=18, n_estimators=1000, score=0.831461 -  11.9s\n",
      "[CV] max_features=20, n_estimators=50 ................................\n"
     ]
    },
    {
     "name": "stderr",
     "output_type": "stream",
     "text": [
      "[Parallel(n_jobs=1)]: Done  50 out of  50 | elapsed:    0.3s finished\n",
      "[Parallel(n_jobs=5)]: Done 247 tasks      | elapsed:  3.3min\n",
      "[Parallel(n_jobs=1)]: Done  50 out of  50 | elapsed:    0.1s finished\n"
     ]
    },
    {
     "name": "stdout",
     "output_type": "stream",
     "text": [
      "[CV] ....... max_features=20, n_estimators=50, score=0.788889 -   0.9s\n",
      "[CV] max_features=20, n_estimators=50 ................................\n"
     ]
    },
    {
     "name": "stderr",
     "output_type": "stream",
     "text": [
      "[Parallel(n_jobs=1)]: Done  50 out of  50 | elapsed:    0.2s finished\n",
      "[Parallel(n_jobs=5)]: Done 248 tasks      | elapsed:  3.3min\n",
      "[Parallel(n_jobs=1)]: Done 1000 out of 1000 | elapsed:    1.3s finished\n",
      "[Parallel(n_jobs=1)]: Done 1000 out of 1000 | elapsed:    1.4s finished\n"
     ]
    },
    {
     "name": "stdout",
     "output_type": "stream",
     "text": [
      "[CV] ..... max_features=18, n_estimators=1000, score=0.842697 -  10.7s\n",
      "[CV] ..... max_features=18, n_estimators=1000, score=0.786517 -  11.5s\n",
      "[CV] max_features=20, n_estimators=50 ................................\n",
      "[CV] max_features=20, n_estimators=50 ................................\n"
     ]
    },
    {
     "name": "stderr",
     "output_type": "stream",
     "text": [
      "[Parallel(n_jobs=1)]: Done  50 out of  50 | elapsed:    0.1s finished\n"
     ]
    },
    {
     "name": "stdout",
     "output_type": "stream",
     "text": [
      "[CV] ....... max_features=20, n_estimators=50, score=0.833333 -   0.6s\n",
      "[CV] max_features=20, n_estimators=50 ................................\n"
     ]
    },
    {
     "name": "stderr",
     "output_type": "stream",
     "text": [
      "[Parallel(n_jobs=5)]: Done 249 tasks      | elapsed:  3.3min\n",
      "[Parallel(n_jobs=5)]: Done 250 tasks      | elapsed:  3.3min\n",
      "[Parallel(n_jobs=5)]: Done 251 tasks      | elapsed:  3.3min\n",
      "[Parallel(n_jobs=1)]: Done  50 out of  50 | elapsed:    0.2s finished\n",
      "[Parallel(n_jobs=1)]: Done  50 out of  50 | elapsed:    0.1s finished\n"
     ]
    },
    {
     "name": "stdout",
     "output_type": "stream",
     "text": [
      "[CV] ....... max_features=20, n_estimators=50, score=0.764045 -   0.7s\n",
      "[CV] max_features=20, n_estimators=50 ................................\n"
     ]
    },
    {
     "name": "stderr",
     "output_type": "stream",
     "text": [
      "[Parallel(n_jobs=1)]: Done  50 out of  50 | elapsed:    0.2s finished\n",
      "[Parallel(n_jobs=1)]: Done  50 out of  50 | elapsed:    0.2s finished\n",
      "[Parallel(n_jobs=1)]: Done  50 out of  50 | elapsed:    0.2s finished\n",
      "[Parallel(n_jobs=5)]: Done 252 tasks      | elapsed:  3.3min\n",
      "[Parallel(n_jobs=1)]: Done  50 out of  50 | elapsed:    0.0s finished\n"
     ]
    },
    {
     "name": "stdout",
     "output_type": "stream",
     "text": [
      "[CV] ....... max_features=20, n_estimators=50, score=0.876404 -   0.7s\n",
      "[CV] max_features=20, n_estimators=50 ................................\n"
     ]
    },
    {
     "name": "stderr",
     "output_type": "stream",
     "text": [
      "[Parallel(n_jobs=1)]: Done  50 out of  50 | elapsed:    0.1s finished\n"
     ]
    },
    {
     "name": "stdout",
     "output_type": "stream",
     "text": [
      "[CV] ....... max_features=20, n_estimators=50, score=0.876404 -   0.7s\n",
      "[CV] max_features=20, n_estimators=50 ................................\n"
     ]
    },
    {
     "name": "stderr",
     "output_type": "stream",
     "text": [
      "[Parallel(n_jobs=1)]: Done  50 out of  50 | elapsed:    0.1s finished\n"
     ]
    },
    {
     "name": "stdout",
     "output_type": "stream",
     "text": [
      "[CV] ....... max_features=20, n_estimators=50, score=0.842697 -   0.7s\n",
      "[CV] max_features=20, n_estimators=50 ................................\n"
     ]
    },
    {
     "name": "stderr",
     "output_type": "stream",
     "text": [
      "[Parallel(n_jobs=1)]: Done  50 out of  50 | elapsed:    0.2s finished\n",
      "[Parallel(n_jobs=5)]: Done 253 tasks      | elapsed:  3.3min\n",
      "[Parallel(n_jobs=5)]: Done 254 tasks      | elapsed:  3.3min\n",
      "[Parallel(n_jobs=5)]: Done 255 tasks      | elapsed:  3.3min\n",
      "[Parallel(n_jobs=1)]: Done  50 out of  50 | elapsed:    0.1s finished\n"
     ]
    },
    {
     "name": "stdout",
     "output_type": "stream",
     "text": [
      "[CV] ....... max_features=20, n_estimators=50, score=0.831461 -   0.5s\n",
      "[CV] max_features=20, n_estimators=100 ...............................\n"
     ]
    },
    {
     "name": "stderr",
     "output_type": "stream",
     "text": [
      "[Parallel(n_jobs=5)]: Done 256 tasks      | elapsed:  3.3min\n",
      "[Parallel(n_jobs=1)]: Done  50 out of  50 | elapsed:    0.2s finished\n",
      "[Parallel(n_jobs=1)]: Done  50 out of  50 | elapsed:    0.2s finished\n",
      "[Parallel(n_jobs=1)]: Done  50 out of  50 | elapsed:    0.1s finished\n",
      "[Parallel(n_jobs=1)]: Done  50 out of  50 | elapsed:    0.2s finished\n"
     ]
    },
    {
     "name": "stdout",
     "output_type": "stream",
     "text": [
      "[CV] ....... max_features=20, n_estimators=50, score=0.840909 -   0.5s\n",
      "[CV] max_features=20, n_estimators=100 ...............................\n"
     ]
    },
    {
     "name": "stderr",
     "output_type": "stream",
     "text": [
      "[Parallel(n_jobs=1)]: Done  50 out of  50 | elapsed:    0.1s finished\n"
     ]
    },
    {
     "name": "stdout",
     "output_type": "stream",
     "text": [
      "[CV] ....... max_features=20, n_estimators=50, score=0.808989 -   0.7s\n",
      "[CV] max_features=20, n_estimators=100 ...............................\n"
     ]
    },
    {
     "name": "stderr",
     "output_type": "stream",
     "text": [
      "[Parallel(n_jobs=1)]: Done  50 out of  50 | elapsed:    0.1s finished\n"
     ]
    },
    {
     "name": "stdout",
     "output_type": "stream",
     "text": [
      "[CV] ....... max_features=20, n_estimators=50, score=0.853933 -   0.7s\n",
      "[CV] max_features=20, n_estimators=100 ...............................\n"
     ]
    },
    {
     "name": "stderr",
     "output_type": "stream",
     "text": [
      "[Parallel(n_jobs=5)]: Done 257 tasks      | elapsed:  3.3min\n",
      "[Parallel(n_jobs=5)]: Done 258 tasks      | elapsed:  3.3min\n",
      "[Parallel(n_jobs=5)]: Done 259 tasks      | elapsed:  3.3min\n",
      "[Parallel(n_jobs=1)]: Done 100 out of 100 | elapsed:    0.3s finished\n",
      "[Parallel(n_jobs=1)]: Done 100 out of 100 | elapsed:    0.2s finished\n"
     ]
    },
    {
     "name": "stdout",
     "output_type": "stream",
     "text": [
      "[CV] ...... max_features=20, n_estimators=100, score=0.755556 -   1.1s\n",
      "[CV] max_features=20, n_estimators=100 ...............................\n"
     ]
    },
    {
     "name": "stderr",
     "output_type": "stream",
     "text": [
      "[Parallel(n_jobs=1)]: Done 1000 out of 1000 | elapsed:    3.9s finished\n",
      "[Parallel(n_jobs=5)]: Done 260 tasks      | elapsed:  3.4min\n",
      "[Parallel(n_jobs=1)]: Done 100 out of 100 | elapsed:    0.3s finished\n",
      "[Parallel(n_jobs=1)]: Done 100 out of 100 | elapsed:    0.4s finished\n",
      "[Parallel(n_jobs=1)]: Done 100 out of 100 | elapsed:    0.6s finished\n",
      "[Parallel(n_jobs=1)]: Done 100 out of 100 | elapsed:    0.2s finished\n"
     ]
    },
    {
     "name": "stdout",
     "output_type": "stream",
     "text": [
      "[CV] ...... max_features=20, n_estimators=100, score=0.876404 -   1.0s\n",
      "[CV] max_features=20, n_estimators=100 ...............................\n"
     ]
    },
    {
     "name": "stderr",
     "output_type": "stream",
     "text": [
      "[Parallel(n_jobs=1)]: Done 100 out of 100 | elapsed:    0.2s finished\n"
     ]
    },
    {
     "name": "stdout",
     "output_type": "stream",
     "text": [
      "[CV] ...... max_features=20, n_estimators=100, score=0.764045 -   1.2s\n",
      "[CV] max_features=20, n_estimators=100 ...............................\n"
     ]
    },
    {
     "name": "stderr",
     "output_type": "stream",
     "text": [
      "[Parallel(n_jobs=1)]: Done 100 out of 100 | elapsed:    0.2s finished\n"
     ]
    },
    {
     "name": "stdout",
     "output_type": "stream",
     "text": [
      "[CV] ...... max_features=20, n_estimators=100, score=0.844444 -   1.3s\n"
     ]
    },
    {
     "name": "stderr",
     "output_type": "stream",
     "text": [
      "[Parallel(n_jobs=5)]: Done 261 tasks      | elapsed:  3.4min\n",
      "[Parallel(n_jobs=5)]: Done 262 tasks      | elapsed:  3.4min\n"
     ]
    },
    {
     "name": "stdout",
     "output_type": "stream",
     "text": [
      "[CV] max_features=20, n_estimators=100 ...............................\n"
     ]
    },
    {
     "name": "stderr",
     "output_type": "stream",
     "text": [
      "[Parallel(n_jobs=5)]: Done 263 tasks      | elapsed:  3.4min\n",
      "[Parallel(n_jobs=1)]: Done 100 out of 100 | elapsed:    0.4s finished\n",
      "[Parallel(n_jobs=1)]: Done 100 out of 100 | elapsed:    0.2s finished\n"
     ]
    },
    {
     "name": "stdout",
     "output_type": "stream",
     "text": [
      "[CV] ...... max_features=20, n_estimators=100, score=0.831461 -   1.1s\n",
      "[CV] max_features=20, n_estimators=100 ...............................\n"
     ]
    },
    {
     "name": "stderr",
     "output_type": "stream",
     "text": [
      "[Parallel(n_jobs=5)]: Done 264 tasks      | elapsed:  3.4min\n",
      "[Parallel(n_jobs=1)]: Done 100 out of 100 | elapsed:    0.3s finished\n",
      "[Parallel(n_jobs=1)]: Done 100 out of 100 | elapsed:    0.4s finished\n",
      "[Parallel(n_jobs=1)]: Done 1000 out of 1000 | elapsed:    1.4s finished\n"
     ]
    },
    {
     "name": "stdout",
     "output_type": "stream",
     "text": [
      "[CV] ..... max_features=18, n_estimators=1000, score=0.840909 -  10.4s\n",
      "[CV] max_features=20, n_estimators=100 ...............................\n"
     ]
    },
    {
     "name": "stderr",
     "output_type": "stream",
     "text": [
      "[Parallel(n_jobs=1)]: Done 100 out of 100 | elapsed:    0.1s finished\n"
     ]
    },
    {
     "name": "stdout",
     "output_type": "stream",
     "text": [
      "[CV] ...... max_features=20, n_estimators=100, score=0.831461 -   1.0s\n",
      "[CV] max_features=20, n_estimators=400 ...............................\n"
     ]
    },
    {
     "name": "stderr",
     "output_type": "stream",
     "text": [
      "[Parallel(n_jobs=1)]: Done 100 out of 100 | elapsed:    0.4s finished\n",
      "[Parallel(n_jobs=1)]: Done 100 out of 100 | elapsed:    0.2s finished\n"
     ]
    },
    {
     "name": "stdout",
     "output_type": "stream",
     "text": [
      "[CV] ...... max_features=20, n_estimators=100, score=0.876404 -   1.2s\n",
      "[CV] max_features=20, n_estimators=400 ...............................\n"
     ]
    },
    {
     "name": "stderr",
     "output_type": "stream",
     "text": [
      "[Parallel(n_jobs=5)]: Done 265 tasks      | elapsed:  3.4min\n",
      "[Parallel(n_jobs=5)]: Done 266 tasks      | elapsed:  3.4min\n",
      "[Parallel(n_jobs=5)]: Done 267 tasks      | elapsed:  3.4min\n",
      "[Parallel(n_jobs=1)]: Done 100 out of 100 | elapsed:    0.1s finished\n"
     ]
    },
    {
     "name": "stdout",
     "output_type": "stream",
     "text": [
      "[CV] ...... max_features=20, n_estimators=100, score=0.775281 -   1.0s\n",
      "[CV] max_features=20, n_estimators=400 ...............................\n"
     ]
    },
    {
     "name": "stderr",
     "output_type": "stream",
     "text": [
      "[Parallel(n_jobs=5)]: Done 268 tasks      | elapsed:  3.4min\n",
      "[Parallel(n_jobs=1)]: Done 100 out of 100 | elapsed:    0.3s finished\n",
      "[Parallel(n_jobs=1)]: Done 100 out of 100 | elapsed:    0.1s finished\n"
     ]
    },
    {
     "name": "stdout",
     "output_type": "stream",
     "text": [
      "[CV] ...... max_features=20, n_estimators=100, score=0.853933 -   1.1s\n",
      "[CV] max_features=20, n_estimators=400 ...............................\n"
     ]
    },
    {
     "name": "stderr",
     "output_type": "stream",
     "text": [
      "[Parallel(n_jobs=5)]: Done 269 tasks      | elapsed:  3.4min\n",
      "[Parallel(n_jobs=1)]: Done 100 out of 100 | elapsed:    0.3s finished\n",
      "[Parallel(n_jobs=1)]: Done 100 out of 100 | elapsed:    0.2s finished\n"
     ]
    },
    {
     "name": "stdout",
     "output_type": "stream",
     "text": [
      "[CV] ...... max_features=20, n_estimators=100, score=0.829545 -   1.2s\n",
      "[CV] max_features=20, n_estimators=400 ...............................\n"
     ]
    },
    {
     "name": "stderr",
     "output_type": "stream",
     "text": [
      "[Parallel(n_jobs=5)]: Done 270 tasks      | elapsed:  3.4min\n",
      "[Parallel(n_jobs=1)]: Done 400 out of 400 | elapsed:    1.3s finished\n",
      "[Parallel(n_jobs=1)]: Done 400 out of 400 | elapsed:    1.1s finished\n",
      "[Parallel(n_jobs=1)]: Done 400 out of 400 | elapsed:    1.1s finished\n",
      "[Parallel(n_jobs=1)]: Done 400 out of 400 | elapsed:    1.6s finished\n",
      "[Parallel(n_jobs=1)]: Done 400 out of 400 | elapsed:    0.5s finished\n"
     ]
    },
    {
     "name": "stdout",
     "output_type": "stream",
     "text": [
      "[CV] ...... max_features=20, n_estimators=400, score=0.744444 -   3.7s\n",
      "[CV] max_features=20, n_estimators=400 ...............................\n"
     ]
    },
    {
     "name": "stderr",
     "output_type": "stream",
     "text": [
      "[Parallel(n_jobs=5)]: Done 271 tasks      | elapsed:  3.4min\n",
      "[Parallel(n_jobs=1)]: Done 400 out of 400 | elapsed:    0.5s finished\n"
     ]
    },
    {
     "name": "stdout",
     "output_type": "stream",
     "text": [
      "[CV] ...... max_features=20, n_estimators=400, score=0.764045 -   3.8s\n",
      "[CV] max_features=20, n_estimators=400 ...............................\n"
     ]
    },
    {
     "name": "stderr",
     "output_type": "stream",
     "text": [
      "[Parallel(n_jobs=1)]: Done 400 out of 400 | elapsed:    0.5s finished\n"
     ]
    },
    {
     "name": "stdout",
     "output_type": "stream",
     "text": [
      "[CV] ...... max_features=20, n_estimators=400, score=0.855556 -   3.9s\n"
     ]
    },
    {
     "name": "stderr",
     "output_type": "stream",
     "text": [
      "[Parallel(n_jobs=1)]: Done 400 out of 400 | elapsed:    0.6s finished\n"
     ]
    },
    {
     "name": "stdout",
     "output_type": "stream",
     "text": [
      "[CV] ...... max_features=20, n_estimators=400, score=0.865169 -   3.4s\n",
      "[CV] max_features=20, n_estimators=400 ...............................\n",
      "[CV] max_features=20, n_estimators=400 ...............................\n"
     ]
    },
    {
     "name": "stderr",
     "output_type": "stream",
     "text": [
      "[Parallel(n_jobs=5)]: Done 272 tasks      | elapsed:  3.4min\n",
      "[Parallel(n_jobs=5)]: Done 273 tasks      | elapsed:  3.4min\n",
      "[Parallel(n_jobs=5)]: Done 274 tasks      | elapsed:  3.4min\n",
      "[Parallel(n_jobs=1)]: Done 400 out of 400 | elapsed:    1.3s finished\n",
      "[Parallel(n_jobs=1)]: Done 400 out of 400 | elapsed:    0.4s finished\n"
     ]
    },
    {
     "name": "stdout",
     "output_type": "stream",
     "text": [
      "[CV] ...... max_features=20, n_estimators=400, score=0.831461 -   3.8s\n",
      "[CV] max_features=20, n_estimators=400 ...............................\n"
     ]
    },
    {
     "name": "stderr",
     "output_type": "stream",
     "text": [
      "[Parallel(n_jobs=5)]: Done 275 tasks      | elapsed:  3.5min\n",
      "[Parallel(n_jobs=1)]: Done 400 out of 400 | elapsed:    1.3s finished\n",
      "[Parallel(n_jobs=1)]: Done 400 out of 400 | elapsed:    1.1s finished\n",
      "[Parallel(n_jobs=1)]: Done 400 out of 400 | elapsed:    1.6s finished\n",
      "[Parallel(n_jobs=1)]: Done 400 out of 400 | elapsed:    0.4s finished\n"
     ]
    },
    {
     "name": "stdout",
     "output_type": "stream",
     "text": [
      "[CV] ...... max_features=20, n_estimators=400, score=0.831461 -   3.4s\n",
      "[CV] max_features=20, n_estimators=700 ...............................\n"
     ]
    },
    {
     "name": "stderr",
     "output_type": "stream",
     "text": [
      "[Parallel(n_jobs=1)]: Done 400 out of 400 | elapsed:    0.5s finished\n",
      "[Parallel(n_jobs=1)]: Done 400 out of 400 | elapsed:    1.6s finished\n"
     ]
    },
    {
     "name": "stdout",
     "output_type": "stream",
     "text": [
      "[CV] ...... max_features=20, n_estimators=400, score=0.775281 -   3.5s\n",
      "[CV] max_features=20, n_estimators=700 ...............................\n"
     ]
    },
    {
     "name": "stderr",
     "output_type": "stream",
     "text": [
      "[Parallel(n_jobs=5)]: Done 276 tasks      | elapsed:  3.5min\n",
      "[Parallel(n_jobs=5)]: Done 277 tasks      | elapsed:  3.5min\n",
      "[Parallel(n_jobs=1)]: Done 400 out of 400 | elapsed:    0.5s finished\n"
     ]
    },
    {
     "name": "stdout",
     "output_type": "stream",
     "text": [
      "[CV] ...... max_features=20, n_estimators=400, score=0.865169 -   4.0s\n",
      "[CV] max_features=20, n_estimators=700 ...............................\n"
     ]
    },
    {
     "name": "stderr",
     "output_type": "stream",
     "text": [
      "[Parallel(n_jobs=5)]: Done 278 tasks      | elapsed:  3.5min\n",
      "[Parallel(n_jobs=1)]: Done 400 out of 400 | elapsed:    0.6s finished\n"
     ]
    },
    {
     "name": "stdout",
     "output_type": "stream",
     "text": [
      "[CV] ...... max_features=20, n_estimators=400, score=0.842697 -   4.0s\n",
      "[CV] max_features=20, n_estimators=700 ...............................\n"
     ]
    },
    {
     "name": "stderr",
     "output_type": "stream",
     "text": [
      "[Parallel(n_jobs=1)]: Done 400 out of 400 | elapsed:    1.5s finished\n",
      "[Parallel(n_jobs=5)]: Done 279 tasks      | elapsed:  3.5min\n",
      "[Parallel(n_jobs=1)]: Done 400 out of 400 | elapsed:    0.5s finished\n"
     ]
    },
    {
     "name": "stdout",
     "output_type": "stream",
     "text": [
      "[CV] ...... max_features=20, n_estimators=400, score=0.840909 -   3.7s\n",
      "[CV] max_features=20, n_estimators=700 ...............................\n"
     ]
    },
    {
     "name": "stderr",
     "output_type": "stream",
     "text": [
      "[Parallel(n_jobs=5)]: Done 280 tasks      | elapsed:  3.5min\n",
      "[Parallel(n_jobs=1)]: Done 700 out of 700 | elapsed:    2.0s finished\n",
      "[Parallel(n_jobs=1)]: Done 700 out of 700 | elapsed:    1.9s finished\n",
      "[Parallel(n_jobs=1)]: Done 700 out of 700 | elapsed:    2.2s finished\n",
      "[Parallel(n_jobs=1)]: Done 700 out of 700 | elapsed:    0.8s finished\n"
     ]
    },
    {
     "name": "stdout",
     "output_type": "stream",
     "text": [
      "[CV] ...... max_features=20, n_estimators=700, score=0.844444 -   5.9s\n"
     ]
    },
    {
     "name": "stderr",
     "output_type": "stream",
     "text": [
      "[Parallel(n_jobs=1)]: Done 700 out of 700 | elapsed:    2.0s finished\n"
     ]
    },
    {
     "name": "stdout",
     "output_type": "stream",
     "text": [
      "[CV] max_features=20, n_estimators=700 ...............................\n"
     ]
    },
    {
     "name": "stderr",
     "output_type": "stream",
     "text": [
      "[Parallel(n_jobs=1)]: Done 700 out of 700 | elapsed:    0.7s finished\n"
     ]
    },
    {
     "name": "stdout",
     "output_type": "stream",
     "text": [
      "[CV] ...... max_features=20, n_estimators=700, score=0.766667 -   6.2s\n"
     ]
    },
    {
     "name": "stderr",
     "output_type": "stream",
     "text": [
      "[Parallel(n_jobs=1)]: Done 700 out of 700 | elapsed:    0.8s finished\n"
     ]
    },
    {
     "name": "stdout",
     "output_type": "stream",
     "text": [
      "[CV] max_features=20, n_estimators=700 ...............................\n"
     ]
    },
    {
     "name": "stderr",
     "output_type": "stream",
     "text": [
      "[Parallel(n_jobs=5)]: Done 281 tasks      | elapsed:  3.6min\n",
      "[Parallel(n_jobs=5)]: Done 282 tasks      | elapsed:  3.6min\n"
     ]
    },
    {
     "name": "stdout",
     "output_type": "stream",
     "text": [
      "[CV] ...... max_features=20, n_estimators=700, score=0.764045 -   5.9s\n",
      "[CV] max_features=20, n_estimators=700 ...............................\n"
     ]
    },
    {
     "name": "stderr",
     "output_type": "stream",
     "text": [
      "[Parallel(n_jobs=5)]: Done 283 tasks      | elapsed:  3.6min\n",
      "[Parallel(n_jobs=1)]: Done 700 out of 700 | elapsed:    0.7s finished\n"
     ]
    },
    {
     "name": "stdout",
     "output_type": "stream",
     "text": [
      "[CV] ...... max_features=20, n_estimators=700, score=0.876404 -   6.1s\n",
      "[CV] max_features=20, n_estimators=700 ...............................\n"
     ]
    },
    {
     "name": "stderr",
     "output_type": "stream",
     "text": [
      "[Parallel(n_jobs=5)]: Done 284 tasks      | elapsed:  3.6min\n",
      "[Parallel(n_jobs=1)]: Done 700 out of 700 | elapsed:    3.1s finished\n",
      "[Parallel(n_jobs=1)]: Done 700 out of 700 | elapsed:    0.8s finished\n"
     ]
    },
    {
     "name": "stdout",
     "output_type": "stream",
     "text": [
      "[CV] ...... max_features=20, n_estimators=700, score=0.831461 -   7.3s\n",
      "[CV] max_features=20, n_estimators=700 ...............................\n"
     ]
    },
    {
     "name": "stderr",
     "output_type": "stream",
     "text": [
      "[Parallel(n_jobs=5)]: Done 285 tasks      | elapsed:  3.6min\n",
      "[Parallel(n_jobs=1)]: Done 700 out of 700 | elapsed:    2.2s finished\n",
      "[Parallel(n_jobs=1)]: Done 700 out of 700 | elapsed:    2.6s finished\n",
      "[Parallel(n_jobs=1)]: Done 700 out of 700 | elapsed:    0.8s finished\n"
     ]
    },
    {
     "name": "stdout",
     "output_type": "stream",
     "text": [
      "[CV] ...... max_features=20, n_estimators=700, score=0.775281 -   5.8s\n",
      "[CV] max_features=20, n_estimators=1000 ..............................\n"
     ]
    },
    {
     "name": "stderr",
     "output_type": "stream",
     "text": [
      "[Parallel(n_jobs=1)]: Done 700 out of 700 | elapsed:    2.7s finished\n",
      "[Parallel(n_jobs=5)]: Done 286 tasks      | elapsed:  3.7min\n",
      "[Parallel(n_jobs=1)]: Done 700 out of 700 | elapsed:    0.7s finished\n"
     ]
    },
    {
     "name": "stdout",
     "output_type": "stream",
     "text": [
      "[CV] ...... max_features=20, n_estimators=700, score=0.865169 -   6.3s\n",
      "[CV] max_features=20, n_estimators=1000 ..............................\n"
     ]
    },
    {
     "name": "stderr",
     "output_type": "stream",
     "text": [
      "[Parallel(n_jobs=5)]: Done 287 tasks      | elapsed:  3.7min\n",
      "[Parallel(n_jobs=1)]: Done 700 out of 700 | elapsed:    2.9s finished\n",
      "[Parallel(n_jobs=1)]: Done 700 out of 700 | elapsed:    1.1s finished\n"
     ]
    },
    {
     "name": "stdout",
     "output_type": "stream",
     "text": [
      "[CV] ...... max_features=20, n_estimators=700, score=0.831461 -   7.1s\n",
      "[CV] max_features=20, n_estimators=1000 ..............................\n"
     ]
    },
    {
     "name": "stderr",
     "output_type": "stream",
     "text": [
      "[Parallel(n_jobs=5)]: Done 288 tasks      | elapsed:  3.7min\n",
      "[Parallel(n_jobs=1)]: Done 700 out of 700 | elapsed:    1.2s finished\n"
     ]
    },
    {
     "name": "stdout",
     "output_type": "stream",
     "text": [
      "[CV] ...... max_features=20, n_estimators=700, score=0.842697 -   7.3s\n",
      "[CV] max_features=20, n_estimators=1000 ..............................\n"
     ]
    },
    {
     "name": "stderr",
     "output_type": "stream",
     "text": [
      "[Parallel(n_jobs=5)]: Done 289 tasks      | elapsed:  3.7min\n",
      "[Parallel(n_jobs=1)]: Done 700 out of 700 | elapsed:    4.0s finished\n",
      "[Parallel(n_jobs=1)]: Done 700 out of 700 | elapsed:    1.2s finished\n"
     ]
    },
    {
     "name": "stdout",
     "output_type": "stream",
     "text": [
      "[CV] ...... max_features=20, n_estimators=700, score=0.840909 -   9.4s\n",
      "[CV] max_features=20, n_estimators=1000 ..............................\n"
     ]
    },
    {
     "name": "stderr",
     "output_type": "stream",
     "text": [
      "[Parallel(n_jobs=5)]: Done 290 tasks      | elapsed:  3.8min\n",
      "[Parallel(n_jobs=1)]: Done 1000 out of 1000 | elapsed:    4.4s finished\n",
      "[Parallel(n_jobs=1)]: Done 1000 out of 1000 | elapsed:    4.7s finished\n",
      "[Parallel(n_jobs=1)]: Done 1000 out of 1000 | elapsed:    4.0s finished\n",
      "[Parallel(n_jobs=1)]: Done 1000 out of 1000 | elapsed:    1.4s finished\n"
     ]
    },
    {
     "name": "stdout",
     "output_type": "stream",
     "text": [
      "[CV] ..... max_features=20, n_estimators=1000, score=0.766667 -  11.8s\n",
      "[CV] max_features=20, n_estimators=1000 ..............................\n"
     ]
    },
    {
     "name": "stderr",
     "output_type": "stream",
     "text": [
      "[Parallel(n_jobs=5)]: Done 291 tasks      | elapsed:  3.9min\n",
      "[Parallel(n_jobs=1)]: Done 1000 out of 1000 | elapsed:    1.6s finished\n"
     ]
    },
    {
     "name": "stdout",
     "output_type": "stream",
     "text": [
      "[CV] ..... max_features=20, n_estimators=1000, score=0.844444 -  12.5s\n",
      "[CV] max_features=20, n_estimators=1000 ..............................\n"
     ]
    },
    {
     "name": "stderr",
     "output_type": "stream",
     "text": [
      "[Parallel(n_jobs=1)]: Done 1000 out of 1000 | elapsed:    1.2s finished\n"
     ]
    },
    {
     "name": "stdout",
     "output_type": "stream",
     "text": [
      "[CV] ..... max_features=20, n_estimators=1000, score=0.764045 -  11.6s\n",
      "[CV] max_features=20, n_estimators=1000 ..............................\n"
     ]
    },
    {
     "name": "stderr",
     "output_type": "stream",
     "text": [
      "[Parallel(n_jobs=5)]: Done 292 tasks      | elapsed:  3.9min\n",
      "[Parallel(n_jobs=5)]: Done 293 tasks      | elapsed:  3.9min\n",
      "[Parallel(n_jobs=1)]: Done 1000 out of 1000 | elapsed:    4.4s finished\n",
      "[Parallel(n_jobs=1)]: Done 1000 out of 1000 | elapsed:    2.0s finished\n"
     ]
    },
    {
     "name": "stdout",
     "output_type": "stream",
     "text": [
      "[CV] ..... max_features=20, n_estimators=1000, score=0.876404 -  13.1s\n",
      "[CV] max_features=20, n_estimators=1000 ..............................\n"
     ]
    },
    {
     "name": "stderr",
     "output_type": "stream",
     "text": [
      "[Parallel(n_jobs=5)]: Done 294 tasks      | elapsed:  4.0min\n",
      "[Parallel(n_jobs=1)]: Done 1000 out of 1000 | elapsed:    4.9s finished\n",
      "[Parallel(n_jobs=1)]: Done 1000 out of 1000 | elapsed:    1.4s finished\n"
     ]
    },
    {
     "name": "stdout",
     "output_type": "stream",
     "text": [
      "[CV] ..... max_features=20, n_estimators=1000, score=0.831461 -  11.8s\n",
      "[CV] max_features=20, n_estimators=1000 ..............................\n"
     ]
    },
    {
     "name": "stderr",
     "output_type": "stream",
     "text": [
      "[Parallel(n_jobs=5)]: Done 295 tasks      | elapsed:  4.0min\n",
      "[Parallel(n_jobs=1)]: Done 1000 out of 1000 | elapsed:    3.2s finished\n",
      "[Parallel(n_jobs=1)]: Done 1000 out of 1000 | elapsed:    3.6s finished\n",
      "[Parallel(n_jobs=1)]: Done 1000 out of 1000 | elapsed:    3.5s finished\n",
      "[Parallel(n_jobs=1)]: Done 1000 out of 1000 | elapsed:    1.0s finished\n"
     ]
    },
    {
     "name": "stdout",
     "output_type": "stream",
     "text": [
      "[CV] ..... max_features=20, n_estimators=1000, score=0.865169 -  10.9s\n"
     ]
    },
    {
     "name": "stderr",
     "output_type": "stream",
     "text": [
      "[Parallel(n_jobs=1)]: Done 1000 out of 1000 | elapsed:    1.2s finished\n"
     ]
    },
    {
     "name": "stdout",
     "output_type": "stream",
     "text": [
      "[CV] ..... max_features=20, n_estimators=1000, score=0.786517 -  10.0s\n",
      "[CV] max_features=25, n_estimators=50 ................................\n",
      "[CV] max_features=25, n_estimators=50 ................................\n"
     ]
    },
    {
     "name": "stderr",
     "output_type": "stream",
     "text": [
      "[Parallel(n_jobs=1)]: Done 1000 out of 1000 | elapsed:    1.1s finished\n"
     ]
    },
    {
     "name": "stdout",
     "output_type": "stream",
     "text": [
      "[CV] ..... max_features=20, n_estimators=1000, score=0.831461 -  10.2s\n",
      "[CV] max_features=25, n_estimators=50 ................................\n"
     ]
    },
    {
     "name": "stderr",
     "output_type": "stream",
     "text": [
      "[Parallel(n_jobs=5)]: Done 296 tasks      | elapsed:  4.1min\n",
      "[Parallel(n_jobs=5)]: Done 297 tasks      | elapsed:  4.1min\n",
      "[Parallel(n_jobs=5)]: Done 298 tasks      | elapsed:  4.1min\n",
      "[Parallel(n_jobs=1)]: Done 1000 out of 1000 | elapsed:    3.8s finished\n",
      "[Parallel(n_jobs=1)]: Done  50 out of  50 | elapsed:    0.2s finished\n",
      "[Parallel(n_jobs=1)]: Done  50 out of  50 | elapsed:    0.2s finished\n",
      "[Parallel(n_jobs=1)]: Done  50 out of  50 | elapsed:    0.0s finished\n"
     ]
    },
    {
     "name": "stdout",
     "output_type": "stream",
     "text": [
      "[CV] ....... max_features=25, n_estimators=50, score=0.822222 -   0.6s\n",
      "[CV] max_features=25, n_estimators=50 ................................\n"
     ]
    },
    {
     "name": "stderr",
     "output_type": "stream",
     "text": [
      "[Parallel(n_jobs=1)]: Done  50 out of  50 | elapsed:    0.1s finished\n"
     ]
    },
    {
     "name": "stdout",
     "output_type": "stream",
     "text": [
      "[CV] ....... max_features=25, n_estimators=50, score=0.733333 -   0.7s\n",
      "[CV] max_features=25, n_estimators=50 ................................\n"
     ]
    },
    {
     "name": "stderr",
     "output_type": "stream",
     "text": [
      "[Parallel(n_jobs=1)]: Done  50 out of  50 | elapsed:    0.3s finished\n",
      "[Parallel(n_jobs=5)]: Done 299 tasks      | elapsed:  4.1min\n",
      "[Parallel(n_jobs=5)]: Done 300 tasks      | elapsed:  4.1min\n",
      "[Parallel(n_jobs=1)]: Done  50 out of  50 | elapsed:    0.1s finished\n"
     ]
    },
    {
     "name": "stdout",
     "output_type": "stream",
     "text": [
      "[CV] ....... max_features=25, n_estimators=50, score=0.775281 -   0.8s\n",
      "[CV] max_features=25, n_estimators=50 ................................\n"
     ]
    },
    {
     "name": "stderr",
     "output_type": "stream",
     "text": [
      "[Parallel(n_jobs=1)]: Done  50 out of  50 | elapsed:    0.2s finished\n",
      "[Parallel(n_jobs=5)]: Done 301 tasks      | elapsed:  4.1min\n",
      "[Parallel(n_jobs=1)]: Done  50 out of  50 | elapsed:    0.1s finished\n"
     ]
    },
    {
     "name": "stdout",
     "output_type": "stream",
     "text": [
      "[CV] ....... max_features=25, n_estimators=50, score=0.831461 -   0.5s\n"
     ]
    },
    {
     "name": "stderr",
     "output_type": "stream",
     "text": [
      "[Parallel(n_jobs=1)]: Done  50 out of  50 | elapsed:    0.3s finished\n"
     ]
    },
    {
     "name": "stdout",
     "output_type": "stream",
     "text": [
      "[CV] max_features=25, n_estimators=50 ................................\n"
     ]
    },
    {
     "name": "stderr",
     "output_type": "stream",
     "text": [
      "[Parallel(n_jobs=1)]: Done  50 out of  50 | elapsed:    0.1s finished\n"
     ]
    },
    {
     "name": "stdout",
     "output_type": "stream",
     "text": [
      "[CV] ....... max_features=25, n_estimators=50, score=0.865169 -   0.7s\n",
      "[CV] max_features=25, n_estimators=50 ................................\n"
     ]
    },
    {
     "name": "stderr",
     "output_type": "stream",
     "text": [
      "[Parallel(n_jobs=5)]: Done 302 tasks      | elapsed:  4.1min\n",
      "[Parallel(n_jobs=5)]: Done 303 tasks      | elapsed:  4.1min\n",
      "[Parallel(n_jobs=1)]: Done  50 out of  50 | elapsed:    0.2s finished\n",
      "[Parallel(n_jobs=1)]: Done  50 out of  50 | elapsed:    0.2s finished\n",
      "[Parallel(n_jobs=1)]: Done  50 out of  50 | elapsed:    0.1s finished\n"
     ]
    },
    {
     "name": "stdout",
     "output_type": "stream",
     "text": [
      "[CV] ....... max_features=25, n_estimators=50, score=0.876404 -   0.7s\n",
      "[CV] max_features=25, n_estimators=50 ................................\n"
     ]
    },
    {
     "name": "stderr",
     "output_type": "stream",
     "text": [
      "[Parallel(n_jobs=1)]: Done 1000 out of 1000 | elapsed:    1.3s finished\n"
     ]
    },
    {
     "name": "stdout",
     "output_type": "stream",
     "text": [
      "[CV] ..... max_features=20, n_estimators=1000, score=0.842697 -   9.4s\n",
      "[CV] max_features=25, n_estimators=50 ................................\n"
     ]
    },
    {
     "name": "stderr",
     "output_type": "stream",
     "text": [
      "[Parallel(n_jobs=5)]: Done 304 tasks      | elapsed:  4.1min\n",
      "[Parallel(n_jobs=5)]: Done 305 tasks      | elapsed:  4.1min\n",
      "[Parallel(n_jobs=1)]: Done  50 out of  50 | elapsed:    0.2s finished\n"
     ]
    },
    {
     "name": "stdout",
     "output_type": "stream",
     "text": [
      "[CV] ....... max_features=25, n_estimators=50, score=0.808989 -   0.7s\n",
      "[CV] max_features=25, n_estimators=100 ...............................\n"
     ]
    },
    {
     "name": "stderr",
     "output_type": "stream",
     "text": [
      "[Parallel(n_jobs=5)]: Done 306 tasks      | elapsed:  4.1min\n",
      "[Parallel(n_jobs=1)]: Done  50 out of  50 | elapsed:    0.2s finished\n",
      "[Parallel(n_jobs=1)]: Done  50 out of  50 | elapsed:    0.1s finished\n"
     ]
    },
    {
     "name": "stdout",
     "output_type": "stream",
     "text": [
      "[CV] ....... max_features=25, n_estimators=50, score=0.820225 -   0.6s\n",
      "[CV] max_features=25, n_estimators=100 ...............................\n"
     ]
    },
    {
     "name": "stderr",
     "output_type": "stream",
     "text": [
      "[Parallel(n_jobs=1)]: Done  50 out of  50 | elapsed:    0.6s finished\n",
      "[Parallel(n_jobs=1)]: Done  50 out of  50 | elapsed:    0.1s finished\n"
     ]
    },
    {
     "name": "stdout",
     "output_type": "stream",
     "text": [
      "[CV] ....... max_features=25, n_estimators=50, score=0.786517 -   1.1s\n",
      "[CV] max_features=25, n_estimators=100 ...............................\n"
     ]
    },
    {
     "name": "stderr",
     "output_type": "stream",
     "text": [
      "[Parallel(n_jobs=5)]: Done 307 tasks      | elapsed:  4.1min\n",
      "[Parallel(n_jobs=5)]: Done 308 tasks      | elapsed:  4.1min\n",
      "[Parallel(n_jobs=1)]: Done  50 out of  50 | elapsed:    0.3s finished\n",
      "[Parallel(n_jobs=1)]: Done  50 out of  50 | elapsed:    0.1s finished\n"
     ]
    },
    {
     "name": "stdout",
     "output_type": "stream",
     "text": [
      "[CV] ....... max_features=25, n_estimators=50, score=0.829545 -   0.9s\n",
      "[CV] max_features=25, n_estimators=100 ...............................\n"
     ]
    },
    {
     "name": "stderr",
     "output_type": "stream",
     "text": [
      "[Parallel(n_jobs=5)]: Done 309 tasks      | elapsed:  4.1min\n",
      "[Parallel(n_jobs=1)]: Done 100 out of 100 | elapsed:    0.6s finished\n",
      "[Parallel(n_jobs=1)]: Done 100 out of 100 | elapsed:    0.2s finished\n"
     ]
    },
    {
     "name": "stdout",
     "output_type": "stream",
     "text": [
      "[CV] ...... max_features=25, n_estimators=100, score=0.733333 -   1.4s\n",
      "[CV] max_features=25, n_estimators=100 ...............................\n"
     ]
    },
    {
     "name": "stderr",
     "output_type": "stream",
     "text": [
      "[Parallel(n_jobs=1)]: Done 100 out of 100 | elapsed:    0.3s finished\n",
      "[Parallel(n_jobs=1)]: Done 100 out of 100 | elapsed:    0.4s finished\n",
      "[Parallel(n_jobs=1)]: Done 1000 out of 1000 | elapsed:    4.3s finished\n",
      "[Parallel(n_jobs=5)]: Done 310 tasks      | elapsed:  4.1min\n",
      "[Parallel(n_jobs=1)]: Done 100 out of 100 | elapsed:    0.1s finished\n"
     ]
    },
    {
     "name": "stdout",
     "output_type": "stream",
     "text": [
      "[CV] ...... max_features=25, n_estimators=100, score=0.764045 -   1.2s\n",
      "[CV] max_features=25, n_estimators=100 ...............................\n"
     ]
    },
    {
     "name": "stderr",
     "output_type": "stream",
     "text": [
      "[Parallel(n_jobs=1)]: Done 100 out of 100 | elapsed:    0.2s finished\n"
     ]
    },
    {
     "name": "stdout",
     "output_type": "stream",
     "text": [
      "[CV] ...... max_features=25, n_estimators=100, score=0.833333 -   1.4s\n",
      "[CV] max_features=25, n_estimators=100 ...............................\n"
     ]
    },
    {
     "name": "stderr",
     "output_type": "stream",
     "text": [
      "[Parallel(n_jobs=5)]: Done 311 tasks      | elapsed:  4.1min\n",
      "[Parallel(n_jobs=5)]: Done 312 tasks      | elapsed:  4.1min\n",
      "[Parallel(n_jobs=1)]: Done 100 out of 100 | elapsed:    0.5s finished\n",
      "[Parallel(n_jobs=1)]: Done 100 out of 100 | elapsed:    0.2s finished\n"
     ]
    },
    {
     "name": "stdout",
     "output_type": "stream",
     "text": [
      "[CV] ...... max_features=25, n_estimators=100, score=0.887640 -   1.5s\n",
      "[CV] max_features=25, n_estimators=100 ...............................\n"
     ]
    },
    {
     "name": "stderr",
     "output_type": "stream",
     "text": [
      "[Parallel(n_jobs=5)]: Done 313 tasks      | elapsed:  4.2min\n",
      "[Parallel(n_jobs=1)]: Done 100 out of 100 | elapsed:    0.5s finished\n",
      "[Parallel(n_jobs=1)]: Done 100 out of 100 | elapsed:    0.4s finished\n",
      "[Parallel(n_jobs=1)]: Done 1000 out of 1000 | elapsed:    1.1s finished\n"
     ]
    },
    {
     "name": "stdout",
     "output_type": "stream",
     "text": [
      "[CV] ..... max_features=20, n_estimators=1000, score=0.840909 -   9.7s\n",
      "[CV] max_features=25, n_estimators=100 ...............................\n"
     ]
    },
    {
     "name": "stderr",
     "output_type": "stream",
     "text": [
      "[Parallel(n_jobs=1)]: Done 100 out of 100 | elapsed:    0.1s finished\n",
      "[Parallel(n_jobs=1)]: Done 100 out of 100 | elapsed:    0.2s finished\n"
     ]
    },
    {
     "name": "stdout",
     "output_type": "stream",
     "text": [
      "[CV] ...... max_features=25, n_estimators=100, score=0.820225 -   1.1s\n",
      "[CV] ...... max_features=25, n_estimators=100, score=0.831461 -   1.4s\n",
      "[CV] max_features=25, n_estimators=100 ...............................\n",
      "[CV] max_features=25, n_estimators=400 ...............................\n"
     ]
    },
    {
     "name": "stderr",
     "output_type": "stream",
     "text": [
      "[Parallel(n_jobs=1)]: Done 100 out of 100 | elapsed:    0.4s finished\n",
      "[Parallel(n_jobs=5)]: Done 314 tasks      | elapsed:  4.2min\n",
      "[Parallel(n_jobs=5)]: Done 315 tasks      | elapsed:  4.2min\n",
      "[Parallel(n_jobs=5)]: Done 316 tasks      | elapsed:  4.2min\n",
      "[Parallel(n_jobs=1)]: Done 100 out of 100 | elapsed:    0.1s finished\n"
     ]
    },
    {
     "name": "stdout",
     "output_type": "stream",
     "text": [
      "[CV] ...... max_features=25, n_estimators=100, score=0.887640 -   1.3s\n",
      "[CV] max_features=25, n_estimators=400 ...............................\n"
     ]
    },
    {
     "name": "stderr",
     "output_type": "stream",
     "text": [
      "[Parallel(n_jobs=1)]: Done 100 out of 100 | elapsed:    0.5s finished\n",
      "[Parallel(n_jobs=5)]: Done 317 tasks      | elapsed:  4.2min\n",
      "[Parallel(n_jobs=1)]: Done 100 out of 100 | elapsed:    0.2s finished\n"
     ]
    },
    {
     "name": "stdout",
     "output_type": "stream",
     "text": [
      "[CV] ...... max_features=25, n_estimators=100, score=0.797753 -   1.2s\n",
      "[CV] max_features=25, n_estimators=400 ...............................\n"
     ]
    },
    {
     "name": "stderr",
     "output_type": "stream",
     "text": [
      "[Parallel(n_jobs=5)]: Done 318 tasks      | elapsed:  4.2min\n",
      "[Parallel(n_jobs=1)]: Done 100 out of 100 | elapsed:    0.4s finished\n",
      "[Parallel(n_jobs=1)]: Done 100 out of 100 | elapsed:    0.4s finished\n",
      "[Parallel(n_jobs=1)]: Done 100 out of 100 | elapsed:    0.2s finished\n"
     ]
    },
    {
     "name": "stdout",
     "output_type": "stream",
     "text": [
      "[CV] ...... max_features=25, n_estimators=100, score=0.831461 -   1.2s\n",
      "[CV] max_features=25, n_estimators=400 ...............................\n"
     ]
    },
    {
     "name": "stderr",
     "output_type": "stream",
     "text": [
      "[Parallel(n_jobs=1)]: Done 100 out of 100 | elapsed:    0.2s finished\n"
     ]
    },
    {
     "name": "stdout",
     "output_type": "stream",
     "text": [
      "[CV] ...... max_features=25, n_estimators=100, score=0.829545 -   1.2s\n",
      "[CV] max_features=25, n_estimators=400 ...............................\n"
     ]
    },
    {
     "name": "stderr",
     "output_type": "stream",
     "text": [
      "[Parallel(n_jobs=5)]: Done 319 tasks      | elapsed:  4.2min\n",
      "[Parallel(n_jobs=5)]: Done 320 tasks      | elapsed:  4.2min\n",
      "[Parallel(n_jobs=1)]: Done 400 out of 400 | elapsed:    1.8s finished\n",
      "[Parallel(n_jobs=1)]: Done 400 out of 400 | elapsed:    0.7s finished\n"
     ]
    },
    {
     "name": "stdout",
     "output_type": "stream",
     "text": [
      "[CV] ...... max_features=25, n_estimators=400, score=0.744444 -   4.5s\n",
      "[CV] max_features=25, n_estimators=400 ...............................\n"
     ]
    },
    {
     "name": "stderr",
     "output_type": "stream",
     "text": [
      "[Parallel(n_jobs=1)]: Done 400 out of 400 | elapsed:    1.8s finished\n",
      "[Parallel(n_jobs=1)]: Done 400 out of 400 | elapsed:    1.6s finished\n",
      "[Parallel(n_jobs=5)]: Done 321 tasks      | elapsed:  4.2min\n",
      "[Parallel(n_jobs=1)]: Done 400 out of 400 | elapsed:    2.1s finished\n",
      "[Parallel(n_jobs=1)]: Done 400 out of 400 | elapsed:    0.6s finished\n"
     ]
    },
    {
     "name": "stdout",
     "output_type": "stream",
     "text": [
      "[CV] ...... max_features=25, n_estimators=400, score=0.844444 -   5.0s\n",
      "[CV] max_features=25, n_estimators=400 ...............................\n"
     ]
    },
    {
     "name": "stderr",
     "output_type": "stream",
     "text": [
      "[Parallel(n_jobs=1)]: Done 400 out of 400 | elapsed:    0.7s finished\n",
      "[Parallel(n_jobs=5)]: Done 322 tasks      | elapsed:  4.3min\n"
     ]
    },
    {
     "name": "stdout",
     "output_type": "stream",
     "text": [
      "[CV] ...... max_features=25, n_estimators=400, score=0.764045 -   4.7s\n",
      "[CV] max_features=25, n_estimators=400 ...............................\n"
     ]
    },
    {
     "name": "stderr",
     "output_type": "stream",
     "text": [
      "[Parallel(n_jobs=1)]: Done 400 out of 400 | elapsed:    1.7s finished\n",
      "[Parallel(n_jobs=5)]: Done 323 tasks      | elapsed:  4.3min\n",
      "[Parallel(n_jobs=1)]: Done 400 out of 400 | elapsed:    0.5s finished\n"
     ]
    },
    {
     "name": "stdout",
     "output_type": "stream",
     "text": [
      "[CV] ...... max_features=25, n_estimators=400, score=0.831461 -   4.7s\n",
      "[CV] max_features=25, n_estimators=400 ...............................\n"
     ]
    },
    {
     "name": "stderr",
     "output_type": "stream",
     "text": [
      "[Parallel(n_jobs=1)]: Done 400 out of 400 | elapsed:    0.9s finished\n"
     ]
    },
    {
     "name": "stdout",
     "output_type": "stream",
     "text": [
      "[CV] ...... max_features=25, n_estimators=400, score=0.876404 -   4.9s\n",
      "[CV] max_features=25, n_estimators=400 ...............................\n"
     ]
    },
    {
     "name": "stderr",
     "output_type": "stream",
     "text": [
      "[Parallel(n_jobs=5)]: Done 324 tasks      | elapsed:  4.3min\n",
      "[Parallel(n_jobs=5)]: Done 325 tasks      | elapsed:  4.3min\n",
      "[Parallel(n_jobs=1)]: Done 400 out of 400 | elapsed:    1.8s finished\n",
      "[Parallel(n_jobs=1)]: Done 400 out of 400 | elapsed:    0.8s finished\n"
     ]
    },
    {
     "name": "stdout",
     "output_type": "stream",
     "text": [
      "[CV] ...... max_features=25, n_estimators=400, score=0.876404 -   5.1s\n",
      "[CV] max_features=25, n_estimators=700 ...............................\n"
     ]
    },
    {
     "name": "stderr",
     "output_type": "stream",
     "text": [
      "[Parallel(n_jobs=5)]: Done 326 tasks      | elapsed:  4.3min\n",
      "[Parallel(n_jobs=1)]: Done 400 out of 400 | elapsed:    1.9s finished\n",
      "[Parallel(n_jobs=1)]: Done 400 out of 400 | elapsed:    2.3s finished\n",
      "[Parallel(n_jobs=1)]: Done 400 out of 400 | elapsed:    0.9s finished\n"
     ]
    },
    {
     "name": "stdout",
     "output_type": "stream",
     "text": [
      "[CV] ...... max_features=25, n_estimators=400, score=0.808989 -   5.7s\n",
      "[CV] max_features=25, n_estimators=700 ...............................\n"
     ]
    },
    {
     "name": "stderr",
     "output_type": "stream",
     "text": [
      "[Parallel(n_jobs=1)]: Done 400 out of 400 | elapsed:    2.1s finished\n",
      "[Parallel(n_jobs=1)]: Done 400 out of 400 | elapsed:    0.8s finished\n"
     ]
    },
    {
     "name": "stdout",
     "output_type": "stream",
     "text": [
      "[CV] ...... max_features=25, n_estimators=400, score=0.786517 -   5.7s\n",
      "[CV] max_features=25, n_estimators=700 ...............................\n"
     ]
    },
    {
     "name": "stderr",
     "output_type": "stream",
     "text": [
      "[Parallel(n_jobs=5)]: Done 327 tasks      | elapsed:  4.4min\n",
      "[Parallel(n_jobs=5)]: Done 328 tasks      | elapsed:  4.4min\n",
      "[Parallel(n_jobs=1)]: Done 400 out of 400 | elapsed:    2.4s finished\n",
      "[Parallel(n_jobs=1)]: Done 400 out of 400 | elapsed:    0.9s finished\n"
     ]
    },
    {
     "name": "stdout",
     "output_type": "stream",
     "text": [
      "[CV] ...... max_features=25, n_estimators=400, score=0.842697 -   6.0s\n",
      "[CV] max_features=25, n_estimators=700 ...............................\n"
     ]
    },
    {
     "name": "stderr",
     "output_type": "stream",
     "text": [
      "[Parallel(n_jobs=1)]: Done 400 out of 400 | elapsed:    0.9s finished\n"
     ]
    },
    {
     "name": "stdout",
     "output_type": "stream",
     "text": [
      "[CV] ...... max_features=25, n_estimators=400, score=0.829545 -   6.0s\n",
      "[CV] max_features=25, n_estimators=700 ...............................\n"
     ]
    },
    {
     "name": "stderr",
     "output_type": "stream",
     "text": [
      "[Parallel(n_jobs=5)]: Done 329 tasks      | elapsed:  4.4min\n",
      "[Parallel(n_jobs=5)]: Done 330 tasks      | elapsed:  4.4min\n",
      "[Parallel(n_jobs=1)]: Done 700 out of 700 | elapsed:    2.2s finished\n",
      "[Parallel(n_jobs=1)]: Done 700 out of 700 | elapsed:    2.0s finished\n",
      "[Parallel(n_jobs=1)]: Done 700 out of 700 | elapsed:    0.9s finished\n"
     ]
    },
    {
     "name": "stdout",
     "output_type": "stream",
     "text": [
      "[CV] ...... max_features=25, n_estimators=700, score=0.744444 -   7.3s\n",
      "[CV] max_features=25, n_estimators=700 ...............................\n"
     ]
    },
    {
     "name": "stderr",
     "output_type": "stream",
     "text": [
      "[Parallel(n_jobs=5)]: Done 331 tasks      | elapsed:  4.5min\n",
      "[Parallel(n_jobs=1)]: Done 700 out of 700 | elapsed:    2.7s finished\n",
      "[Parallel(n_jobs=1)]: Done 700 out of 700 | elapsed:    1.0s finished\n"
     ]
    },
    {
     "name": "stdout",
     "output_type": "stream",
     "text": [
      "[CV] ...... max_features=25, n_estimators=700, score=0.844444 -   7.0s\n",
      "[CV] max_features=25, n_estimators=700 ...............................\n"
     ]
    },
    {
     "name": "stderr",
     "output_type": "stream",
     "text": [
      "[Parallel(n_jobs=5)]: Done 332 tasks      | elapsed:  4.5min\n",
      "[Parallel(n_jobs=1)]: Done 700 out of 700 | elapsed:    3.0s finished\n",
      "[Parallel(n_jobs=1)]: Done 700 out of 700 | elapsed:    1.4s finished\n"
     ]
    },
    {
     "name": "stdout",
     "output_type": "stream",
     "text": [
      "[CV] ...... max_features=25, n_estimators=700, score=0.764045 -   8.2s\n",
      "[CV] max_features=25, n_estimators=700 ...............................\n"
     ]
    },
    {
     "name": "stderr",
     "output_type": "stream",
     "text": [
      "[Parallel(n_jobs=1)]: Done 700 out of 700 | elapsed:    3.4s finished\n",
      "[Parallel(n_jobs=5)]: Done 333 tasks      | elapsed:  4.5min\n",
      "[Parallel(n_jobs=1)]: Done 700 out of 700 | elapsed:    0.9s finished\n"
     ]
    },
    {
     "name": "stdout",
     "output_type": "stream",
     "text": [
      "[CV] ...... max_features=25, n_estimators=700, score=0.865169 -   8.0s\n",
      "[CV] max_features=25, n_estimators=700 ...............................\n"
     ]
    },
    {
     "name": "stderr",
     "output_type": "stream",
     "text": [
      "[Parallel(n_jobs=5)]: Done 334 tasks      | elapsed:  4.5min\n",
      "[Parallel(n_jobs=1)]: Done 700 out of 700 | elapsed:    0.9s finished\n"
     ]
    },
    {
     "name": "stdout",
     "output_type": "stream",
     "text": [
      "[CV] ...... max_features=25, n_estimators=700, score=0.831461 -   8.4s\n",
      "[CV] max_features=25, n_estimators=700 ...............................\n"
     ]
    },
    {
     "name": "stderr",
     "output_type": "stream",
     "text": [
      "[Parallel(n_jobs=5)]: Done 335 tasks      | elapsed:  4.5min\n",
      "[Parallel(n_jobs=1)]: Done 700 out of 700 | elapsed:    2.3s finished\n",
      "[Parallel(n_jobs=1)]: Done 700 out of 700 | elapsed:    2.6s finished\n",
      "[Parallel(n_jobs=1)]: Done 700 out of 700 | elapsed:    0.8s finished\n"
     ]
    },
    {
     "name": "stdout",
     "output_type": "stream",
     "text": [
      "[CV] ...... max_features=25, n_estimators=700, score=0.808989 -   6.5s\n"
     ]
    },
    {
     "name": "stderr",
     "output_type": "stream",
     "text": [
      "[Parallel(n_jobs=1)]: Done 700 out of 700 | elapsed:    0.8s finished\n"
     ]
    },
    {
     "name": "stdout",
     "output_type": "stream",
     "text": [
      "[CV] max_features=25, n_estimators=1000 ..............................\n",
      "[CV] ...... max_features=25, n_estimators=700, score=0.876404 -   7.6s\n",
      "[CV] max_features=25, n_estimators=1000 ..............................\n"
     ]
    },
    {
     "name": "stderr",
     "output_type": "stream",
     "text": [
      "[Parallel(n_jobs=5)]: Done 336 tasks      | elapsed:  4.6min\n",
      "[Parallel(n_jobs=5)]: Done 337 tasks      | elapsed:  4.6min\n",
      "[Parallel(n_jobs=1)]: Done 700 out of 700 | elapsed:    2.4s finished\n",
      "[Parallel(n_jobs=1)]: Done 700 out of 700 | elapsed:    2.7s finished\n",
      "[Parallel(n_jobs=1)]: Done 700 out of 700 | elapsed:    2.7s finished\n",
      "[Parallel(n_jobs=1)]: Done 700 out of 700 | elapsed:    1.0s finished\n"
     ]
    },
    {
     "name": "stdout",
     "output_type": "stream",
     "text": [
      "[CV] ...... max_features=25, n_estimators=700, score=0.853933 -   6.5s\n",
      "[CV] max_features=25, n_estimators=1000 ..............................\n"
     ]
    },
    {
     "name": "stderr",
     "output_type": "stream",
     "text": [
      "[Parallel(n_jobs=5)]: Done 338 tasks      | elapsed:  4.6min\n",
      "[Parallel(n_jobs=1)]: Done 700 out of 700 | elapsed:    0.9s finished\n"
     ]
    },
    {
     "name": "stdout",
     "output_type": "stream",
     "text": [
      "[CV] ...... max_features=25, n_estimators=700, score=0.829545 -   6.2s\n",
      "[CV] max_features=25, n_estimators=1000 ..............................\n"
     ]
    },
    {
     "name": "stderr",
     "output_type": "stream",
     "text": [
      "[Parallel(n_jobs=1)]: Done 700 out of 700 | elapsed:    0.9s finished\n"
     ]
    },
    {
     "name": "stdout",
     "output_type": "stream",
     "text": [
      "[CV] ...... max_features=25, n_estimators=700, score=0.797753 -   7.5s\n"
     ]
    },
    {
     "name": "stderr",
     "output_type": "stream",
     "text": [
      "[Parallel(n_jobs=5)]: Done 339 tasks      | elapsed:  4.6min\n"
     ]
    },
    {
     "name": "stdout",
     "output_type": "stream",
     "text": [
      "[CV] max_features=25, n_estimators=1000 ..............................\n"
     ]
    },
    {
     "name": "stderr",
     "output_type": "stream",
     "text": [
      "[Parallel(n_jobs=5)]: Done 340 tasks      | elapsed:  4.6min\n",
      "[Parallel(n_jobs=1)]: Done 1000 out of 1000 | elapsed:    4.4s finished\n",
      "[Parallel(n_jobs=1)]: Done 1000 out of 1000 | elapsed:    1.2s finished\n"
     ]
    },
    {
     "name": "stdout",
     "output_type": "stream",
     "text": [
      "[CV] ..... max_features=25, n_estimators=1000, score=0.744444 -   9.8s\n"
     ]
    },
    {
     "name": "stderr",
     "output_type": "stream",
     "text": [
      "[Parallel(n_jobs=1)]: Done 1000 out of 1000 | elapsed:    5.1s finished\n"
     ]
    },
    {
     "name": "stdout",
     "output_type": "stream",
     "text": [
      "[CV] max_features=25, n_estimators=1000 ..............................\n"
     ]
    },
    {
     "name": "stderr",
     "output_type": "stream",
     "text": [
      "[Parallel(n_jobs=5)]: Done 341 tasks      | elapsed:  4.7min\n",
      "[Parallel(n_jobs=1)]: Done 1000 out of 1000 | elapsed:    4.7s finished\n",
      "[Parallel(n_jobs=1)]: Done 1000 out of 1000 | elapsed:    1.2s finished\n"
     ]
    },
    {
     "name": "stdout",
     "output_type": "stream",
     "text": [
      "[CV] ..... max_features=25, n_estimators=1000, score=0.844444 -  10.9s\n",
      "[CV] max_features=25, n_estimators=1000 ..............................\n"
     ]
    },
    {
     "name": "stderr",
     "output_type": "stream",
     "text": [
      "[Parallel(n_jobs=5)]: Done 342 tasks      | elapsed:  4.8min\n",
      "[Parallel(n_jobs=1)]: Done 1000 out of 1000 | elapsed:    1.1s finished\n"
     ]
    },
    {
     "name": "stdout",
     "output_type": "stream",
     "text": [
      "[CV] ..... max_features=25, n_estimators=1000, score=0.764045 -   9.7s\n",
      "[CV] max_features=25, n_estimators=1000 ..............................\n"
     ]
    },
    {
     "name": "stderr",
     "output_type": "stream",
     "text": [
      "[Parallel(n_jobs=1)]: Done 1000 out of 1000 | elapsed:    4.7s finished\n",
      "[Parallel(n_jobs=5)]: Done 343 tasks      | elapsed:  4.8min\n",
      "[Parallel(n_jobs=1)]: Done 1000 out of 1000 | elapsed:    1.2s finished\n"
     ]
    },
    {
     "name": "stdout",
     "output_type": "stream",
     "text": [
      "[CV] ..... max_features=25, n_estimators=1000, score=0.865169 -  10.9s\n",
      "[CV] max_features=25, n_estimators=1000 ..............................\n"
     ]
    },
    {
     "name": "stderr",
     "output_type": "stream",
     "text": [
      "[Parallel(n_jobs=5)]: Done 344 tasks      | elapsed:  4.8min\n",
      "[Parallel(n_jobs=1)]: Done 1000 out of 1000 | elapsed:    4.6s finished\n",
      "[Parallel(n_jobs=1)]: Done 1000 out of 1000 | elapsed:    1.1s finished\n"
     ]
    },
    {
     "name": "stdout",
     "output_type": "stream",
     "text": [
      "[CV] ..... max_features=25, n_estimators=1000, score=0.831461 -  12.1s\n",
      "[CV] max_features=25, n_estimators=1000 ..............................\n"
     ]
    },
    {
     "name": "stderr",
     "output_type": "stream",
     "text": [
      "[Parallel(n_jobs=5)]: Done 345 tasks      | elapsed:  4.8min\n",
      "[Parallel(n_jobs=1)]: Done 1000 out of 1000 | elapsed:    3.7s finished\n",
      "[Parallel(n_jobs=1)]: Done 1000 out of 1000 | elapsed:    4.3s finished\n",
      "[Parallel(n_jobs=1)]: Done 1000 out of 1000 | elapsed:    4.0s finished\n",
      "[Parallel(n_jobs=1)]: Done 1000 out of 1000 | elapsed:    1.3s finished\n"
     ]
    },
    {
     "name": "stdout",
     "output_type": "stream",
     "text": [
      "[CV] ..... max_features=25, n_estimators=1000, score=0.808989 -   9.3s\n",
      "[CV] max_features=30, n_estimators=50 ................................\n"
     ]
    },
    {
     "name": "stderr",
     "output_type": "stream",
     "text": [
      "[Parallel(n_jobs=1)]: Done 1000 out of 1000 | elapsed:    3.6s finished\n",
      "[Parallel(n_jobs=5)]: Done 346 tasks      | elapsed:  4.9min\n",
      "[Parallel(n_jobs=1)]: Done 1000 out of 1000 | elapsed:    1.1s finished\n"
     ]
    },
    {
     "name": "stdout",
     "output_type": "stream",
     "text": [
      "[CV] ..... max_features=25, n_estimators=1000, score=0.876404 -  10.8s\n",
      "[CV] max_features=30, n_estimators=50 ................................\n"
     ]
    },
    {
     "name": "stderr",
     "output_type": "stream",
     "text": [
      "[Parallel(n_jobs=1)]: Done  50 out of  50 | elapsed:    0.1s finished\n",
      "[Parallel(n_jobs=1)]: Done  50 out of  50 | elapsed:    0.1s finished\n"
     ]
    },
    {
     "name": "stdout",
     "output_type": "stream",
     "text": [
      "[CV] ....... max_features=30, n_estimators=50, score=0.722222 -   0.5s\n"
     ]
    },
    {
     "name": "stderr",
     "output_type": "stream",
     "text": [
      "[Parallel(n_jobs=5)]: Done 347 tasks      | elapsed:  4.9min\n",
      "[Parallel(n_jobs=5)]: Done 348 tasks      | elapsed:  4.9min\n"
     ]
    },
    {
     "name": "stdout",
     "output_type": "stream",
     "text": [
      "[CV] max_features=30, n_estimators=50 ................................\n"
     ]
    },
    {
     "name": "stderr",
     "output_type": "stream",
     "text": [
      "[Parallel(n_jobs=1)]: Done  50 out of  50 | elapsed:    0.1s finished\n",
      "[Parallel(n_jobs=1)]: Done  50 out of  50 | elapsed:    0.0s finished\n"
     ]
    },
    {
     "name": "stdout",
     "output_type": "stream",
     "text": [
      "[CV] ....... max_features=30, n_estimators=50, score=0.855556 -   0.4s\n",
      "[CV] max_features=30, n_estimators=50 ................................\n"
     ]
    },
    {
     "name": "stderr",
     "output_type": "stream",
     "text": [
      "[Parallel(n_jobs=1)]: Done  50 out of  50 | elapsed:    0.2s finished\n",
      "[Parallel(n_jobs=5)]: Done 349 tasks      | elapsed:  4.9min\n",
      "[Parallel(n_jobs=1)]: Done 1000 out of 1000 | elapsed:    1.2s finished\n"
     ]
    },
    {
     "name": "stdout",
     "output_type": "stream",
     "text": [
      "[CV] ..... max_features=25, n_estimators=1000, score=0.786517 -   9.7s\n"
     ]
    },
    {
     "name": "stderr",
     "output_type": "stream",
     "text": [
      "[Parallel(n_jobs=1)]: Done  50 out of  50 | elapsed:    0.1s finished\n"
     ]
    },
    {
     "name": "stdout",
     "output_type": "stream",
     "text": [
      "[CV] max_features=30, n_estimators=50 ................................\n",
      "[CV] ....... max_features=30, n_estimators=50, score=0.775281 -   0.5s\n",
      "[CV] max_features=30, n_estimators=50 ................................\n"
     ]
    },
    {
     "name": "stderr",
     "output_type": "stream",
     "text": [
      "[Parallel(n_jobs=1)]: Done 1000 out of 1000 | elapsed:    1.0s finished\n"
     ]
    },
    {
     "name": "stdout",
     "output_type": "stream",
     "text": [
      "[CV] ..... max_features=25, n_estimators=1000, score=0.853933 -   8.5s\n",
      "[CV] max_features=30, n_estimators=50 ................................\n"
     ]
    },
    {
     "name": "stderr",
     "output_type": "stream",
     "text": [
      "[Parallel(n_jobs=5)]: Done 350 tasks      | elapsed:  4.9min\n",
      "[Parallel(n_jobs=5)]: Done 351 tasks      | elapsed:  4.9min\n",
      "[Parallel(n_jobs=5)]: Done 352 tasks      | elapsed:  4.9min\n",
      "[Parallel(n_jobs=1)]: Done  50 out of  50 | elapsed:    0.2s finished\n",
      "[Parallel(n_jobs=1)]: Done  50 out of  50 | elapsed:    0.2s finished\n",
      "[Parallel(n_jobs=1)]: Done  50 out of  50 | elapsed:    0.0s finished\n"
     ]
    },
    {
     "name": "stdout",
     "output_type": "stream",
     "text": [
      "[CV] ....... max_features=30, n_estimators=50, score=0.853933 -   0.6s\n",
      "[CV] max_features=30, n_estimators=50 ................................\n"
     ]
    },
    {
     "name": "stderr",
     "output_type": "stream",
     "text": [
      "[Parallel(n_jobs=1)]: Done  50 out of  50 | elapsed:    0.1s finished\n"
     ]
    },
    {
     "name": "stdout",
     "output_type": "stream",
     "text": [
      "[CV] ....... max_features=30, n_estimators=50, score=0.842697 -   0.4s\n",
      "[CV] max_features=30, n_estimators=50 ................................\n"
     ]
    },
    {
     "name": "stderr",
     "output_type": "stream",
     "text": [
      "[Parallel(n_jobs=5)]: Done 353 tasks      | elapsed:  4.9min\n",
      "[Parallel(n_jobs=5)]: Done 354 tasks      | elapsed:  4.9min\n",
      "[Parallel(n_jobs=1)]: Done  50 out of  50 | elapsed:    0.2s finished\n",
      "[Parallel(n_jobs=1)]: Done  50 out of  50 | elapsed:    0.3s finished\n",
      "[Parallel(n_jobs=1)]: Done  50 out of  50 | elapsed:    0.1s finished\n"
     ]
    },
    {
     "name": "stdout",
     "output_type": "stream",
     "text": [
      "[CV] ....... max_features=30, n_estimators=50, score=0.808989 -   0.5s\n"
     ]
    },
    {
     "name": "stderr",
     "output_type": "stream",
     "text": [
      "[Parallel(n_jobs=1)]: Done  50 out of  50 | elapsed:    0.1s finished\n"
     ]
    },
    {
     "name": "stdout",
     "output_type": "stream",
     "text": [
      "[CV] max_features=30, n_estimators=50 ................................\n",
      "[CV] ....... max_features=30, n_estimators=50, score=0.887640 -   0.7s\n",
      "[CV] max_features=30, n_estimators=100 ...............................\n"
     ]
    },
    {
     "name": "stderr",
     "output_type": "stream",
     "text": [
      "[Parallel(n_jobs=1)]: Done  50 out of  50 | elapsed:    0.2s finished\n",
      "[Parallel(n_jobs=1)]: Done  50 out of  50 | elapsed:    0.1s finished\n"
     ]
    },
    {
     "name": "stdout",
     "output_type": "stream",
     "text": [
      "[CV] ....... max_features=30, n_estimators=50, score=0.808989 -   0.5s\n"
     ]
    },
    {
     "name": "stderr",
     "output_type": "stream",
     "text": [
      "[Parallel(n_jobs=5)]: Done 355 tasks      | elapsed:  4.9min\n",
      "[Parallel(n_jobs=5)]: Done 356 tasks      | elapsed:  4.9min\n",
      "[Parallel(n_jobs=5)]: Done 357 tasks      | elapsed:  4.9min\n"
     ]
    },
    {
     "name": "stdout",
     "output_type": "stream",
     "text": [
      "[CV] max_features=30, n_estimators=100 ...............................\n"
     ]
    },
    {
     "name": "stderr",
     "output_type": "stream",
     "text": [
      "[Parallel(n_jobs=1)]: Done  50 out of  50 | elapsed:    0.3s finished\n",
      "[Parallel(n_jobs=1)]: Done  50 out of  50 | elapsed:    0.2s finished\n",
      "[Parallel(n_jobs=1)]: Done  50 out of  50 | elapsed:    0.0s finished\n",
      "[Parallel(n_jobs=1)]: Done  50 out of  50 | elapsed:    0.1s finished\n"
     ]
    },
    {
     "name": "stdout",
     "output_type": "stream",
     "text": [
      "[CV] ....... max_features=30, n_estimators=50, score=0.831461 -   0.6s\n",
      "[CV] ....... max_features=30, n_estimators=50, score=0.840909 -   0.4s\n",
      "[CV] max_features=30, n_estimators=100 ...............................\n",
      "[CV] max_features=30, n_estimators=100 ...............................\n"
     ]
    },
    {
     "name": "stderr",
     "output_type": "stream",
     "text": [
      "[Parallel(n_jobs=5)]: Done 358 tasks      | elapsed:  5.0min\n",
      "[Parallel(n_jobs=5)]: Done 359 tasks      | elapsed:  5.0min\n",
      "[Parallel(n_jobs=1)]: Done 100 out of 100 | elapsed:    0.3s finished\n",
      "[Parallel(n_jobs=1)]: Done 100 out of 100 | elapsed:    0.1s finished\n"
     ]
    },
    {
     "name": "stdout",
     "output_type": "stream",
     "text": [
      "[CV] ...... max_features=30, n_estimators=100, score=0.733333 -   0.8s\n",
      "[CV] max_features=30, n_estimators=100 ...............................\n"
     ]
    },
    {
     "name": "stderr",
     "output_type": "stream",
     "text": [
      "[Parallel(n_jobs=1)]: Done 1000 out of 1000 | elapsed:    3.3s finished\n",
      "[Parallel(n_jobs=1)]: Done 100 out of 100 | elapsed:    0.4s finished\n",
      "[Parallel(n_jobs=5)]: Done 360 tasks      | elapsed:  5.0min\n",
      "[Parallel(n_jobs=1)]: Done 100 out of 100 | elapsed:    0.2s finished\n"
     ]
    },
    {
     "name": "stdout",
     "output_type": "stream",
     "text": [
      "[CV] ...... max_features=30, n_estimators=100, score=0.844444 -   1.0s\n",
      "[CV] max_features=30, n_estimators=100 ...............................\n"
     ]
    },
    {
     "name": "stderr",
     "output_type": "stream",
     "text": [
      "[Parallel(n_jobs=1)]: Done 100 out of 100 | elapsed:    0.3s finished\n",
      "[Parallel(n_jobs=1)]: Done 100 out of 100 | elapsed:    0.4s finished\n",
      "[Parallel(n_jobs=5)]: Done 361 tasks      | elapsed:  5.0min\n",
      "[Parallel(n_jobs=1)]: Done 100 out of 100 | elapsed:    0.1s finished\n"
     ]
    },
    {
     "name": "stdout",
     "output_type": "stream",
     "text": [
      "[CV] ...... max_features=30, n_estimators=100, score=0.865169 -   1.0s\n",
      "[CV] max_features=30, n_estimators=100 ...............................\n"
     ]
    },
    {
     "name": "stderr",
     "output_type": "stream",
     "text": [
      "[Parallel(n_jobs=1)]: Done 100 out of 100 | elapsed:    0.2s finished\n"
     ]
    },
    {
     "name": "stdout",
     "output_type": "stream",
     "text": [
      "[CV] ...... max_features=30, n_estimators=100, score=0.775281 -   1.1s\n",
      "[CV] max_features=30, n_estimators=100 ...............................\n"
     ]
    },
    {
     "name": "stderr",
     "output_type": "stream",
     "text": [
      "[Parallel(n_jobs=5)]: Done 362 tasks      | elapsed:  5.0min\n",
      "[Parallel(n_jobs=5)]: Done 363 tasks      | elapsed:  5.0min\n",
      "[Parallel(n_jobs=1)]: Done 100 out of 100 | elapsed:    0.4s finished\n",
      "[Parallel(n_jobs=1)]: Done 100 out of 100 | elapsed:    0.2s finished\n"
     ]
    },
    {
     "name": "stdout",
     "output_type": "stream",
     "text": [
      "[CV] ...... max_features=30, n_estimators=100, score=0.842697 -   1.0s\n",
      "[CV] max_features=30, n_estimators=100 ...............................\n"
     ]
    },
    {
     "name": "stderr",
     "output_type": "stream",
     "text": [
      "[Parallel(n_jobs=1)]: Done 1000 out of 1000 | elapsed:    1.0s finished\n"
     ]
    },
    {
     "name": "stdout",
     "output_type": "stream",
     "text": [
      "[CV] ..... max_features=25, n_estimators=1000, score=0.829545 -   9.6s\n",
      "[CV] max_features=30, n_estimators=100 ...............................\n"
     ]
    },
    {
     "name": "stderr",
     "output_type": "stream",
     "text": [
      "[Parallel(n_jobs=1)]: Done 100 out of 100 | elapsed:    0.4s finished\n",
      "[Parallel(n_jobs=1)]: Done 100 out of 100 | elapsed:    0.1s finished\n",
      "[Parallel(n_jobs=5)]: Done 364 tasks      | elapsed:  5.0min\n",
      "[Parallel(n_jobs=5)]: Done 365 tasks      | elapsed:  5.0min\n"
     ]
    },
    {
     "name": "stdout",
     "output_type": "stream",
     "text": [
      "[CV] ...... max_features=30, n_estimators=100, score=0.887640 -   0.9s\n",
      "[CV] max_features=30, n_estimators=400 ...............................\n"
     ]
    },
    {
     "name": "stderr",
     "output_type": "stream",
     "text": [
      "[Parallel(n_jobs=1)]: Done 100 out of 100 | elapsed:    0.3s finished\n",
      "[Parallel(n_jobs=5)]: Done 366 tasks      | elapsed:  5.0min\n",
      "[Parallel(n_jobs=1)]: Done 100 out of 100 | elapsed:    0.2s finished\n"
     ]
    },
    {
     "name": "stdout",
     "output_type": "stream",
     "text": [
      "[CV] ...... max_features=30, n_estimators=100, score=0.808989 -   0.9s\n",
      "[CV] max_features=30, n_estimators=400 ...............................\n"
     ]
    },
    {
     "name": "stderr",
     "output_type": "stream",
     "text": [
      "[Parallel(n_jobs=5)]: Done 367 tasks      | elapsed:  5.0min\n",
      "[Parallel(n_jobs=1)]: Done 100 out of 100 | elapsed:    0.3s finished\n",
      "[Parallel(n_jobs=1)]: Done 100 out of 100 | elapsed:    0.3s finished\n",
      "[Parallel(n_jobs=1)]: Done 100 out of 100 | elapsed:    0.5s finished\n",
      "[Parallel(n_jobs=1)]: Done 100 out of 100 | elapsed:    0.1s finished\n"
     ]
    },
    {
     "name": "stdout",
     "output_type": "stream",
     "text": [
      "[CV] ...... max_features=30, n_estimators=100, score=0.820225 -   0.9s\n"
     ]
    },
    {
     "name": "stderr",
     "output_type": "stream",
     "text": [
      "[Parallel(n_jobs=1)]: Done 100 out of 100 | elapsed:    0.1s finished\n"
     ]
    },
    {
     "name": "stdout",
     "output_type": "stream",
     "text": [
      "[CV] max_features=30, n_estimators=400 ...............................\n",
      "[CV] ...... max_features=30, n_estimators=100, score=0.829545 -   0.9s\n",
      "[CV] max_features=30, n_estimators=400 ...............................\n"
     ]
    },
    {
     "name": "stderr",
     "output_type": "stream",
     "text": [
      "[Parallel(n_jobs=1)]: Done 100 out of 100 | elapsed:    0.1s finished\n"
     ]
    },
    {
     "name": "stdout",
     "output_type": "stream",
     "text": [
      "[CV] ...... max_features=30, n_estimators=100, score=0.808989 -   1.3s\n",
      "[CV] max_features=30, n_estimators=400 ...............................\n"
     ]
    },
    {
     "name": "stderr",
     "output_type": "stream",
     "text": [
      "[Parallel(n_jobs=5)]: Done 368 tasks      | elapsed:  5.0min\n",
      "[Parallel(n_jobs=5)]: Done 369 tasks      | elapsed:  5.0min\n",
      "[Parallel(n_jobs=5)]: Done 370 tasks      | elapsed:  5.0min\n",
      "[Parallel(n_jobs=1)]: Done 400 out of 400 | elapsed:    1.3s finished\n",
      "[Parallel(n_jobs=1)]: Done 400 out of 400 | elapsed:    0.4s finished\n"
     ]
    },
    {
     "name": "stdout",
     "output_type": "stream",
     "text": [
      "[CV] ...... max_features=30, n_estimators=400, score=0.744444 -   3.2s\n",
      "[CV] max_features=30, n_estimators=400 ...............................\n"
     ]
    },
    {
     "name": "stderr",
     "output_type": "stream",
     "text": [
      "[Parallel(n_jobs=5)]: Done 371 tasks      | elapsed:  5.0min\n",
      "[Parallel(n_jobs=1)]: Done 400 out of 400 | elapsed:    1.4s finished\n",
      "[Parallel(n_jobs=1)]: Done 400 out of 400 | elapsed:    1.3s finished\n",
      "[Parallel(n_jobs=1)]: Done 400 out of 400 | elapsed:    2.1s finished\n",
      "[Parallel(n_jobs=1)]: Done 400 out of 400 | elapsed:    0.4s finished\n"
     ]
    },
    {
     "name": "stdout",
     "output_type": "stream",
     "text": [
      "[CV] ...... max_features=30, n_estimators=400, score=0.764045 -   3.3s\n",
      "[CV] max_features=30, n_estimators=400 ...............................\n"
     ]
    },
    {
     "name": "stderr",
     "output_type": "stream",
     "text": [
      "[Parallel(n_jobs=1)]: Done 400 out of 400 | elapsed:    0.4s finished\n"
     ]
    },
    {
     "name": "stdout",
     "output_type": "stream",
     "text": [
      "[CV] ...... max_features=30, n_estimators=400, score=0.820225 -   3.2s\n",
      "[CV] max_features=30, n_estimators=400 ...............................\n"
     ]
    },
    {
     "name": "stderr",
     "output_type": "stream",
     "text": [
      "[Parallel(n_jobs=5)]: Done 372 tasks      | elapsed:  5.0min\n",
      "[Parallel(n_jobs=5)]: Done 373 tasks      | elapsed:  5.0min\n",
      "[Parallel(n_jobs=1)]: Done 400 out of 400 | elapsed:    1.8s finished\n",
      "[Parallel(n_jobs=1)]: Done 400 out of 400 | elapsed:    0.5s finished\n"
     ]
    },
    {
     "name": "stdout",
     "output_type": "stream",
     "text": [
      "[CV] ...... max_features=30, n_estimators=400, score=0.844444 -   4.2s\n",
      "[CV] max_features=30, n_estimators=400 ...............................\n"
     ]
    },
    {
     "name": "stderr",
     "output_type": "stream",
     "text": [
      "[Parallel(n_jobs=5)]: Done 374 tasks      | elapsed:  5.1min\n",
      "[Parallel(n_jobs=1)]: Done 400 out of 400 | elapsed:    0.5s finished\n"
     ]
    },
    {
     "name": "stdout",
     "output_type": "stream",
     "text": [
      "[CV] ...... max_features=30, n_estimators=400, score=0.865169 -   4.2s\n",
      "[CV] max_features=30, n_estimators=400 ...............................\n"
     ]
    },
    {
     "name": "stderr",
     "output_type": "stream",
     "text": [
      "[Parallel(n_jobs=5)]: Done 375 tasks      | elapsed:  5.1min\n",
      "[Parallel(n_jobs=1)]: Done 400 out of 400 | elapsed:    1.9s finished\n",
      "[Parallel(n_jobs=1)]: Done 400 out of 400 | elapsed:    1.4s finished\n",
      "[Parallel(n_jobs=1)]: Done 400 out of 400 | elapsed:    0.7s finished\n"
     ]
    },
    {
     "name": "stdout",
     "output_type": "stream",
     "text": [
      "[CV] ...... max_features=30, n_estimators=400, score=0.876404 -   4.2s\n",
      "[CV] max_features=30, n_estimators=700 ...............................\n"
     ]
    },
    {
     "name": "stderr",
     "output_type": "stream",
     "text": [
      "[Parallel(n_jobs=1)]: Done 400 out of 400 | elapsed:    0.5s finished\n"
     ]
    },
    {
     "name": "stdout",
     "output_type": "stream",
     "text": [
      "[CV] ...... max_features=30, n_estimators=400, score=0.808989 -   3.6s\n",
      "[CV] max_features=30, n_estimators=700 ...............................\n"
     ]
    },
    {
     "name": "stderr",
     "output_type": "stream",
     "text": [
      "[Parallel(n_jobs=5)]: Done 376 tasks      | elapsed:  5.1min\n",
      "[Parallel(n_jobs=5)]: Done 377 tasks      | elapsed:  5.1min\n",
      "[Parallel(n_jobs=1)]: Done 400 out of 400 | elapsed:    1.4s finished\n",
      "[Parallel(n_jobs=1)]: Done 400 out of 400 | elapsed:    1.5s finished\n",
      "[Parallel(n_jobs=1)]: Done 400 out of 400 | elapsed:    0.4s finished\n",
      "[Parallel(n_jobs=1)]: Done 400 out of 400 | elapsed:    0.4s finished\n"
     ]
    },
    {
     "name": "stdout",
     "output_type": "stream",
     "text": [
      "[CV] ...... max_features=30, n_estimators=400, score=0.853933 -   3.7s\n",
      "[CV] ...... max_features=30, n_estimators=400, score=0.820225 -   4.2s\n",
      "[CV] max_features=30, n_estimators=700 ...............................\n",
      "[CV] max_features=30, n_estimators=700 ...............................\n"
     ]
    },
    {
     "name": "stderr",
     "output_type": "stream",
     "text": [
      "[Parallel(n_jobs=5)]: Done 378 tasks      | elapsed:  5.1min\n",
      "[Parallel(n_jobs=5)]: Done 379 tasks      | elapsed:  5.1min\n",
      "[Parallel(n_jobs=1)]: Done 400 out of 400 | elapsed:    2.0s finished\n",
      "[Parallel(n_jobs=1)]: Done 400 out of 400 | elapsed:    0.7s finished\n"
     ]
    },
    {
     "name": "stdout",
     "output_type": "stream",
     "text": [
      "[CV] ...... max_features=30, n_estimators=400, score=0.829545 -   4.8s\n",
      "[CV] max_features=30, n_estimators=700 ...............................\n"
     ]
    },
    {
     "name": "stderr",
     "output_type": "stream",
     "text": [
      "[Parallel(n_jobs=5)]: Done 380 tasks      | elapsed:  5.1min\n",
      "[Parallel(n_jobs=1)]: Done 700 out of 700 | elapsed:    2.5s finished\n",
      "[Parallel(n_jobs=1)]: Done 700 out of 700 | elapsed:    2.6s finished\n",
      "[Parallel(n_jobs=1)]: Done 700 out of 700 | elapsed:    2.6s finished\n",
      "[Parallel(n_jobs=1)]: Done 700 out of 700 | elapsed:    0.7s finished\n"
     ]
    },
    {
     "name": "stdout",
     "output_type": "stream",
     "text": [
      "[CV] ...... max_features=30, n_estimators=700, score=0.844444 -   5.7s\n",
      "[CV] max_features=30, n_estimators=700 ...............................\n"
     ]
    },
    {
     "name": "stderr",
     "output_type": "stream",
     "text": [
      "[Parallel(n_jobs=5)]: Done 381 tasks      | elapsed:  5.2min\n",
      "[Parallel(n_jobs=1)]: Done 700 out of 700 | elapsed:    0.7s finished\n"
     ]
    },
    {
     "name": "stdout",
     "output_type": "stream",
     "text": [
      "[CV] ...... max_features=30, n_estimators=700, score=0.733333 -   6.3s\n",
      "[CV] max_features=30, n_estimators=700 ...............................\n"
     ]
    },
    {
     "name": "stderr",
     "output_type": "stream",
     "text": [
      "[Parallel(n_jobs=1)]: Done 700 out of 700 | elapsed:    0.7s finished\n"
     ]
    },
    {
     "name": "stdout",
     "output_type": "stream",
     "text": [
      "[CV] ...... max_features=30, n_estimators=700, score=0.764045 -   5.7s\n"
     ]
    },
    {
     "name": "stderr",
     "output_type": "stream",
     "text": [
      "[Parallel(n_jobs=1)]: Done 700 out of 700 | elapsed:    3.2s finished\n"
     ]
    },
    {
     "name": "stdout",
     "output_type": "stream",
     "text": [
      "[CV] max_features=30, n_estimators=700 ...............................\n"
     ]
    },
    {
     "name": "stderr",
     "output_type": "stream",
     "text": [
      "[Parallel(n_jobs=5)]: Done 382 tasks      | elapsed:  5.2min\n",
      "[Parallel(n_jobs=5)]: Done 383 tasks      | elapsed:  5.2min\n",
      "[Parallel(n_jobs=1)]: Done 700 out of 700 | elapsed:    0.7s finished\n"
     ]
    },
    {
     "name": "stdout",
     "output_type": "stream",
     "text": [
      "[CV] ...... max_features=30, n_estimators=700, score=0.865169 -   6.3s\n",
      "[CV] max_features=30, n_estimators=700 ...............................\n"
     ]
    },
    {
     "name": "stderr",
     "output_type": "stream",
     "text": [
      "[Parallel(n_jobs=5)]: Done 384 tasks      | elapsed:  5.2min\n",
      "[Parallel(n_jobs=1)]: Done 700 out of 700 | elapsed:    2.4s finished\n",
      "[Parallel(n_jobs=1)]: Done 700 out of 700 | elapsed:    1.1s finished\n"
     ]
    },
    {
     "name": "stdout",
     "output_type": "stream",
     "text": [
      "[CV] ...... max_features=30, n_estimators=700, score=0.820225 -   6.9s\n",
      "[CV] max_features=30, n_estimators=700 ...............................\n"
     ]
    },
    {
     "name": "stderr",
     "output_type": "stream",
     "text": [
      "[Parallel(n_jobs=5)]: Done 385 tasks      | elapsed:  5.3min\n",
      "[Parallel(n_jobs=1)]: Done 700 out of 700 | elapsed:    2.5s finished\n",
      "[Parallel(n_jobs=1)]: Done 700 out of 700 | elapsed:    2.5s finished\n",
      "[Parallel(n_jobs=1)]: Done 700 out of 700 | elapsed:    3.0s finished\n",
      "[Parallel(n_jobs=1)]: Done 700 out of 700 | elapsed:    0.8s finished\n"
     ]
    },
    {
     "name": "stdout",
     "output_type": "stream",
     "text": [
      "[CV] ...... max_features=30, n_estimators=700, score=0.808989 -   6.3s\n",
      "[CV] max_features=30, n_estimators=1000 ..............................\n"
     ]
    },
    {
     "name": "stderr",
     "output_type": "stream",
     "text": [
      "[Parallel(n_jobs=1)]: Done 700 out of 700 | elapsed:    0.9s finished\n",
      "[Parallel(n_jobs=1)]: Done 700 out of 700 | elapsed:    2.7s finished\n"
     ]
    },
    {
     "name": "stdout",
     "output_type": "stream",
     "text": [
      "[CV] ...... max_features=30, n_estimators=700, score=0.808989 -   6.6s\n",
      "[CV] max_features=30, n_estimators=1000 ..............................\n"
     ]
    },
    {
     "name": "stderr",
     "output_type": "stream",
     "text": [
      "[Parallel(n_jobs=5)]: Done 386 tasks      | elapsed:  5.3min\n",
      "[Parallel(n_jobs=5)]: Done 387 tasks      | elapsed:  5.3min\n",
      "[Parallel(n_jobs=1)]: Done 700 out of 700 | elapsed:    1.0s finished\n"
     ]
    },
    {
     "name": "stdout",
     "output_type": "stream",
     "text": [
      "[CV] ...... max_features=30, n_estimators=700, score=0.876404 -   7.2s\n",
      "[CV] max_features=30, n_estimators=1000 ..............................\n"
     ]
    },
    {
     "name": "stderr",
     "output_type": "stream",
     "text": [
      "[Parallel(n_jobs=5)]: Done 388 tasks      | elapsed:  5.3min\n",
      "[Parallel(n_jobs=1)]: Done 700 out of 700 | elapsed:    0.8s finished\n"
     ]
    },
    {
     "name": "stdout",
     "output_type": "stream",
     "text": [
      "[CV] ...... max_features=30, n_estimators=700, score=0.831461 -   6.6s\n",
      "[CV] max_features=30, n_estimators=1000 ..............................\n"
     ]
    },
    {
     "name": "stderr",
     "output_type": "stream",
     "text": [
      "[Parallel(n_jobs=5)]: Done 389 tasks      | elapsed:  5.3min\n",
      "[Parallel(n_jobs=1)]: Done 700 out of 700 | elapsed:    3.0s finished\n",
      "[Parallel(n_jobs=1)]: Done 700 out of 700 | elapsed:    0.9s finished\n"
     ]
    },
    {
     "name": "stdout",
     "output_type": "stream",
     "text": [
      "[CV] ...... max_features=30, n_estimators=700, score=0.829545 -   7.3s\n",
      "[CV] max_features=30, n_estimators=1000 ..............................\n"
     ]
    },
    {
     "name": "stderr",
     "output_type": "stream",
     "text": [
      "[Parallel(n_jobs=5)]: Done 390 tasks      | elapsed:  5.4min\n",
      "[Parallel(n_jobs=1)]: Done 1000 out of 1000 | elapsed:    3.5s finished\n",
      "[Parallel(n_jobs=1)]: Done 1000 out of 1000 | elapsed:    3.7s finished\n",
      "[Parallel(n_jobs=1)]: Done 1000 out of 1000 | elapsed:    1.1s finished\n"
     ]
    },
    {
     "name": "stdout",
     "output_type": "stream",
     "text": [
      "[CV] ..... max_features=30, n_estimators=1000, score=0.744444 -   8.2s\n",
      "[CV] max_features=30, n_estimators=1000 ..............................\n"
     ]
    },
    {
     "name": "stderr",
     "output_type": "stream",
     "text": [
      "[Parallel(n_jobs=5)]: Done 391 tasks      | elapsed:  5.5min\n",
      "[Parallel(n_jobs=1)]: Done 1000 out of 1000 | elapsed:    4.1s finished\n",
      "[Parallel(n_jobs=1)]: Done 1000 out of 1000 | elapsed:    0.9s finished\n"
     ]
    },
    {
     "name": "stdout",
     "output_type": "stream",
     "text": [
      "[CV] ..... max_features=30, n_estimators=1000, score=0.764045 -   8.4s\n",
      "[CV] max_features=30, n_estimators=1000 ..............................\n"
     ]
    },
    {
     "name": "stderr",
     "output_type": "stream",
     "text": [
      "[Parallel(n_jobs=1)]: Done 1000 out of 1000 | elapsed:    4.0s finished\n",
      "[Parallel(n_jobs=1)]: Done 1000 out of 1000 | elapsed:    1.1s finished\n"
     ]
    },
    {
     "name": "stdout",
     "output_type": "stream",
     "text": [
      "[CV] ..... max_features=30, n_estimators=1000, score=0.844444 -   9.5s\n",
      "[CV] max_features=30, n_estimators=1000 ..............................\n"
     ]
    },
    {
     "name": "stderr",
     "output_type": "stream",
     "text": [
      "[Parallel(n_jobs=1)]: Done 1000 out of 1000 | elapsed:    1.0s finished\n"
     ]
    },
    {
     "name": "stdout",
     "output_type": "stream",
     "text": [
      "[CV] ..... max_features=30, n_estimators=1000, score=0.865169 -   9.0s\n",
      "[CV] max_features=30, n_estimators=1000 ..............................\n"
     ]
    },
    {
     "name": "stderr",
     "output_type": "stream",
     "text": [
      "[Parallel(n_jobs=1)]: Done 1000 out of 1000 | elapsed:    4.0s finished\n",
      "[Parallel(n_jobs=1)]: Done 1000 out of 1000 | elapsed:    1.6s finished\n"
     ]
    },
    {
     "name": "stdout",
     "output_type": "stream",
     "text": [
      "[CV] ..... max_features=30, n_estimators=1000, score=0.820225 -   9.5s\n",
      "[CV] max_features=30, n_estimators=1000 ..............................\n"
     ]
    },
    {
     "name": "stderr",
     "output_type": "stream",
     "text": [
      "[Parallel(n_jobs=1)]: Done 1000 out of 1000 | elapsed:    4.7s finished\n",
      "[Parallel(n_jobs=1)]: Done 1000 out of 1000 | elapsed:    2.0s finished\n"
     ]
    },
    {
     "name": "stdout",
     "output_type": "stream",
     "text": [
      "[CV] ..... max_features=30, n_estimators=1000, score=0.876404 -  10.1s\n"
     ]
    },
    {
     "name": "stderr",
     "output_type": "stream",
     "text": [
      "[Parallel(n_jobs=1)]: Done 1000 out of 1000 | elapsed:    5.6s finished\n",
      "[Parallel(n_jobs=1)]: Done 1000 out of 1000 | elapsed:    5.6s finished\n",
      "[Parallel(n_jobs=1)]: Done 1000 out of 1000 | elapsed:    6.1s finished\n",
      "[Parallel(n_jobs=1)]: Done 1000 out of 1000 | elapsed:    1.4s finished\n"
     ]
    },
    {
     "name": "stdout",
     "output_type": "stream",
     "text": [
      "[CV] ..... max_features=30, n_estimators=1000, score=0.808989 -  11.1s\n"
     ]
    },
    {
     "name": "stderr",
     "output_type": "stream",
     "text": [
      "[Parallel(n_jobs=1)]: Done 1000 out of 1000 | elapsed:    1.1s finished\n"
     ]
    },
    {
     "name": "stdout",
     "output_type": "stream",
     "text": [
      "[CV] ..... max_features=30, n_estimators=1000, score=0.842697 -  10.4s\n"
     ]
    },
    {
     "name": "stderr",
     "output_type": "stream",
     "text": [
      "[Parallel(n_jobs=1)]: Done 1000 out of 1000 | elapsed:    1.0s finished\n"
     ]
    },
    {
     "name": "stdout",
     "output_type": "stream",
     "text": [
      "[CV] ..... max_features=30, n_estimators=1000, score=0.808989 -  11.1s\n"
     ]
    },
    {
     "name": "stderr",
     "output_type": "stream",
     "text": [
      "[Parallel(n_jobs=1)]: Done 1000 out of 1000 | elapsed:    3.8s finished\n",
      "[Parallel(n_jobs=1)]: Done 1000 out of 1000 | elapsed:    0.8s finished\n"
     ]
    },
    {
     "name": "stdout",
     "output_type": "stream",
     "text": [
      "[CV] ..... max_features=30, n_estimators=1000, score=0.829545 -  10.1s\n"
     ]
    },
    {
     "name": "stderr",
     "output_type": "stream",
     "text": [
      "[Parallel(n_jobs=5)]: Done 400 out of 400 | elapsed:  5.7min finished\n"
     ]
    },
    {
     "name": "stdout",
     "output_type": "stream",
     "text": [
      "--- Grid Search Completed: 5.72 minutes ---\n",
      "Param grid score:\n",
      "[mean: 0.81594, std: 0.03178, params: {'max_features': 7, 'n_estimators': 50}, mean: 0.81481, std: 0.02810, params: {'max_features': 7, 'n_estimators': 100}, mean: 0.81930, std: 0.02997, params: {'max_features': 7, 'n_estimators': 400}, mean: 0.82043, std: 0.02901, params: {'max_features': 7, 'n_estimators': 700}, mean: 0.81930, std: 0.03004, params: {'max_features': 7, 'n_estimators': 1000}, mean: 0.81818, std: 0.03064, params: {'max_features': 8, 'n_estimators': 50}, mean: 0.82043, std: 0.03290, params: {'max_features': 8, 'n_estimators': 100}, mean: 0.82155, std: 0.02867, params: {'max_features': 8, 'n_estimators': 400}, mean: 0.82155, std: 0.02743, params: {'max_features': 8, 'n_estimators': 700}, mean: 0.82155, std: 0.02655, params: {'max_features': 8, 'n_estimators': 1000}, mean: 0.82492, std: 0.02972, params: {'max_features': 10, 'n_estimators': 50}, mean: 0.82492, std: 0.03395, params: {'max_features': 10, 'n_estimators': 100}, mean: 0.82716, std: 0.02961, params: {'max_features': 10, 'n_estimators': 400}, mean: 0.82604, std: 0.02877, params: {'max_features': 10, 'n_estimators': 700}, mean: 0.82604, std: 0.02822, params: {'max_features': 10, 'n_estimators': 1000}, mean: 0.82828, std: 0.03197, params: {'max_features': 14, 'n_estimators': 50}, mean: 0.82941, std: 0.03329, params: {'max_features': 14, 'n_estimators': 100}, mean: 0.82379, std: 0.03486, params: {'max_features': 14, 'n_estimators': 400}, mean: 0.82267, std: 0.03367, params: {'max_features': 14, 'n_estimators': 700}, mean: 0.82267, std: 0.03367, params: {'max_features': 14, 'n_estimators': 1000}, mean: 0.82379, std: 0.03691, params: {'max_features': 18, 'n_estimators': 50}, mean: 0.82043, std: 0.03574, params: {'max_features': 18, 'n_estimators': 100}, mean: 0.82492, std: 0.03716, params: {'max_features': 18, 'n_estimators': 400}, mean: 0.82267, std: 0.03771, params: {'max_features': 18, 'n_estimators': 700}, mean: 0.82155, std: 0.03978, params: {'max_features': 18, 'n_estimators': 1000}, mean: 0.83165, std: 0.03410, params: {'max_features': 20, 'n_estimators': 50}, mean: 0.82379, std: 0.04195, params: {'max_features': 20, 'n_estimators': 100}, mean: 0.82155, std: 0.04168, params: {'max_features': 20, 'n_estimators': 400}, mean: 0.82379, std: 0.03855, params: {'max_features': 20, 'n_estimators': 700}, mean: 0.82492, std: 0.03726, params: {'max_features': 20, 'n_estimators': 1000}, mean: 0.81481, std: 0.03993, params: {'max_features': 25, 'n_estimators': 50}, mean: 0.82155, std: 0.04560, params: {'max_features': 25, 'n_estimators': 100}, mean: 0.82043, std: 0.04216, params: {'max_features': 25, 'n_estimators': 400}, mean: 0.82155, std: 0.04077, params: {'max_features': 25, 'n_estimators': 700}, mean: 0.82043, std: 0.04156, params: {'max_features': 25, 'n_estimators': 1000}, mean: 0.82267, std: 0.04450, params: {'max_features': 30, 'n_estimators': 50}, mean: 0.82155, std: 0.04189, params: {'max_features': 30, 'n_estimators': 100}, mean: 0.82267, std: 0.03993, params: {'max_features': 30, 'n_estimators': 400}, mean: 0.81818, std: 0.04110, params: {'max_features': 30, 'n_estimators': 700}, mean: 0.82043, std: 0.03938, params: {'max_features': 30, 'n_estimators': 1000}]\n",
      "Best Params:\n",
      "{'max_features': 20, 'n_estimators': 50}\n",
      "Best CV Score:\n",
      "0.83164983165\n",
      "--- Submission Generated: 5.72 minutes ---\n"
     ]
    },
    {
     "name": "stderr",
     "output_type": "stream",
     "text": [
      "[Parallel(n_jobs=1)]: Done  50 out of  50 | elapsed:    0.1s finished\n",
      "[Parallel(n_jobs=1)]: Done  50 out of  50 | elapsed:    0.0s finished\n"
     ]
    }
   ],
   "source": [
    "def main(input1='../data/preprocessing_train_df.csv', input2='../data/preprocessing_test_df.csv'):\n",
    "\n",
    "\n",
    "\n",
    "    start_time = time.time() \n",
    "    \n",
    "#load preprocessed training data as a dataframe\n",
    "    train_df = pd.read_csv(input1, index_col=0)\n",
    "    test_df  = pd.read_csv(input2, index_col=0)\n",
    "\n",
    "#  test_df = pd.read_csv(\"../data/preprocessing_test_df.csv\" , index_col=0)\n",
    "#  train_df.head()\n",
    "#    train_df.info()\n",
    "#    test_df.info()\n",
    "#    test_df.head(3)\n",
    "\n",
    "\n",
    "    x_train = train_df.iloc[:, 2:]\n",
    "    y_train = train_df.iloc[:, 1]\n",
    "\n",
    "    id_test = test_df['PassengerId']\n",
    "    x_test = test_df.iloc[:,1:]\n",
    "#    x_train.info()\n",
    "    \n",
    "    \n",
    "    print('--- Features Set: %s minutes ---' % round(((time.time() - start_time) / 60), 2))\n",
    "    print('Number of Features: ', len(x_train.columns.tolist()))\n",
    "    \n",
    "    \n",
    "# Grid Search for ExtraTreesClassifier    \n",
    "    \n",
    "    \n",
    "    exc = ExtraTreesClassifier(random_state=2016, n_jobs=1, verbose=1)\n",
    "\n",
    "    param_grid = {\"n_estimators\": [50], #[50, 100, 400, 700, 1000],\n",
    "             \"max_features\":[20] #[7,8,10,14,18,20,25,30]\n",
    "                 }\n",
    "\n",
    "    model = grid_search.GridSearchCV(estimator=exc, param_grid=param_grid, scoring='accuracy', cv=10, n_jobs=5, verbose=20)\n",
    "    model.fit(x_train, y_train)\n",
    "    \n",
    "    \n",
    "    print('--- Grid Search Completed: %s minutes ---' % round(((time.time() - start_time) / 60), 2))\n",
    "    print('Param grid score:')\n",
    "    print(model.grid_scores_)    \n",
    "    print('Best Params:')\n",
    "    print(model.best_params_)\n",
    "    print('Best CV Score:')\n",
    "    print(model.best_score_)\n",
    "\n",
    "    \n",
    "    y_pred = model.predict(x_test)\n",
    "\n",
    "    pd.DataFrame({'PassengerId': id_test, 'Survived': y_pred}).to_csv('../data/submission_ext.csv', index=False)\n",
    "    \n",
    "    print('--- Submission Generated: %s minutes ---' % round(((time.time() - start_time) / 60), 2))\n",
    "\n",
    "\n",
    "#if __name__ == '__main__':\n",
    "\n",
    "\n",
    "main()\n"
   ]
  },
  {
   "cell_type": "code",
   "execution_count": null,
   "metadata": {
    "collapsed": true,
    "deletable": true,
    "editable": true
   },
   "outputs": [],
   "source": []
  }
 ],
 "metadata": {
  "celltoolbar": "Raw Cell Format",
  "kernelspec": {
   "display_name": "Python 2",
   "language": "python",
   "name": "python2"
  },
  "language_info": {
   "codemirror_mode": {
    "name": "ipython",
    "version": 2
   },
   "file_extension": ".py",
   "mimetype": "text/x-python",
   "name": "python",
   "nbconvert_exporter": "python",
   "pygments_lexer": "ipython2",
   "version": "2.7.12"
  }
 },
 "nbformat": 4,
 "nbformat_minor": 2
}
