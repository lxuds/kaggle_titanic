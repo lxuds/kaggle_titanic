{
 "cells": [
  {
   "cell_type": "code",
   "execution_count": 44,
   "metadata": {
    "collapsed": false,
    "deletable": true,
    "editable": true
   },
   "outputs": [],
   "source": [
    "\n",
    "import warnings\n",
    "warnings.filterwarnings(\"ignore\")\n",
    "import pandas as pd\n",
    "from pandas import Series,DataFrame\n",
    "import numpy as np\n",
    "from matplotlib import cm\n",
    "import matplotlib.pyplot as plt\n",
    "import seaborn as sns\n",
    "#import xgboost as xgb\n",
    "sns.set_style('whitegrid') \n",
    "%matplotlib inline\n",
    "\n",
    "from sklearn.ensemble import RandomForestClassifier\n",
    "from sklearn.model_selection import GridSearchCV\n",
    "from sklearn import pipeline, grid_search\n",
    "\n",
    "import random\n",
    "random.seed(2016)\n",
    "\n",
    "import time"
   ]
  },
  {
   "cell_type": "code",
   "execution_count": 52,
   "metadata": {
    "collapsed": false,
    "deletable": true,
    "editable": true,
    "scrolled": true
   },
   "outputs": [
    {
     "name": "stdout",
     "output_type": "stream",
     "text": [
      "--- Features Set: 0.0 minutes ---\n",
      "('Number of Features: ', 44)\n",
      "--- Grid Search Completed: 249.63 minutes ---\n",
      "Best Params:\n",
      "{'max_features': 30, 'min_samples_split': 10, 'n_estimators': 50, 'criterion': 'entropy', 'min_samples_leaf': 1}\n",
      "Best CV Score:\n",
      "-0.850729517396\n",
      "--- Submission Generated: 249.63 minutes ---\n"
     ]
    }
   ],
   "source": [
    "def main(input1='../data/preprocessing_train_df.csv', input2='../data/preprocessing_test_df.csv'):\n",
    "\n",
    "\n",
    "\n",
    "    start_time = time.time() \n",
    "    \n",
    "#load preprocessed training data as a dataframe\n",
    "    train_df = pd.read_csv(input1, index_col=0)\n",
    "    test_df  = pd.read_csv(input2, index_col=0)\n",
    "\n",
    "#  test_df = pd.read_csv(\"../data/preprocessing_test_df.csv\" , index_col=0)\n",
    "#  train_df.head()\n",
    "#    train_df.info()\n",
    "#    test_df.info()\n",
    "#    test_df.head(3)\n",
    "\n",
    "\n",
    "    x_train = train_df.iloc[:, 2:]\n",
    "    y_train = train_df.iloc[:, 1]\n",
    "\n",
    "    id_test = test_df['PassengerId']\n",
    "    x_test = test_df.iloc[:,1:]\n",
    "#    x_train.info()\n",
    "    \n",
    "    \n",
    "    print('--- Features Set: %s minutes ---' % round(((time.time() - start_time) / 60), 2))\n",
    "    print('Number of Features: ', len(x_train.columns.tolist()))\n",
    "    \n",
    "    \n",
    "# Grid Search for RandomForestClassifier    \n",
    "    \n",
    "    \n",
    "    rf = RandomForestClassifier(oob_score=True, random_state=1, n_jobs=1)\n",
    "\n",
    "    param_grid = { \"criterion\" : [\"gini\", \"entropy\"], \"min_samples_leaf\" : [1, 5, 10], \n",
    "              \"min_samples_split\" : [2, 4, 10, 12, 16], \"n_estimators\": [50, 100, 400, 700, 1000],\n",
    "             \"max_features\":[7,8,10,14,18,20,25,30]}\n",
    "\n",
    "\n",
    "#    param_grid = { \"criterion\" : [\"gini\", \"entropy\"], \"min_samples_leaf\" : [ 10], \n",
    "#              \"min_samples_split\" : [ 10], \"n_estimators\": [100],\n",
    "#             \"max_features\":[8,10,14,18, 20, 25, 30]}\n",
    "\n",
    "\n",
    "    model = grid_search.GridSearchCV(estimator=rf, param_grid=param_grid, scoring='accuracy', cv=5, n_jobs=1)\n",
    "    model.fit(x_train, y_train)\n",
    "    \n",
    "    \n",
    "    print('--- Grid Search Completed: %s minutes ---' % round(((time.time() - start_time) / 60), 2))\n",
    "    print('Best Params:')\n",
    "    print(model.best_params_)\n",
    "    print('Best CV Score:')\n",
    "    print(-model.best_score_)\n",
    "\n",
    "    \n",
    "    y_pred = model.predict(x_test)\n",
    "\n",
    "    pd.DataFrame({'PassengerId': id_test, 'Survived': y_pred}).to_csv('../data/submission_rf.csv', index=False)\n",
    "    \n",
    "    print('--- Submission Generated: %s minutes ---' % round(((time.time() - start_time) / 60), 2))\n",
    "\n",
    "\n",
    "#if __name__ == '__main__':\n",
    "\n",
    "\n",
    "main()\n"
   ]
  },
  {
   "cell_type": "code",
   "execution_count": null,
   "metadata": {
    "collapsed": true,
    "deletable": true,
    "editable": true
   },
   "outputs": [],
   "source": []
  }
 ],
 "metadata": {
  "celltoolbar": "Raw Cell Format",
  "kernelspec": {
   "display_name": "Python 2",
   "language": "python",
   "name": "python2"
  },
  "language_info": {
   "codemirror_mode": {
    "name": "ipython",
    "version": 2
   },
   "file_extension": ".py",
   "mimetype": "text/x-python",
   "name": "python",
   "nbconvert_exporter": "python",
   "pygments_lexer": "ipython2",
   "version": "2.7.12"
  }
 },
 "nbformat": 4,
 "nbformat_minor": 2
}
