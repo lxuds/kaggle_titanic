{
 "cells": [
  {
   "cell_type": "code",
   "execution_count": 1,
   "metadata": {
    "collapsed": false,
    "deletable": true,
    "editable": true
   },
   "outputs": [
    {
     "name": "stderr",
     "output_type": "stream",
     "text": [
      "/usr/local/lib/python2.7/dist-packages/scikit_learn-0.18.1-py2.7-linux-x86_64.egg/sklearn/cross_validation.py:44: DeprecationWarning: This module was deprecated in version 0.18 in favor of the model_selection module into which all the refactored classes and functions are moved. Also note that the interface of the new CV iterators are different from that of this module. This module will be removed in 0.20.\n",
      "  \"This module will be removed in 0.20.\", DeprecationWarning)\n",
      "/usr/local/lib/python2.7/dist-packages/scikit_learn-0.18.1-py2.7-linux-x86_64.egg/sklearn/grid_search.py:43: DeprecationWarning: This module was deprecated in version 0.18 in favor of the model_selection module into which all the refactored classes and functions are moved. This module will be removed in 0.20.\n",
      "  DeprecationWarning)\n"
     ]
    }
   ],
   "source": [
    "\n",
    "import warnings\n",
    "warnings.filterwarnings(\"ignore\")\n",
    "import pandas as pd\n",
    "from pandas import Series,DataFrame\n",
    "import numpy as np\n",
    "from matplotlib import cm\n",
    "import matplotlib.pyplot as plt\n",
    "import seaborn as sns\n",
    "#import xgboost as xgb\n",
    "sns.set_style('whitegrid') \n",
    "%matplotlib inline\n",
    "\n",
    "import xgboost as xgb\n",
    "from sklearn import pipeline, grid_search\n",
    "\n",
    "import random\n",
    "random.seed(2016)\n",
    "\n",
    "import time"
   ]
  },
  {
   "cell_type": "code",
   "execution_count": 5,
   "metadata": {
    "collapsed": false,
    "deletable": true,
    "editable": true,
    "scrolled": true
   },
   "outputs": [
    {
     "name": "stdout",
     "output_type": "stream",
     "text": [
      "--- Features Set: 0.0 minutes ---\n",
      "--- Grid Search Completed: 0.17 minutes ---\n",
      "Param grid:\n",
      "{'n_estimators': [1000], 'subsample': [0.8], 'learning_rate': [0.2], 'colsample_bytree': [0.8], 'max_depth': [3, 4, 5]}\n",
      "Best Params:\n",
      "{'n_estimators': 1000, 'subsample': 0.8, 'learning_rate': 0.2, 'colsample_bytree': 0.8, 'max_depth': 5}\n",
      "Best CV Score:\n",
      "-0.821548821549\n",
      "--- Submission Generated: 0.17 minutes ---\n"
     ]
    }
   ],
   "source": [
    "def main(input1='../data/preprocessing_train_df.csv', input2='../data/preprocessing_test_df.csv'):\n",
    "\n",
    "\n",
    "\n",
    "    start_time = time.time() \n",
    "    \n",
    "#load preprocessed training data as a dataframe\n",
    "    train_df = pd.read_csv(input1, index_col=0)\n",
    "    test_df  = pd.read_csv(input2, index_col=0)\n",
    "\n",
    "#  test_df = pd.read_csv(\"../data/preprocessing_test_df.csv\" , index_col=0)\n",
    "#  train_df.head()\n",
    "#    train_df.info()\n",
    "#    test_df.info()\n",
    "#    test_df.head(3)\n",
    "\n",
    "\n",
    "    x_train = train_df.iloc[:, 2:].as_matrix()\n",
    "    y_train = train_df.iloc[:, 1]\n",
    "\n",
    "    id_test = test_df['PassengerId']\n",
    "    x_test = test_df.iloc[:,1:].as_matrix()\n",
    "#    x_train.info()\n",
    "    \n",
    "    \n",
    "    print('--- Features Set: %s minutes ---' % round(((time.time() - start_time) / 60), 2))\n",
    "#    print('Number of Features: ', len(x_train.columns.tolist()))\n",
    "    \n",
    "    \n",
    "# Grid Search for XGBClassifier    \n",
    "    \n",
    "    \n",
    "    clf = xgb.XGBClassifier(seed=2016)\n",
    "\n",
    "    param_grid = {\n",
    "        'n_estimators': [1000],\n",
    "        'learning_rate': [0.05, 0.1, 0.2],\n",
    "        'max_depth': [3,4,5],\n",
    "        'subsample': [0.8],\n",
    "        'colsample_bytree': [0.8] \n",
    "    }\n",
    "#    param_grid = {\n",
    "#        'n_estimators': [300],\n",
    "#        'learning_rate': [0.05],\n",
    "#        'max_depth': [7],\n",
    "#        'subsample': [0.8],\n",
    "#        'colsample_bytree': [0.8, 0.85] \n",
    "#    }\n",
    "        \n",
    "    \n",
    "\n",
    "    model = grid_search.GridSearchCV(estimator=clf, param_grid=param_grid, \n",
    "                                     scoring='accuracy', cv=5, n_jobs=1)\n",
    "    model.fit(x_train, y_train)\n",
    "    \n",
    "    \n",
    "    print('--- Grid Search Completed: %s minutes ---' % round(((time.time() - start_time) / 60), 2))\n",
    "    print('Param grid:')\n",
    "    print(param_grid)\n",
    "    print('Best Params:')\n",
    "    print(model.best_params_)\n",
    "    print('Best CV Score:')\n",
    "    print(-model.best_score_)\n",
    "\n",
    "    \n",
    "    y_pred = model.predict(x_test)\n",
    "\n",
    "    pd.DataFrame({'PassengerId': id_test, 'Survived': y_pred}).to_csv('../data/submission_xgb.csv', index=False)\n",
    "    \n",
    "    print('--- Submission Generated: %s minutes ---' % round(((time.time() - start_time) / 60), 2))\n",
    "\n",
    "\n",
    "#if __name__ == '__main__':\n",
    "\n",
    "\n",
    "main()\n"
   ]
  },
  {
   "cell_type": "code",
   "execution_count": null,
   "metadata": {
    "collapsed": true,
    "deletable": true,
    "editable": true
   },
   "outputs": [],
   "source": []
  }
 ],
 "metadata": {
  "kernelspec": {
   "display_name": "Python 2",
   "language": "python",
   "name": "python2"
  },
  "language_info": {
   "codemirror_mode": {
    "name": "ipython",
    "version": 2
   },
   "file_extension": ".py",
   "mimetype": "text/x-python",
   "name": "python",
   "nbconvert_exporter": "python",
   "pygments_lexer": "ipython2",
   "version": "2.7.12"
  }
 },
 "nbformat": 4,
 "nbformat_minor": 2
}
